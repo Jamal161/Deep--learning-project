{
 "cells": [
  {
   "cell_type": "markdown",
   "metadata": {},
   "source": [
    "# computer vision kernel"
   ]
  },
  {
   "cell_type": "markdown",
   "metadata": {},
   "source": [
    "<a>1- how to make Hyperparameter tunning for neural network </a>\n",
    "\n"
   ]
  },
  {
   "cell_type": "code",
   "execution_count": 10,
   "metadata": {},
   "outputs": [
    {
     "name": "stdout",
     "output_type": "stream",
     "text": [
      "Collecting keras-tuner-1.0.2rc0\n",
      "  Cloning https://github.com/keras-team/keras-tuner.git (to revision 1.0.2rc0) to /tmp/pip-install-ogzzipy5/keras-tuner-1-0-2rc0\n",
      "\u001b[33m  WARNING: Generating metadata for package keras-tuner-1.0.2rc0 produced metadata for project name keras-tuner. Fix your #egg=keras-tuner-1.0.2rc0 fragments.\u001b[0m\n",
      "Requirement already satisfied: packaging in /home/ec2-user/anaconda3/envs/tensorflow2_p36/lib/python3.6/site-packages (from keras-tuner) (20.1)\n",
      "Requirement already satisfied: future in /home/ec2-user/anaconda3/envs/tensorflow2_p36/lib/python3.6/site-packages (from keras-tuner) (0.18.2)\n",
      "Requirement already satisfied: numpy in /home/ec2-user/anaconda3/envs/tensorflow2_p36/lib/python3.6/site-packages (from keras-tuner) (1.18.1)\n",
      "Collecting tabulate\n",
      "  Downloading tabulate-0.8.7-py3-none-any.whl (24 kB)\n",
      "Collecting terminaltables\n",
      "  Downloading terminaltables-3.1.0.tar.gz (12 kB)\n",
      "Requirement already satisfied: colorama in /home/ec2-user/anaconda3/envs/tensorflow2_p36/lib/python3.6/site-packages (from keras-tuner) (0.4.3)\n",
      "Requirement already satisfied: tqdm in /home/ec2-user/anaconda3/envs/tensorflow2_p36/lib/python3.6/site-packages (from keras-tuner) (4.42.1)\n",
      "Requirement already satisfied: requests in /home/ec2-user/anaconda3/envs/tensorflow2_p36/lib/python3.6/site-packages (from keras-tuner) (2.22.0)\n",
      "Requirement already satisfied: scipy in /home/ec2-user/anaconda3/envs/tensorflow2_p36/lib/python3.6/site-packages (from keras-tuner) (1.4.1)\n",
      "Requirement already satisfied: scikit-learn in /home/ec2-user/anaconda3/envs/tensorflow2_p36/lib/python3.6/site-packages (from keras-tuner) (0.22.1)\n",
      "Requirement already satisfied: six in /home/ec2-user/anaconda3/envs/tensorflow2_p36/lib/python3.6/site-packages (from packaging->keras-tuner) (1.14.0)\n",
      "Requirement already satisfied: pyparsing>=2.0.2 in /home/ec2-user/anaconda3/envs/tensorflow2_p36/lib/python3.6/site-packages (from packaging->keras-tuner) (2.4.6)\n",
      "Requirement already satisfied: chardet<3.1.0,>=3.0.2 in /home/ec2-user/anaconda3/envs/tensorflow2_p36/lib/python3.6/site-packages (from requests->keras-tuner) (3.0.4)\n",
      "Requirement already satisfied: idna<2.9,>=2.5 in /home/ec2-user/anaconda3/envs/tensorflow2_p36/lib/python3.6/site-packages (from requests->keras-tuner) (2.8)\n",
      "Requirement already satisfied: certifi>=2017.4.17 in /home/ec2-user/anaconda3/envs/tensorflow2_p36/lib/python3.6/site-packages (from requests->keras-tuner) (2020.6.20)\n",
      "Requirement already satisfied: urllib3!=1.25.0,!=1.25.1,<1.26,>=1.21.1 in /home/ec2-user/anaconda3/envs/tensorflow2_p36/lib/python3.6/site-packages (from requests->keras-tuner) (1.25.10)\n",
      "Requirement already satisfied: joblib>=0.11 in /home/ec2-user/anaconda3/envs/tensorflow2_p36/lib/python3.6/site-packages (from scikit-learn->keras-tuner) (0.14.1)\n",
      "Building wheels for collected packages: keras-tuner, keras-tuner, terminaltables\n",
      "  Building wheel for keras-tuner (setup.py) ... \u001b[?25ldone\n",
      "\u001b[?25h  Created wheel for keras-tuner: filename=keras_tuner-1.0.2rc0-py3-none-any.whl size=89057 sha256=5f442c539946401386a09eb9f1c562bac8fc669daa3f879e4903051d3dc744f1\n",
      "  Stored in directory: /tmp/pip-ephem-wheel-cache-zedc8n1b/wheels/da/a5/bf/a92a33d0d9453438798ac6bfedd9ad31d0a78717c294e3cf8e\n",
      "  Building wheel for keras-tuner (setup.py) ... \u001b[?25ldone\n",
      "\u001b[?25h  Created wheel for keras-tuner: filename=keras_tuner-1.0.2rc0-py3-none-any.whl size=89057 sha256=5f442c539946401386a09eb9f1c562bac8fc669daa3f879e4903051d3dc744f1\n",
      "  Stored in directory: /home/ec2-user/.cache/pip/wheels/c7/65/41/06ed996104eff2489ecdd9474f22a6a248b5efabf9855596d2\n",
      "  Building wheel for terminaltables (setup.py) ... \u001b[?25ldone\n",
      "\u001b[?25h  Created wheel for terminaltables: filename=terminaltables-3.1.0-py3-none-any.whl size=15354 sha256=5b74d6f051930b9a1d2f028ad1fe92b6aeb49a615ca1e090057cfba90ac67815\n",
      "  Stored in directory: /home/ec2-user/.cache/pip/wheels/86/1b/58/c23af2fe683acd8edc15d5a1268f0242be1ff2cf827fe34737\n",
      "Successfully built keras-tuner keras-tuner terminaltables\n",
      "Installing collected packages: tabulate, terminaltables, keras-tuner\n",
      "Successfully installed keras-tuner-1.0.2rc0 tabulate-0.8.7 terminaltables-3.1.0\n",
      "Note: you may need to restart the kernel to use updated packages.\n"
     ]
    }
   ],
   "source": [
    "## install all requirment to use keras tuner\n",
    "\n",
    "pip install git+https://github.com/keras-team/keras-tuner.git@1.0.2rc0#egg=keras-tuner-1.0.2rc0"
   ]
  },
  {
   "cell_type": "code",
   "execution_count": 121,
   "metadata": {},
   "outputs": [],
   "source": [
    "import pandas as pd\n",
    "from tensorflow import keras\n",
    "from keras.models import Sequential\n",
    "from tensorflow.keras import layers\n",
    "from kerastuner.tuners import RandomSearch\n",
    "from keras.layers import Dense\n"
   ]
  },
  {
   "cell_type": "code",
   "execution_count": 2,
   "metadata": {},
   "outputs": [
    {
     "name": "stdout",
     "output_type": "stream",
     "text": [
      "--2020-11-11 18:52:11--  https://github.com/krishnaik06/Keras-Tuner/blob/main/Real_Combine.csv\n",
      "Resolving github.com (github.com)... 140.82.114.3\n",
      "Connecting to github.com (github.com)|140.82.114.3|:443... connected.\n",
      "HTTP request sent, awaiting response... 200 OK\n",
      "Length: unspecified [text/html]\n",
      "Saving to: ‘Real_Combine.csv’\n",
      "\n",
      "Real_Combine.csv        [ <=>                ] 517.99K  --.-KB/s    in 0.03s   \n",
      "\n",
      "2020-11-11 18:52:11 (15.9 MB/s) - ‘Real_Combine.csv’ saved [530425]\n",
      "\n"
     ]
    }
   ],
   "source": [
    "!wget https://github.com/krishnaik06/Keras-Tuner/blob/main/Real_Combine.csv"
   ]
  },
  {
   "cell_type": "code",
   "execution_count": 4,
   "metadata": {},
   "outputs": [
    {
     "name": "stdout",
     "output_type": "stream",
     "text": [
      "annotations  Hyperparameter_Tuner .ipynb  images  lost+found  Real_Combine.csv\r\n"
     ]
    }
   ],
   "source": [
    "!ls"
   ]
  },
  {
   "cell_type": "code",
   "execution_count": 122,
   "metadata": {},
   "outputs": [
    {
     "data": {
      "text/html": [
       "<div>\n",
       "<style scoped>\n",
       "    .dataframe tbody tr th:only-of-type {\n",
       "        vertical-align: middle;\n",
       "    }\n",
       "\n",
       "    .dataframe tbody tr th {\n",
       "        vertical-align: top;\n",
       "    }\n",
       "\n",
       "    .dataframe thead th {\n",
       "        text-align: right;\n",
       "    }\n",
       "</style>\n",
       "<table border=\"1\" class=\"dataframe\">\n",
       "  <thead>\n",
       "    <tr style=\"text-align: right;\">\n",
       "      <th></th>\n",
       "      <th>id</th>\n",
       "      <th>diagnosis</th>\n",
       "      <th>radius_mean</th>\n",
       "      <th>texture_mean</th>\n",
       "      <th>perimeter_mean</th>\n",
       "      <th>area_mean</th>\n",
       "      <th>smoothness_mean</th>\n",
       "      <th>compactness_mean</th>\n",
       "      <th>concavity_mean</th>\n",
       "      <th>concave points_mean</th>\n",
       "      <th>...</th>\n",
       "      <th>texture_worst</th>\n",
       "      <th>perimeter_worst</th>\n",
       "      <th>area_worst</th>\n",
       "      <th>smoothness_worst</th>\n",
       "      <th>compactness_worst</th>\n",
       "      <th>concavity_worst</th>\n",
       "      <th>concave points_worst</th>\n",
       "      <th>symmetry_worst</th>\n",
       "      <th>fractal_dimension_worst</th>\n",
       "      <th>Unnamed: 32</th>\n",
       "    </tr>\n",
       "  </thead>\n",
       "  <tbody>\n",
       "    <tr>\n",
       "      <th>0</th>\n",
       "      <td>842302</td>\n",
       "      <td>M</td>\n",
       "      <td>17.99</td>\n",
       "      <td>10.38</td>\n",
       "      <td>122.80</td>\n",
       "      <td>1001.0</td>\n",
       "      <td>0.11840</td>\n",
       "      <td>0.27760</td>\n",
       "      <td>0.3001</td>\n",
       "      <td>0.14710</td>\n",
       "      <td>...</td>\n",
       "      <td>17.33</td>\n",
       "      <td>184.60</td>\n",
       "      <td>2019.0</td>\n",
       "      <td>0.1622</td>\n",
       "      <td>0.6656</td>\n",
       "      <td>0.7119</td>\n",
       "      <td>0.2654</td>\n",
       "      <td>0.4601</td>\n",
       "      <td>0.11890</td>\n",
       "      <td>NaN</td>\n",
       "    </tr>\n",
       "    <tr>\n",
       "      <th>1</th>\n",
       "      <td>842517</td>\n",
       "      <td>M</td>\n",
       "      <td>20.57</td>\n",
       "      <td>17.77</td>\n",
       "      <td>132.90</td>\n",
       "      <td>1326.0</td>\n",
       "      <td>0.08474</td>\n",
       "      <td>0.07864</td>\n",
       "      <td>0.0869</td>\n",
       "      <td>0.07017</td>\n",
       "      <td>...</td>\n",
       "      <td>23.41</td>\n",
       "      <td>158.80</td>\n",
       "      <td>1956.0</td>\n",
       "      <td>0.1238</td>\n",
       "      <td>0.1866</td>\n",
       "      <td>0.2416</td>\n",
       "      <td>0.1860</td>\n",
       "      <td>0.2750</td>\n",
       "      <td>0.08902</td>\n",
       "      <td>NaN</td>\n",
       "    </tr>\n",
       "    <tr>\n",
       "      <th>2</th>\n",
       "      <td>84300903</td>\n",
       "      <td>M</td>\n",
       "      <td>19.69</td>\n",
       "      <td>21.25</td>\n",
       "      <td>130.00</td>\n",
       "      <td>1203.0</td>\n",
       "      <td>0.10960</td>\n",
       "      <td>0.15990</td>\n",
       "      <td>0.1974</td>\n",
       "      <td>0.12790</td>\n",
       "      <td>...</td>\n",
       "      <td>25.53</td>\n",
       "      <td>152.50</td>\n",
       "      <td>1709.0</td>\n",
       "      <td>0.1444</td>\n",
       "      <td>0.4245</td>\n",
       "      <td>0.4504</td>\n",
       "      <td>0.2430</td>\n",
       "      <td>0.3613</td>\n",
       "      <td>0.08758</td>\n",
       "      <td>NaN</td>\n",
       "    </tr>\n",
       "    <tr>\n",
       "      <th>3</th>\n",
       "      <td>84348301</td>\n",
       "      <td>M</td>\n",
       "      <td>11.42</td>\n",
       "      <td>20.38</td>\n",
       "      <td>77.58</td>\n",
       "      <td>386.1</td>\n",
       "      <td>0.14250</td>\n",
       "      <td>0.28390</td>\n",
       "      <td>0.2414</td>\n",
       "      <td>0.10520</td>\n",
       "      <td>...</td>\n",
       "      <td>26.50</td>\n",
       "      <td>98.87</td>\n",
       "      <td>567.7</td>\n",
       "      <td>0.2098</td>\n",
       "      <td>0.8663</td>\n",
       "      <td>0.6869</td>\n",
       "      <td>0.2575</td>\n",
       "      <td>0.6638</td>\n",
       "      <td>0.17300</td>\n",
       "      <td>NaN</td>\n",
       "    </tr>\n",
       "    <tr>\n",
       "      <th>4</th>\n",
       "      <td>84358402</td>\n",
       "      <td>M</td>\n",
       "      <td>20.29</td>\n",
       "      <td>14.34</td>\n",
       "      <td>135.10</td>\n",
       "      <td>1297.0</td>\n",
       "      <td>0.10030</td>\n",
       "      <td>0.13280</td>\n",
       "      <td>0.1980</td>\n",
       "      <td>0.10430</td>\n",
       "      <td>...</td>\n",
       "      <td>16.67</td>\n",
       "      <td>152.20</td>\n",
       "      <td>1575.0</td>\n",
       "      <td>0.1374</td>\n",
       "      <td>0.2050</td>\n",
       "      <td>0.4000</td>\n",
       "      <td>0.1625</td>\n",
       "      <td>0.2364</td>\n",
       "      <td>0.07678</td>\n",
       "      <td>NaN</td>\n",
       "    </tr>\n",
       "  </tbody>\n",
       "</table>\n",
       "<p>5 rows × 33 columns</p>\n",
       "</div>"
      ],
      "text/plain": [
       "         id diagnosis  radius_mean  texture_mean  perimeter_mean  area_mean  \\\n",
       "0    842302         M        17.99         10.38          122.80     1001.0   \n",
       "1    842517         M        20.57         17.77          132.90     1326.0   \n",
       "2  84300903         M        19.69         21.25          130.00     1203.0   \n",
       "3  84348301         M        11.42         20.38           77.58      386.1   \n",
       "4  84358402         M        20.29         14.34          135.10     1297.0   \n",
       "\n",
       "   smoothness_mean  compactness_mean  concavity_mean  concave points_mean  \\\n",
       "0          0.11840           0.27760          0.3001              0.14710   \n",
       "1          0.08474           0.07864          0.0869              0.07017   \n",
       "2          0.10960           0.15990          0.1974              0.12790   \n",
       "3          0.14250           0.28390          0.2414              0.10520   \n",
       "4          0.10030           0.13280          0.1980              0.10430   \n",
       "\n",
       "   ...  texture_worst  perimeter_worst  area_worst  smoothness_worst  \\\n",
       "0  ...          17.33           184.60      2019.0            0.1622   \n",
       "1  ...          23.41           158.80      1956.0            0.1238   \n",
       "2  ...          25.53           152.50      1709.0            0.1444   \n",
       "3  ...          26.50            98.87       567.7            0.2098   \n",
       "4  ...          16.67           152.20      1575.0            0.1374   \n",
       "\n",
       "   compactness_worst  concavity_worst  concave points_worst  symmetry_worst  \\\n",
       "0             0.6656           0.7119                0.2654          0.4601   \n",
       "1             0.1866           0.2416                0.1860          0.2750   \n",
       "2             0.4245           0.4504                0.2430          0.3613   \n",
       "3             0.8663           0.6869                0.2575          0.6638   \n",
       "4             0.2050           0.4000                0.1625          0.2364   \n",
       "\n",
       "   fractal_dimension_worst  Unnamed: 32  \n",
       "0                  0.11890          NaN  \n",
       "1                  0.08902          NaN  \n",
       "2                  0.08758          NaN  \n",
       "3                  0.17300          NaN  \n",
       "4                  0.07678          NaN  \n",
       "\n",
       "[5 rows x 33 columns]"
      ]
     },
     "execution_count": 122,
     "metadata": {},
     "output_type": "execute_result"
    }
   ],
   "source": [
    "df=pd.read_csv('data.csv')\n",
    "df.head()"
   ]
  },
  {
   "cell_type": "code",
   "execution_count": 123,
   "metadata": {},
   "outputs": [
    {
     "data": {
      "text/plain": [
       "Index(['id', 'diagnosis', 'radius_mean', 'texture_mean', 'perimeter_mean',\n",
       "       'area_mean', 'smoothness_mean', 'compactness_mean', 'concavity_mean',\n",
       "       'concave points_mean', 'symmetry_mean', 'fractal_dimension_mean',\n",
       "       'radius_se', 'texture_se', 'perimeter_se', 'area_se', 'smoothness_se',\n",
       "       'compactness_se', 'concavity_se', 'concave points_se', 'symmetry_se',\n",
       "       'fractal_dimension_se', 'radius_worst', 'texture_worst',\n",
       "       'perimeter_worst', 'area_worst', 'smoothness_worst',\n",
       "       'compactness_worst', 'concavity_worst', 'concave points_worst',\n",
       "       'symmetry_worst', 'fractal_dimension_worst', 'Unnamed: 32'],\n",
       "      dtype='object')"
      ]
     },
     "execution_count": 123,
     "metadata": {},
     "output_type": "execute_result"
    }
   ],
   "source": [
    "df.columns"
   ]
  },
  {
   "cell_type": "code",
   "execution_count": 124,
   "metadata": {},
   "outputs": [],
   "source": [
    "df.drop(['id', 'Unnamed: 32'] , axis =1 , inplace =True)"
   ]
  },
  {
   "cell_type": "code",
   "execution_count": 125,
   "metadata": {},
   "outputs": [
    {
     "data": {
      "text/plain": [
       "Index(['diagnosis', 'radius_mean', 'texture_mean', 'perimeter_mean',\n",
       "       'area_mean', 'smoothness_mean', 'compactness_mean', 'concavity_mean',\n",
       "       'concave points_mean', 'symmetry_mean', 'fractal_dimension_mean',\n",
       "       'radius_se', 'texture_se', 'perimeter_se', 'area_se', 'smoothness_se',\n",
       "       'compactness_se', 'concavity_se', 'concave points_se', 'symmetry_se',\n",
       "       'fractal_dimension_se', 'radius_worst', 'texture_worst',\n",
       "       'perimeter_worst', 'area_worst', 'smoothness_worst',\n",
       "       'compactness_worst', 'concavity_worst', 'concave points_worst',\n",
       "       'symmetry_worst', 'fractal_dimension_worst'],\n",
       "      dtype='object')"
      ]
     },
     "execution_count": 125,
     "metadata": {},
     "output_type": "execute_result"
    }
   ],
   "source": [
    "df.columns"
   ]
  },
  {
   "cell_type": "code",
   "execution_count": 126,
   "metadata": {},
   "outputs": [],
   "source": [
    "y = df.iloc[: ,0]\n",
    "x = df.iloc[:,1:]"
   ]
  },
  {
   "cell_type": "code",
   "execution_count": 127,
   "metadata": {},
   "outputs": [
    {
     "name": "stdout",
     "output_type": "stream",
     "text": [
      "<class 'pandas.core.frame.DataFrame'>\n",
      "RangeIndex: 569 entries, 0 to 568\n",
      "Data columns (total 31 columns):\n",
      " #   Column                   Non-Null Count  Dtype  \n",
      "---  ------                   --------------  -----  \n",
      " 0   diagnosis                569 non-null    object \n",
      " 1   radius_mean              569 non-null    float64\n",
      " 2   texture_mean             569 non-null    float64\n",
      " 3   perimeter_mean           569 non-null    float64\n",
      " 4   area_mean                569 non-null    float64\n",
      " 5   smoothness_mean          569 non-null    float64\n",
      " 6   compactness_mean         569 non-null    float64\n",
      " 7   concavity_mean           569 non-null    float64\n",
      " 8   concave points_mean      569 non-null    float64\n",
      " 9   symmetry_mean            569 non-null    float64\n",
      " 10  fractal_dimension_mean   569 non-null    float64\n",
      " 11  radius_se                569 non-null    float64\n",
      " 12  texture_se               569 non-null    float64\n",
      " 13  perimeter_se             569 non-null    float64\n",
      " 14  area_se                  569 non-null    float64\n",
      " 15  smoothness_se            569 non-null    float64\n",
      " 16  compactness_se           569 non-null    float64\n",
      " 17  concavity_se             569 non-null    float64\n",
      " 18  concave points_se        569 non-null    float64\n",
      " 19  symmetry_se              569 non-null    float64\n",
      " 20  fractal_dimension_se     569 non-null    float64\n",
      " 21  radius_worst             569 non-null    float64\n",
      " 22  texture_worst            569 non-null    float64\n",
      " 23  perimeter_worst          569 non-null    float64\n",
      " 24  area_worst               569 non-null    float64\n",
      " 25  smoothness_worst         569 non-null    float64\n",
      " 26  compactness_worst        569 non-null    float64\n",
      " 27  concavity_worst          569 non-null    float64\n",
      " 28  concave points_worst     569 non-null    float64\n",
      " 29  symmetry_worst           569 non-null    float64\n",
      " 30  fractal_dimension_worst  569 non-null    float64\n",
      "dtypes: float64(30), object(1)\n",
      "memory usage: 137.9+ KB\n"
     ]
    }
   ],
   "source": [
    "df.info()"
   ]
  },
  {
   "cell_type": "code",
   "execution_count": 128,
   "metadata": {},
   "outputs": [
    {
     "name": "stdout",
     "output_type": "stream",
     "text": [
      "Index(['radius_mean', 'texture_mean', 'perimeter_mean', 'area_mean',\n",
      "       'smoothness_mean', 'compactness_mean', 'concavity_mean',\n",
      "       'concave points_mean', 'symmetry_mean', 'fractal_dimension_mean',\n",
      "       'radius_se', 'texture_se', 'perimeter_se', 'area_se', 'smoothness_se',\n",
      "       'compactness_se', 'concavity_se', 'concave points_se', 'symmetry_se',\n",
      "       'fractal_dimension_se', 'radius_worst', 'texture_worst',\n",
      "       'perimeter_worst', 'area_worst', 'smoothness_worst',\n",
      "       'compactness_worst', 'concavity_worst', 'concave points_worst',\n",
      "       'symmetry_worst', 'fractal_dimension_worst'],\n",
      "      dtype='object')\n"
     ]
    }
   ],
   "source": [
    "print(x.columns)"
   ]
  },
  {
   "cell_type": "code",
   "execution_count": 129,
   "metadata": {},
   "outputs": [
    {
     "data": {
      "text/plain": [
       "B    357\n",
       "M    212\n",
       "Name: diagnosis, dtype: int64"
      ]
     },
     "execution_count": 129,
     "metadata": {},
     "output_type": "execute_result"
    }
   ],
   "source": [
    "df.diagnosis.value_counts()"
   ]
  },
  {
   "cell_type": "code",
   "execution_count": 130,
   "metadata": {},
   "outputs": [
    {
     "data": {
      "text/html": [
       "<div>\n",
       "<style scoped>\n",
       "    .dataframe tbody tr th:only-of-type {\n",
       "        vertical-align: middle;\n",
       "    }\n",
       "\n",
       "    .dataframe tbody tr th {\n",
       "        vertical-align: top;\n",
       "    }\n",
       "\n",
       "    .dataframe thead th {\n",
       "        text-align: right;\n",
       "    }\n",
       "</style>\n",
       "<table border=\"1\" class=\"dataframe\">\n",
       "  <thead>\n",
       "    <tr style=\"text-align: right;\">\n",
       "      <th></th>\n",
       "      <th>B</th>\n",
       "      <th>M</th>\n",
       "    </tr>\n",
       "  </thead>\n",
       "  <tbody>\n",
       "    <tr>\n",
       "      <th>0</th>\n",
       "      <td>0</td>\n",
       "      <td>1</td>\n",
       "    </tr>\n",
       "    <tr>\n",
       "      <th>1</th>\n",
       "      <td>0</td>\n",
       "      <td>1</td>\n",
       "    </tr>\n",
       "    <tr>\n",
       "      <th>2</th>\n",
       "      <td>0</td>\n",
       "      <td>1</td>\n",
       "    </tr>\n",
       "    <tr>\n",
       "      <th>3</th>\n",
       "      <td>0</td>\n",
       "      <td>1</td>\n",
       "    </tr>\n",
       "    <tr>\n",
       "      <th>4</th>\n",
       "      <td>0</td>\n",
       "      <td>1</td>\n",
       "    </tr>\n",
       "    <tr>\n",
       "      <th>...</th>\n",
       "      <td>...</td>\n",
       "      <td>...</td>\n",
       "    </tr>\n",
       "    <tr>\n",
       "      <th>564</th>\n",
       "      <td>0</td>\n",
       "      <td>1</td>\n",
       "    </tr>\n",
       "    <tr>\n",
       "      <th>565</th>\n",
       "      <td>0</td>\n",
       "      <td>1</td>\n",
       "    </tr>\n",
       "    <tr>\n",
       "      <th>566</th>\n",
       "      <td>0</td>\n",
       "      <td>1</td>\n",
       "    </tr>\n",
       "    <tr>\n",
       "      <th>567</th>\n",
       "      <td>0</td>\n",
       "      <td>1</td>\n",
       "    </tr>\n",
       "    <tr>\n",
       "      <th>568</th>\n",
       "      <td>1</td>\n",
       "      <td>0</td>\n",
       "    </tr>\n",
       "  </tbody>\n",
       "</table>\n",
       "<p>569 rows × 2 columns</p>\n",
       "</div>"
      ],
      "text/plain": [
       "     B  M\n",
       "0    0  1\n",
       "1    0  1\n",
       "2    0  1\n",
       "3    0  1\n",
       "4    0  1\n",
       "..  .. ..\n",
       "564  0  1\n",
       "565  0  1\n",
       "566  0  1\n",
       "567  0  1\n",
       "568  1  0\n",
       "\n",
       "[569 rows x 2 columns]"
      ]
     },
     "execution_count": 130,
     "metadata": {},
     "output_type": "execute_result"
    }
   ],
   "source": [
    "y = pd.get_dummies(y)\n",
    "y"
   ]
  },
  {
   "cell_type": "code",
   "execution_count": 131,
   "metadata": {},
   "outputs": [],
   "source": [
    "x = pd.get_dummies(x)\n"
   ]
  },
  {
   "cell_type": "markdown",
   "metadata": {},
   "source": [
    "<h1>Hyperparameters</h1>\n",
    "\n",
    "How many number of hidden layers we should have?\n",
    "\n",
    "How many number of neurons we should have in hidden layers?\n",
    "\n",
    "Learning Rate"
   ]
  },
  {
   "cell_type": "code",
   "execution_count": 132,
   "metadata": {},
   "outputs": [],
   "source": [
    "def build_model(hp):\n",
    "    model = keras.Sequential()\n",
    "    for i in range(hp.Int('num_layers', 2, 20)):\n",
    "        model.add(layers.Dense(units=hp.Int('units_' + str(i),\n",
    "                                            min_value=32,\n",
    "                                            max_value=512,\n",
    "                                            step=32),input_dim=30,\n",
    "                               activation='relu'))\n",
    "    model.add(layers.Dense(2, activation='softmax'))\n",
    "    model.compile(\n",
    "        optimizer=keras.optimizers.Adam(\n",
    "            hp.Choice('learning_rate', [1e-2, 1e-3, 1e-4])),\n",
    "        loss='binary_crossentropy',\n",
    "        metrics=['accuracy'])\n",
    "    return model\n",
    "    \n",
    "    "
   ]
  },
  {
   "cell_type": "code",
   "execution_count": 106,
   "metadata": {},
   "outputs": [
    {
     "name": "stdout",
     "output_type": "stream",
     "text": [
      "INFO:tensorflow:Reloading Oracle from existing project project/Air Quality Index/oracle.json\n"
     ]
    }
   ],
   "source": [
    "\n",
    "tuner = RandomSearch(\n",
    "    build_model,\n",
    "    objective='val_accuracy',\n",
    "    max_trials=10,\n",
    "    executions_per_trial=3,\n",
    "    directory='project',\n",
    "    project_name='Air Quality Index')"
   ]
  },
  {
   "cell_type": "code",
   "execution_count": 107,
   "metadata": {},
   "outputs": [
    {
     "data": {
      "text/html": [
       "<span style=\"color:#4527A0\"><h1 style=\"font-size:18px\">Search space summary</h1></span>"
      ],
      "text/plain": [
       "<IPython.core.display.HTML object>"
      ]
     },
     "metadata": {},
     "output_type": "display_data"
    },
    {
     "data": {
      "text/html": [
       "<span style=\"color:cyan\"> |-Default search space size: 4</span>"
      ],
      "text/plain": [
       "<IPython.core.display.HTML object>"
      ]
     },
     "metadata": {},
     "output_type": "display_data"
    },
    {
     "data": {
      "text/html": [
       "<span style=\"color:#7E57C2\"><h2 style=\"font-size:16px\">num_layers (Int)</h2></span>"
      ],
      "text/plain": [
       "<IPython.core.display.HTML object>"
      ]
     },
     "metadata": {},
     "output_type": "display_data"
    },
    {
     "data": {
      "text/html": [
       "<span style=\"color:cyan\"> |-conditions: []</span>"
      ],
      "text/plain": [
       "<IPython.core.display.HTML object>"
      ]
     },
     "metadata": {},
     "output_type": "display_data"
    },
    {
     "data": {
      "text/html": [
       "<span style=\"color:blue\"> |-default: None</span>"
      ],
      "text/plain": [
       "<IPython.core.display.HTML object>"
      ]
     },
     "metadata": {},
     "output_type": "display_data"
    },
    {
     "data": {
      "text/html": [
       "<span style=\"color:cyan\"> |-max_value: 20</span>"
      ],
      "text/plain": [
       "<IPython.core.display.HTML object>"
      ]
     },
     "metadata": {},
     "output_type": "display_data"
    },
    {
     "data": {
      "text/html": [
       "<span style=\"color:blue\"> |-min_value: 2</span>"
      ],
      "text/plain": [
       "<IPython.core.display.HTML object>"
      ]
     },
     "metadata": {},
     "output_type": "display_data"
    },
    {
     "data": {
      "text/html": [
       "<span style=\"color:cyan\"> |-sampling: None</span>"
      ],
      "text/plain": [
       "<IPython.core.display.HTML object>"
      ]
     },
     "metadata": {},
     "output_type": "display_data"
    },
    {
     "data": {
      "text/html": [
       "<span style=\"color:blue\"> |-step: 1</span>"
      ],
      "text/plain": [
       "<IPython.core.display.HTML object>"
      ]
     },
     "metadata": {},
     "output_type": "display_data"
    },
    {
     "data": {
      "text/html": [
       "<span style=\"color:#7E57C2\"><h2 style=\"font-size:16px\">units_0 (Int)</h2></span>"
      ],
      "text/plain": [
       "<IPython.core.display.HTML object>"
      ]
     },
     "metadata": {},
     "output_type": "display_data"
    },
    {
     "data": {
      "text/html": [
       "<span style=\"color:cyan\"> |-conditions: []</span>"
      ],
      "text/plain": [
       "<IPython.core.display.HTML object>"
      ]
     },
     "metadata": {},
     "output_type": "display_data"
    },
    {
     "data": {
      "text/html": [
       "<span style=\"color:blue\"> |-default: None</span>"
      ],
      "text/plain": [
       "<IPython.core.display.HTML object>"
      ]
     },
     "metadata": {},
     "output_type": "display_data"
    },
    {
     "data": {
      "text/html": [
       "<span style=\"color:cyan\"> |-max_value: 512</span>"
      ],
      "text/plain": [
       "<IPython.core.display.HTML object>"
      ]
     },
     "metadata": {},
     "output_type": "display_data"
    },
    {
     "data": {
      "text/html": [
       "<span style=\"color:blue\"> |-min_value: 32</span>"
      ],
      "text/plain": [
       "<IPython.core.display.HTML object>"
      ]
     },
     "metadata": {},
     "output_type": "display_data"
    },
    {
     "data": {
      "text/html": [
       "<span style=\"color:cyan\"> |-sampling: None</span>"
      ],
      "text/plain": [
       "<IPython.core.display.HTML object>"
      ]
     },
     "metadata": {},
     "output_type": "display_data"
    },
    {
     "data": {
      "text/html": [
       "<span style=\"color:blue\"> |-step: 32</span>"
      ],
      "text/plain": [
       "<IPython.core.display.HTML object>"
      ]
     },
     "metadata": {},
     "output_type": "display_data"
    },
    {
     "data": {
      "text/html": [
       "<span style=\"color:#7E57C2\"><h2 style=\"font-size:16px\">units_1 (Int)</h2></span>"
      ],
      "text/plain": [
       "<IPython.core.display.HTML object>"
      ]
     },
     "metadata": {},
     "output_type": "display_data"
    },
    {
     "data": {
      "text/html": [
       "<span style=\"color:cyan\"> |-conditions: []</span>"
      ],
      "text/plain": [
       "<IPython.core.display.HTML object>"
      ]
     },
     "metadata": {},
     "output_type": "display_data"
    },
    {
     "data": {
      "text/html": [
       "<span style=\"color:blue\"> |-default: None</span>"
      ],
      "text/plain": [
       "<IPython.core.display.HTML object>"
      ]
     },
     "metadata": {},
     "output_type": "display_data"
    },
    {
     "data": {
      "text/html": [
       "<span style=\"color:cyan\"> |-max_value: 512</span>"
      ],
      "text/plain": [
       "<IPython.core.display.HTML object>"
      ]
     },
     "metadata": {},
     "output_type": "display_data"
    },
    {
     "data": {
      "text/html": [
       "<span style=\"color:blue\"> |-min_value: 32</span>"
      ],
      "text/plain": [
       "<IPython.core.display.HTML object>"
      ]
     },
     "metadata": {},
     "output_type": "display_data"
    },
    {
     "data": {
      "text/html": [
       "<span style=\"color:cyan\"> |-sampling: None</span>"
      ],
      "text/plain": [
       "<IPython.core.display.HTML object>"
      ]
     },
     "metadata": {},
     "output_type": "display_data"
    },
    {
     "data": {
      "text/html": [
       "<span style=\"color:blue\"> |-step: 32</span>"
      ],
      "text/plain": [
       "<IPython.core.display.HTML object>"
      ]
     },
     "metadata": {},
     "output_type": "display_data"
    },
    {
     "data": {
      "text/html": [
       "<span style=\"color:#7E57C2\"><h2 style=\"font-size:16px\">learning_rate (Choice)</h2></span>"
      ],
      "text/plain": [
       "<IPython.core.display.HTML object>"
      ]
     },
     "metadata": {},
     "output_type": "display_data"
    },
    {
     "data": {
      "text/html": [
       "<span style=\"color:cyan\"> |-conditions: []</span>"
      ],
      "text/plain": [
       "<IPython.core.display.HTML object>"
      ]
     },
     "metadata": {},
     "output_type": "display_data"
    },
    {
     "data": {
      "text/html": [
       "<span style=\"color:blue\"> |-default: 0.01</span>"
      ],
      "text/plain": [
       "<IPython.core.display.HTML object>"
      ]
     },
     "metadata": {},
     "output_type": "display_data"
    },
    {
     "data": {
      "text/html": [
       "<span style=\"color:cyan\"> |-ordered: True</span>"
      ],
      "text/plain": [
       "<IPython.core.display.HTML object>"
      ]
     },
     "metadata": {},
     "output_type": "display_data"
    },
    {
     "data": {
      "text/html": [
       "<span style=\"color:blue\"> |-values: [0.01, 0.001, 0.0001]</span>"
      ],
      "text/plain": [
       "<IPython.core.display.HTML object>"
      ]
     },
     "metadata": {},
     "output_type": "display_data"
    }
   ],
   "source": [
    "tuner.search_space_summary()\n"
   ]
  },
  {
   "cell_type": "code",
   "execution_count": 133,
   "metadata": {},
   "outputs": [],
   "source": [
    "from sklearn.model_selection import train_test_split\n",
    "X_train, X_test, y_train, y_test = train_test_split(x, y, test_size=0.2, random_state=0)"
   ]
  },
  {
   "cell_type": "code",
   "execution_count": 134,
   "metadata": {},
   "outputs": [
    {
     "name": "stdout",
     "output_type": "stream",
     "text": [
      "(455, 30)\n",
      "(114, 30)\n",
      "(455, 2)\n",
      "(114, 2)\n"
     ]
    }
   ],
   "source": [
    "print(X_train.shape)\n",
    "print(X_test.shape)\n",
    "print(y_train.shape)\n",
    "print(y_test.shape)"
   ]
  },
  {
   "cell_type": "code",
   "execution_count": 110,
   "metadata": {},
   "outputs": [
    {
     "data": {
      "text/html": [
       "<span style=\"color:#4527A0\"><h1 style=\"font-size:18px\">Starting new trial</h1></span>"
      ],
      "text/plain": [
       "<IPython.core.display.HTML object>"
      ]
     },
     "metadata": {},
     "output_type": "display_data"
    },
    {
     "name": "stdout",
     "output_type": "stream",
     "text": [
      "Train on 455 samples, validate on 114 samples\n",
      "Epoch 1/5\n",
      "455/455 [==============================] - ETA: 20s - loss: 0.7121 - accuracy: 0.500 - ETA: 0s - loss: 0.6894 - accuracy: 0.562 - 2s 4ms/sample - loss: 0.6877 - accuracy: 0.5363 - val_loss: 0.6735 - val_accuracy: 0.4737\n",
      "Epoch 2/5\n",
      "455/455 [==============================] - ETA: 0s - loss: 0.6633 - accuracy: 0.43 - ETA: 0s - loss: 0.6689 - accuracy: 0.49 - 0s 311us/sample - loss: 0.6665 - accuracy: 0.5033 - val_loss: 0.6532 - val_accuracy: 0.6404\n",
      "Epoch 3/5\n",
      "455/455 [==============================] - ETA: 0s - loss: 0.6483 - accuracy: 0.56 - ETA: 0s - loss: 0.6451 - accuracy: 0.60 - 0s 267us/sample - loss: 0.6424 - accuracy: 0.6264 - val_loss: 0.6246 - val_accuracy: 0.8246\n",
      "Epoch 4/5\n",
      "455/455 [==============================] - ETA: 0s - loss: 0.6395 - accuracy: 0.93 - ETA: 0s - loss: 0.6209 - accuracy: 0.76 - 0s 212us/sample - loss: 0.6179 - accuracy: 0.8176 - val_loss: 0.5963 - val_accuracy: 0.7018\n",
      "Epoch 5/5\n",
      "455/455 [==============================] - ETA: 0s - loss: 0.5850 - accuracy: 0.65 - ETA: 0s - loss: 0.5876 - accuracy: 0.77 - 0s 194us/sample - loss: 0.5919 - accuracy: 0.7648 - val_loss: 0.5656 - val_accuracy: 0.7281\n",
      "Train on 455 samples, validate on 114 samples\n",
      "Epoch 1/5\n",
      "455/455 [==============================] - ETA: 19s - loss: 1.4265 - accuracy: 0.468 - ETA: 0s - loss: 0.8080 - accuracy: 0.632 - 2s 4ms/sample - loss: 0.7923 - accuracy: 0.6374 - val_loss: 0.7090 - val_accuracy: 0.5877\n",
      "Epoch 2/5\n",
      "455/455 [==============================] - ETA: 0s - loss: 0.6972 - accuracy: 0.68 - ETA: 0s - loss: 0.6997 - accuracy: 0.64 - 0s 211us/sample - loss: 0.6992 - accuracy: 0.6374 - val_loss: 0.6956 - val_accuracy: 0.5877\n",
      "Epoch 3/5\n",
      "455/455 [==============================] - ETA: 0s - loss: 0.6967 - accuracy: 0.59 - ETA: 0s - loss: 0.6902 - accuracy: 0.65 - 0s 284us/sample - loss: 0.6890 - accuracy: 0.7121 - val_loss: 0.6843 - val_accuracy: 0.9474\n",
      "Epoch 4/5\n",
      "455/455 [==============================] - ETA: 0s - loss: 0.6865 - accuracy: 0.93 - ETA: 0s - loss: 0.6809 - accuracy: 0.93 - 0s 237us/sample - loss: 0.6794 - accuracy: 0.9341 - val_loss: 0.6753 - val_accuracy: 0.9123\n",
      "Epoch 5/5\n",
      "455/455 [==============================] - ETA: 0s - loss: 0.6712 - accuracy: 0.90 - ETA: 0s - loss: 0.6699 - accuracy: 0.93 - 0s 223us/sample - loss: 0.6683 - accuracy: 0.9363 - val_loss: 0.6609 - val_accuracy: 0.9035\n",
      "Train on 455 samples, validate on 114 samples\n",
      "Epoch 1/5\n",
      "455/455 [==============================] - ETA: 19s - loss: 0.7133 - accuracy: 0.281 - ETA: 0s - loss: 0.6851 - accuracy: 0.341 - 2s 4ms/sample - loss: 0.6808 - accuracy: 0.3626 - val_loss: 0.6649 - val_accuracy: 0.4123\n",
      "Epoch 2/5\n",
      "455/455 [==============================] - ETA: 0s - loss: 0.6616 - accuracy: 0.43 - ETA: 0s - loss: 0.6625 - accuracy: 0.37 - 0s 194us/sample - loss: 0.6651 - accuracy: 0.3626 - val_loss: 0.6453 - val_accuracy: 0.4123\n",
      "Epoch 3/5\n",
      "455/455 [==============================] - ETA: 0s - loss: 0.6267 - accuracy: 0.46 - ETA: 0s - loss: 0.6447 - accuracy: 0.38 - 0s 215us/sample - loss: 0.6455 - accuracy: 0.3648 - val_loss: 0.6258 - val_accuracy: 0.4386\n",
      "Epoch 4/5\n",
      "455/455 [==============================] - ETA: 0s - loss: 0.6389 - accuracy: 0.37 - ETA: 0s - loss: 0.6317 - accuracy: 0.38 - 0s 196us/sample - loss: 0.6211 - accuracy: 0.4110 - val_loss: 0.5974 - val_accuracy: 0.5526\n",
      "Epoch 5/5\n",
      "455/455 [==============================] - ETA: 0s - loss: 0.6132 - accuracy: 0.46 - ETA: 0s - loss: 0.5904 - accuracy: 0.52 - 0s 193us/sample - loss: 0.5956 - accuracy: 0.5363 - val_loss: 0.5687 - val_accuracy: 0.7456\n"
     ]
    },
    {
     "data": {
      "text/html": [
       "<span style=\"color:#4527A0\"><h1 style=\"font-size:18px\">Trial complete</h1></span>"
      ],
      "text/plain": [
       "<IPython.core.display.HTML object>"
      ]
     },
     "metadata": {},
     "output_type": "display_data"
    },
    {
     "data": {
      "text/html": [
       "<span style=\"color:#4527A0\"><h1 style=\"font-size:18px\">Trial summary</h1></span>"
      ],
      "text/plain": [
       "<IPython.core.display.HTML object>"
      ]
     },
     "metadata": {},
     "output_type": "display_data"
    },
    {
     "data": {
      "text/html": [
       "<span style=\"color:cyan\"> |-Trial ID: 38e8732177ab254fec62be8277f01d37</span>"
      ],
      "text/plain": [
       "<IPython.core.display.HTML object>"
      ]
     },
     "metadata": {},
     "output_type": "display_data"
    },
    {
     "data": {
      "text/html": [
       "<span style=\"color:cyan\"> |-Score: 0.8391812443733215</span>"
      ],
      "text/plain": [
       "<IPython.core.display.HTML object>"
      ]
     },
     "metadata": {},
     "output_type": "display_data"
    },
    {
     "data": {
      "text/html": [
       "<span style=\"color:cyan\"> |-Best step: 0</span>"
      ],
      "text/plain": [
       "<IPython.core.display.HTML object>"
      ]
     },
     "metadata": {},
     "output_type": "display_data"
    },
    {
     "data": {
      "text/html": [
       "<span style=\"color:#7E57C2\"><h2 style=\"font-size:16px\">Hyperparameters:</h2></span>"
      ],
      "text/plain": [
       "<IPython.core.display.HTML object>"
      ]
     },
     "metadata": {},
     "output_type": "display_data"
    },
    {
     "data": {
      "text/html": [
       "<span style=\"color:cyan\"> |-learning_rate: 0.0001</span>"
      ],
      "text/plain": [
       "<IPython.core.display.HTML object>"
      ]
     },
     "metadata": {},
     "output_type": "display_data"
    },
    {
     "data": {
      "text/html": [
       "<span style=\"color:blue\"> |-num_layers: 18</span>"
      ],
      "text/plain": [
       "<IPython.core.display.HTML object>"
      ]
     },
     "metadata": {},
     "output_type": "display_data"
    },
    {
     "data": {
      "text/html": [
       "<span style=\"color:cyan\"> |-units_0: 96</span>"
      ],
      "text/plain": [
       "<IPython.core.display.HTML object>"
      ]
     },
     "metadata": {},
     "output_type": "display_data"
    },
    {
     "data": {
      "text/html": [
       "<span style=\"color:blue\"> |-units_1: 288</span>"
      ],
      "text/plain": [
       "<IPython.core.display.HTML object>"
      ]
     },
     "metadata": {},
     "output_type": "display_data"
    },
    {
     "data": {
      "text/html": [
       "<span style=\"color:cyan\"> |-units_10: 32</span>"
      ],
      "text/plain": [
       "<IPython.core.display.HTML object>"
      ]
     },
     "metadata": {},
     "output_type": "display_data"
    },
    {
     "data": {
      "text/html": [
       "<span style=\"color:blue\"> |-units_11: 32</span>"
      ],
      "text/plain": [
       "<IPython.core.display.HTML object>"
      ]
     },
     "metadata": {},
     "output_type": "display_data"
    },
    {
     "data": {
      "text/html": [
       "<span style=\"color:cyan\"> |-units_12: 32</span>"
      ],
      "text/plain": [
       "<IPython.core.display.HTML object>"
      ]
     },
     "metadata": {},
     "output_type": "display_data"
    },
    {
     "data": {
      "text/html": [
       "<span style=\"color:blue\"> |-units_13: 32</span>"
      ],
      "text/plain": [
       "<IPython.core.display.HTML object>"
      ]
     },
     "metadata": {},
     "output_type": "display_data"
    },
    {
     "data": {
      "text/html": [
       "<span style=\"color:cyan\"> |-units_14: 32</span>"
      ],
      "text/plain": [
       "<IPython.core.display.HTML object>"
      ]
     },
     "metadata": {},
     "output_type": "display_data"
    },
    {
     "data": {
      "text/html": [
       "<span style=\"color:blue\"> |-units_15: 32</span>"
      ],
      "text/plain": [
       "<IPython.core.display.HTML object>"
      ]
     },
     "metadata": {},
     "output_type": "display_data"
    },
    {
     "data": {
      "text/html": [
       "<span style=\"color:cyan\"> |-units_16: 32</span>"
      ],
      "text/plain": [
       "<IPython.core.display.HTML object>"
      ]
     },
     "metadata": {},
     "output_type": "display_data"
    },
    {
     "data": {
      "text/html": [
       "<span style=\"color:blue\"> |-units_17: 32</span>"
      ],
      "text/plain": [
       "<IPython.core.display.HTML object>"
      ]
     },
     "metadata": {},
     "output_type": "display_data"
    },
    {
     "data": {
      "text/html": [
       "<span style=\"color:cyan\"> |-units_2: 32</span>"
      ],
      "text/plain": [
       "<IPython.core.display.HTML object>"
      ]
     },
     "metadata": {},
     "output_type": "display_data"
    },
    {
     "data": {
      "text/html": [
       "<span style=\"color:blue\"> |-units_3: 32</span>"
      ],
      "text/plain": [
       "<IPython.core.display.HTML object>"
      ]
     },
     "metadata": {},
     "output_type": "display_data"
    },
    {
     "data": {
      "text/html": [
       "<span style=\"color:cyan\"> |-units_4: 32</span>"
      ],
      "text/plain": [
       "<IPython.core.display.HTML object>"
      ]
     },
     "metadata": {},
     "output_type": "display_data"
    },
    {
     "data": {
      "text/html": [
       "<span style=\"color:blue\"> |-units_5: 32</span>"
      ],
      "text/plain": [
       "<IPython.core.display.HTML object>"
      ]
     },
     "metadata": {},
     "output_type": "display_data"
    },
    {
     "data": {
      "text/html": [
       "<span style=\"color:cyan\"> |-units_6: 32</span>"
      ],
      "text/plain": [
       "<IPython.core.display.HTML object>"
      ]
     },
     "metadata": {},
     "output_type": "display_data"
    },
    {
     "data": {
      "text/html": [
       "<span style=\"color:blue\"> |-units_7: 32</span>"
      ],
      "text/plain": [
       "<IPython.core.display.HTML object>"
      ]
     },
     "metadata": {},
     "output_type": "display_data"
    },
    {
     "data": {
      "text/html": [
       "<span style=\"color:cyan\"> |-units_8: 32</span>"
      ],
      "text/plain": [
       "<IPython.core.display.HTML object>"
      ]
     },
     "metadata": {},
     "output_type": "display_data"
    },
    {
     "data": {
      "text/html": [
       "<span style=\"color:blue\"> |-units_9: 32</span>"
      ],
      "text/plain": [
       "<IPython.core.display.HTML object>"
      ]
     },
     "metadata": {},
     "output_type": "display_data"
    },
    {
     "data": {
      "text/html": [
       "<span style=\"color:#4527A0\"><h1 style=\"font-size:18px\">Starting new trial</h1></span>"
      ],
      "text/plain": [
       "<IPython.core.display.HTML object>"
      ]
     },
     "metadata": {},
     "output_type": "display_data"
    },
    {
     "name": "stdout",
     "output_type": "stream",
     "text": [
      "Train on 455 samples, validate on 114 samples\n",
      "Epoch 1/5\n",
      "455/455 [==============================] - ETA: 17s - loss: 0.8071 - accuracy: 0.343 - ETA: 1s - loss: 0.9116 - accuracy: 0.535 - ETA: 0s - loss: 0.7938 - accuracy: 0.52 - 2s 4ms/sample - loss: 0.7765 - accuracy: 0.5451 - val_loss: 0.6818 - val_accuracy: 0.4123\n",
      "Epoch 2/5\n",
      "455/455 [==============================] - ETA: 0s - loss: 0.6521 - accuracy: 0.43 - ETA: 0s - loss: 0.5679 - accuracy: 0.67 - ETA: 0s - loss: 0.4830 - accuracy: 0.75 - 0s 412us/sample - loss: 0.4641 - accuracy: 0.7736 - val_loss: 0.7977 - val_accuracy: 0.6491\n",
      "Epoch 3/5\n",
      "455/455 [==============================] - ETA: 0s - loss: 0.7980 - accuracy: 0.59 - ETA: 0s - loss: 0.4410 - accuracy: 0.82 - ETA: 0s - loss: 0.3775 - accuracy: 0.86 - 0s 418us/sample - loss: 0.3618 - accuracy: 0.8681 - val_loss: 0.3164 - val_accuracy: 0.8596\n",
      "Epoch 4/5\n",
      "455/455 [==============================] - ETA: 0s - loss: 0.3948 - accuracy: 0.81 - ETA: 0s - loss: 0.2523 - accuracy: 0.90 - ETA: 0s - loss: 0.2594 - accuracy: 0.89 - 0s 436us/sample - loss: 0.2870 - accuracy: 0.8857 - val_loss: 0.3352 - val_accuracy: 0.8860\n",
      "Epoch 5/5\n",
      "455/455 [==============================] - ETA: 0s - loss: 0.2183 - accuracy: 0.93 - ETA: 0s - loss: 0.3261 - accuracy: 0.86 - ETA: 0s - loss: 0.3194 - accuracy: 0.86 - 0s 330us/sample - loss: 0.3189 - accuracy: 0.8681 - val_loss: 0.2767 - val_accuracy: 0.8421\n",
      "Train on 455 samples, validate on 114 samples\n",
      "Epoch 1/5\n",
      "455/455 [==============================] - ETA: 17s - loss: 0.8933 - accuracy: 0.312 - ETA: 1s - loss: 0.8613 - accuracy: 0.495 - ETA: 0s - loss: 0.7544 - accuracy: 0.56 - 2s 4ms/sample - loss: 0.7514 - accuracy: 0.5736 - val_loss: 0.5265 - val_accuracy: 0.9123\n",
      "Epoch 2/5\n",
      "455/455 [==============================] - ETA: 0s - loss: 0.5458 - accuracy: 0.87 - ETA: 0s - loss: 0.5247 - accuracy: 0.79 - ETA: 0s - loss: 0.5576 - accuracy: 0.73 - 0s 348us/sample - loss: 0.5604 - accuracy: 0.7341 - val_loss: 0.5014 - val_accuracy: 0.8772\n",
      "Epoch 3/5\n",
      "455/455 [==============================] - ETA: 0s - loss: 0.4979 - accuracy: 0.93 - ETA: 0s - loss: 0.3522 - accuracy: 0.90 - ETA: 0s - loss: 0.3960 - accuracy: 0.87 - 0s 352us/sample - loss: 0.3966 - accuracy: 0.8637 - val_loss: 0.3049 - val_accuracy: 0.8684\n",
      "Epoch 4/5\n",
      "455/455 [==============================] - ETA: 0s - loss: 0.2608 - accuracy: 0.93 - ETA: 0s - loss: 0.3175 - accuracy: 0.87 - ETA: 0s - loss: 0.2579 - accuracy: 0.90 - 0s 353us/sample - loss: 0.2850 - accuracy: 0.9055 - val_loss: 0.2674 - val_accuracy: 0.8772\n",
      "Epoch 5/5\n",
      "455/455 [==============================] - ETA: 0s - loss: 0.2077 - accuracy: 0.93 - ETA: 0s - loss: 0.3407 - accuracy: 0.88 - ETA: 0s - loss: 0.2919 - accuracy: 0.89 - 0s 330us/sample - loss: 0.2845 - accuracy: 0.9011 - val_loss: 0.4000 - val_accuracy: 0.8070\n",
      "Train on 455 samples, validate on 114 samples\n",
      "Epoch 1/5\n",
      "455/455 [==============================] - ETA: 16s - loss: 0.7107 - accuracy: 0.687 - ETA: 1s - loss: 0.8761 - accuracy: 0.522 - ETA: 0s - loss: 0.7653 - accuracy: 0.52 - 2s 4ms/sample - loss: 0.7512 - accuracy: 0.5516 - val_loss: 0.5339 - val_accuracy: 0.6754\n",
      "Epoch 2/5\n",
      "455/455 [==============================] - ETA: 0s - loss: 0.6087 - accuracy: 0.62 - ETA: 0s - loss: 0.4693 - accuracy: 0.78 - ETA: 0s - loss: 0.5705 - accuracy: 0.70 - 0s 335us/sample - loss: 0.5728 - accuracy: 0.6901 - val_loss: 0.5080 - val_accuracy: 0.7982\n",
      "Epoch 3/5\n",
      "455/455 [==============================] - ETA: 0s - loss: 0.4768 - accuracy: 0.84 - ETA: 0s - loss: 0.4397 - accuracy: 0.91 - ETA: 0s - loss: 0.4266 - accuracy: 0.87 - 0s 360us/sample - loss: 0.4384 - accuracy: 0.8659 - val_loss: 0.3548 - val_accuracy: 0.9035\n",
      "Epoch 4/5\n",
      "455/455 [==============================] - ETA: 0s - loss: 0.3421 - accuracy: 0.87 - ETA: 0s - loss: 0.3671 - accuracy: 0.83 - ETA: 0s - loss: 0.3492 - accuracy: 0.86 - 0s 441us/sample - loss: 0.3416 - accuracy: 0.8659 - val_loss: 0.2548 - val_accuracy: 0.9298\n",
      "Epoch 5/5\n",
      "455/455 [==============================] - ETA: 0s - loss: 0.1750 - accuracy: 0.96 - ETA: 0s - loss: 0.2419 - accuracy: 0.89 - ETA: 0s - loss: 0.2479 - accuracy: 0.90 - 0s 363us/sample - loss: 0.2461 - accuracy: 0.9077 - val_loss: 0.2510 - val_accuracy: 0.9035\n"
     ]
    },
    {
     "data": {
      "text/html": [
       "<span style=\"color:#4527A0\"><h1 style=\"font-size:18px\">Trial complete</h1></span>"
      ],
      "text/plain": [
       "<IPython.core.display.HTML object>"
      ]
     },
     "metadata": {},
     "output_type": "display_data"
    },
    {
     "data": {
      "text/html": [
       "<span style=\"color:#4527A0\"><h1 style=\"font-size:18px\">Trial summary</h1></span>"
      ],
      "text/plain": [
       "<IPython.core.display.HTML object>"
      ]
     },
     "metadata": {},
     "output_type": "display_data"
    },
    {
     "data": {
      "text/html": [
       "<span style=\"color:cyan\"> |-Trial ID: 26f9237b348310af4d34e203ad221b58</span>"
      ],
      "text/plain": [
       "<IPython.core.display.HTML object>"
      ]
     },
     "metadata": {},
     "output_type": "display_data"
    },
    {
     "data": {
      "text/html": [
       "<span style=\"color:cyan\"> |-Score: 0.9093567728996277</span>"
      ],
      "text/plain": [
       "<IPython.core.display.HTML object>"
      ]
     },
     "metadata": {},
     "output_type": "display_data"
    },
    {
     "data": {
      "text/html": [
       "<span style=\"color:cyan\"> |-Best step: 0</span>"
      ],
      "text/plain": [
       "<IPython.core.display.HTML object>"
      ]
     },
     "metadata": {},
     "output_type": "display_data"
    },
    {
     "data": {
      "text/html": [
       "<span style=\"color:#7E57C2\"><h2 style=\"font-size:16px\">Hyperparameters:</h2></span>"
      ],
      "text/plain": [
       "<IPython.core.display.HTML object>"
      ]
     },
     "metadata": {},
     "output_type": "display_data"
    },
    {
     "data": {
      "text/html": [
       "<span style=\"color:cyan\"> |-learning_rate: 0.001</span>"
      ],
      "text/plain": [
       "<IPython.core.display.HTML object>"
      ]
     },
     "metadata": {},
     "output_type": "display_data"
    },
    {
     "data": {
      "text/html": [
       "<span style=\"color:blue\"> |-num_layers: 14</span>"
      ],
      "text/plain": [
       "<IPython.core.display.HTML object>"
      ]
     },
     "metadata": {},
     "output_type": "display_data"
    },
    {
     "data": {
      "text/html": [
       "<span style=\"color:cyan\"> |-units_0: 128</span>"
      ],
      "text/plain": [
       "<IPython.core.display.HTML object>"
      ]
     },
     "metadata": {},
     "output_type": "display_data"
    },
    {
     "data": {
      "text/html": [
       "<span style=\"color:blue\"> |-units_1: 256</span>"
      ],
      "text/plain": [
       "<IPython.core.display.HTML object>"
      ]
     },
     "metadata": {},
     "output_type": "display_data"
    },
    {
     "data": {
      "text/html": [
       "<span style=\"color:cyan\"> |-units_10: 256</span>"
      ],
      "text/plain": [
       "<IPython.core.display.HTML object>"
      ]
     },
     "metadata": {},
     "output_type": "display_data"
    },
    {
     "data": {
      "text/html": [
       "<span style=\"color:blue\"> |-units_11: 160</span>"
      ],
      "text/plain": [
       "<IPython.core.display.HTML object>"
      ]
     },
     "metadata": {},
     "output_type": "display_data"
    },
    {
     "data": {
      "text/html": [
       "<span style=\"color:cyan\"> |-units_12: 512</span>"
      ],
      "text/plain": [
       "<IPython.core.display.HTML object>"
      ]
     },
     "metadata": {},
     "output_type": "display_data"
    },
    {
     "data": {
      "text/html": [
       "<span style=\"color:blue\"> |-units_13: 320</span>"
      ],
      "text/plain": [
       "<IPython.core.display.HTML object>"
      ]
     },
     "metadata": {},
     "output_type": "display_data"
    },
    {
     "data": {
      "text/html": [
       "<span style=\"color:cyan\"> |-units_14: 480</span>"
      ],
      "text/plain": [
       "<IPython.core.display.HTML object>"
      ]
     },
     "metadata": {},
     "output_type": "display_data"
    },
    {
     "data": {
      "text/html": [
       "<span style=\"color:blue\"> |-units_15: 64</span>"
      ],
      "text/plain": [
       "<IPython.core.display.HTML object>"
      ]
     },
     "metadata": {},
     "output_type": "display_data"
    },
    {
     "data": {
      "text/html": [
       "<span style=\"color:cyan\"> |-units_16: 480</span>"
      ],
      "text/plain": [
       "<IPython.core.display.HTML object>"
      ]
     },
     "metadata": {},
     "output_type": "display_data"
    },
    {
     "data": {
      "text/html": [
       "<span style=\"color:blue\"> |-units_17: 64</span>"
      ],
      "text/plain": [
       "<IPython.core.display.HTML object>"
      ]
     },
     "metadata": {},
     "output_type": "display_data"
    },
    {
     "data": {
      "text/html": [
       "<span style=\"color:cyan\"> |-units_2: 352</span>"
      ],
      "text/plain": [
       "<IPython.core.display.HTML object>"
      ]
     },
     "metadata": {},
     "output_type": "display_data"
    },
    {
     "data": {
      "text/html": [
       "<span style=\"color:blue\"> |-units_3: 64</span>"
      ],
      "text/plain": [
       "<IPython.core.display.HTML object>"
      ]
     },
     "metadata": {},
     "output_type": "display_data"
    },
    {
     "data": {
      "text/html": [
       "<span style=\"color:cyan\"> |-units_4: 224</span>"
      ],
      "text/plain": [
       "<IPython.core.display.HTML object>"
      ]
     },
     "metadata": {},
     "output_type": "display_data"
    },
    {
     "data": {
      "text/html": [
       "<span style=\"color:blue\"> |-units_5: 160</span>"
      ],
      "text/plain": [
       "<IPython.core.display.HTML object>"
      ]
     },
     "metadata": {},
     "output_type": "display_data"
    },
    {
     "data": {
      "text/html": [
       "<span style=\"color:cyan\"> |-units_6: 448</span>"
      ],
      "text/plain": [
       "<IPython.core.display.HTML object>"
      ]
     },
     "metadata": {},
     "output_type": "display_data"
    },
    {
     "data": {
      "text/html": [
       "<span style=\"color:blue\"> |-units_7: 192</span>"
      ],
      "text/plain": [
       "<IPython.core.display.HTML object>"
      ]
     },
     "metadata": {},
     "output_type": "display_data"
    },
    {
     "data": {
      "text/html": [
       "<span style=\"color:cyan\"> |-units_8: 288</span>"
      ],
      "text/plain": [
       "<IPython.core.display.HTML object>"
      ]
     },
     "metadata": {},
     "output_type": "display_data"
    },
    {
     "data": {
      "text/html": [
       "<span style=\"color:blue\"> |-units_9: 64</span>"
      ],
      "text/plain": [
       "<IPython.core.display.HTML object>"
      ]
     },
     "metadata": {},
     "output_type": "display_data"
    },
    {
     "data": {
      "text/html": [
       "<span style=\"color:#4527A0\"><h1 style=\"font-size:18px\">Starting new trial</h1></span>"
      ],
      "text/plain": [
       "<IPython.core.display.HTML object>"
      ]
     },
     "metadata": {},
     "output_type": "display_data"
    },
    {
     "name": "stdout",
     "output_type": "stream",
     "text": [
      "Train on 455 samples, validate on 114 samples\n",
      "Epoch 1/5\n",
      "455/455 [==============================] - ETA: 15s - loss: 2.3471 - accuracy: 0.500 - ETA: 1s - loss: 1.5928 - accuracy: 0.464 - ETA: 0s - loss: 1.2304 - accuracy: 0.53 - 2s 4ms/sample - loss: 1.1825 - accuracy: 0.5495 - val_loss: 0.8097 - val_accuracy: 0.5877\n",
      "Epoch 2/5\n",
      "455/455 [==============================] - ETA: 0s - loss: 0.8431 - accuracy: 0.56 - ETA: 0s - loss: 0.7615 - accuracy: 0.58 - ETA: 0s - loss: 0.7037 - accuracy: 0.60 - 0s 343us/sample - loss: 0.6950 - accuracy: 0.5978 - val_loss: 0.5722 - val_accuracy: 0.5614\n",
      "Epoch 3/5\n",
      "455/455 [==============================] - ETA: 0s - loss: 0.5769 - accuracy: 0.43 - ETA: 0s - loss: 0.6575 - accuracy: 0.57 - ETA: 0s - loss: 0.5955 - accuracy: 0.68 - 0s 413us/sample - loss: 0.5830 - accuracy: 0.6923 - val_loss: 0.4161 - val_accuracy: 0.8860\n",
      "Epoch 4/5\n",
      "455/455 [==============================] - ETA: 0s - loss: 0.3270 - accuracy: 0.96 - ETA: 0s - loss: 0.5139 - accuracy: 0.76 - ETA: 0s - loss: 0.4946 - accuracy: 0.80 - 0s 404us/sample - loss: 0.4814 - accuracy: 0.8154 - val_loss: 0.3663 - val_accuracy: 0.8947\n",
      "Epoch 5/5\n",
      "455/455 [==============================] - ETA: 0s - loss: 0.2355 - accuracy: 1.00 - ETA: 0s - loss: 0.2896 - accuracy: 0.90 - ETA: 0s - loss: 0.3635 - accuracy: 0.87 - 0s 345us/sample - loss: 0.3578 - accuracy: 0.8747 - val_loss: 0.5160 - val_accuracy: 0.8246\n",
      "Train on 455 samples, validate on 114 samples\n",
      "Epoch 1/5\n",
      "455/455 [==============================] - ETA: 15s - loss: 0.9475 - accuracy: 0.406 - ETA: 1s - loss: 2.3410 - accuracy: 0.450 - ETA: 0s - loss: 1.6245 - accuracy: 0.47 - 2s 3ms/sample - loss: 1.5433 - accuracy: 0.4725 - val_loss: 0.5911 - val_accuracy: 0.7895\n",
      "Epoch 2/5\n",
      "455/455 [==============================] - ETA: 0s - loss: 0.5039 - accuracy: 0.84 - ETA: 0s - loss: 0.5863 - accuracy: 0.73 - ETA: 0s - loss: 0.6182 - accuracy: 0.68 - 0s 318us/sample - loss: 0.6126 - accuracy: 0.6879 - val_loss: 0.5944 - val_accuracy: 0.8158\n",
      "Epoch 3/5\n",
      "455/455 [==============================] - ETA: 0s - loss: 0.4169 - accuracy: 0.84 - ETA: 0s - loss: 0.4192 - accuracy: 0.85 - ETA: 0s - loss: 0.3427 - accuracy: 0.88 - 0s 335us/sample - loss: 0.3601 - accuracy: 0.8813 - val_loss: 0.4461 - val_accuracy: 0.8860\n",
      "Epoch 4/5\n",
      "455/455 [==============================] - ETA: 0s - loss: 0.2117 - accuracy: 0.93 - ETA: 0s - loss: 0.2750 - accuracy: 0.90 - ETA: 0s - loss: 0.2613 - accuracy: 0.91 - 0s 337us/sample - loss: 0.2674 - accuracy: 0.9099 - val_loss: 0.3511 - val_accuracy: 0.8246\n",
      "Epoch 5/5\n",
      "455/455 [==============================] - ETA: 0s - loss: 0.3266 - accuracy: 0.78 - ETA: 0s - loss: 0.2996 - accuracy: 0.87 - ETA: 0s - loss: 0.2877 - accuracy: 0.87 - 0s 340us/sample - loss: 0.2856 - accuracy: 0.8791 - val_loss: 0.3920 - val_accuracy: 0.8860\n",
      "Train on 455 samples, validate on 114 samples\n",
      "Epoch 1/5\n",
      "455/455 [==============================] - ETA: 15s - loss: 1.4517 - accuracy: 0.375 - ETA: 0s - loss: 1.2125 - accuracy: 0.464 - ETA: 0s - loss: 0.9801 - accuracy: 0.45 - 2s 3ms/sample - loss: 0.9726 - accuracy: 0.4615 - val_loss: 1.9001 - val_accuracy: 0.5877\n",
      "Epoch 2/5\n",
      "455/455 [==============================] - ETA: 0s - loss: 1.8132 - accuracy: 0.71 - ETA: 0s - loss: 0.8925 - accuracy: 0.49 - ETA: 0s - loss: 0.7430 - accuracy: 0.62 - 0s 340us/sample - loss: 0.7292 - accuracy: 0.6176 - val_loss: 0.4957 - val_accuracy: 0.8421\n",
      "Epoch 3/5\n",
      "455/455 [==============================] - ETA: 0s - loss: 0.3782 - accuracy: 0.93 - ETA: 0s - loss: 0.4143 - accuracy: 0.88 - ETA: 0s - loss: 0.3566 - accuracy: 0.88 - 0s 354us/sample - loss: 0.3769 - accuracy: 0.8835 - val_loss: 0.9619 - val_accuracy: 0.5351\n",
      "Epoch 4/5\n",
      "455/455 [==============================] - ETA: 0s - loss: 1.0790 - accuracy: 0.34 - ETA: 0s - loss: 0.6277 - accuracy: 0.65 - ETA: 0s - loss: 0.4592 - accuracy: 0.77 - 0s 359us/sample - loss: 0.4369 - accuracy: 0.7890 - val_loss: 0.3493 - val_accuracy: 0.8421\n",
      "Epoch 5/5\n",
      "455/455 [==============================] - ETA: 0s - loss: 0.2507 - accuracy: 0.90 - ETA: 0s - loss: 0.3815 - accuracy: 0.86 - ETA: 0s - loss: 0.3378 - accuracy: 0.87 - 0s 318us/sample - loss: 0.3352 - accuracy: 0.8769 - val_loss: 0.3997 - val_accuracy: 0.8772\n"
     ]
    },
    {
     "data": {
      "text/html": [
       "<span style=\"color:#4527A0\"><h1 style=\"font-size:18px\">Trial complete</h1></span>"
      ],
      "text/plain": [
       "<IPython.core.display.HTML object>"
      ]
     },
     "metadata": {},
     "output_type": "display_data"
    },
    {
     "data": {
      "text/html": [
       "<span style=\"color:#4527A0\"><h1 style=\"font-size:18px\">Trial summary</h1></span>"
      ],
      "text/plain": [
       "<IPython.core.display.HTML object>"
      ]
     },
     "metadata": {},
     "output_type": "display_data"
    },
    {
     "data": {
      "text/html": [
       "<span style=\"color:cyan\"> |-Trial ID: 018ab33ae08e28e7c80144609e21ca52</span>"
      ],
      "text/plain": [
       "<IPython.core.display.HTML object>"
      ]
     },
     "metadata": {},
     "output_type": "display_data"
    },
    {
     "data": {
      "text/html": [
       "<span style=\"color:cyan\"> |-Score: 0.8859648704528809</span>"
      ],
      "text/plain": [
       "<IPython.core.display.HTML object>"
      ]
     },
     "metadata": {},
     "output_type": "display_data"
    },
    {
     "data": {
      "text/html": [
       "<span style=\"color:cyan\"> |-Best step: 0</span>"
      ],
      "text/plain": [
       "<IPython.core.display.HTML object>"
      ]
     },
     "metadata": {},
     "output_type": "display_data"
    },
    {
     "data": {
      "text/html": [
       "<span style=\"color:#7E57C2\"><h2 style=\"font-size:16px\">Hyperparameters:</h2></span>"
      ],
      "text/plain": [
       "<IPython.core.display.HTML object>"
      ]
     },
     "metadata": {},
     "output_type": "display_data"
    },
    {
     "data": {
      "text/html": [
       "<span style=\"color:cyan\"> |-learning_rate: 0.001</span>"
      ],
      "text/plain": [
       "<IPython.core.display.HTML object>"
      ]
     },
     "metadata": {},
     "output_type": "display_data"
    },
    {
     "data": {
      "text/html": [
       "<span style=\"color:blue\"> |-num_layers: 12</span>"
      ],
      "text/plain": [
       "<IPython.core.display.HTML object>"
      ]
     },
     "metadata": {},
     "output_type": "display_data"
    },
    {
     "data": {
      "text/html": [
       "<span style=\"color:cyan\"> |-units_0: 128</span>"
      ],
      "text/plain": [
       "<IPython.core.display.HTML object>"
      ]
     },
     "metadata": {},
     "output_type": "display_data"
    },
    {
     "data": {
      "text/html": [
       "<span style=\"color:blue\"> |-units_1: 192</span>"
      ],
      "text/plain": [
       "<IPython.core.display.HTML object>"
      ]
     },
     "metadata": {},
     "output_type": "display_data"
    },
    {
     "data": {
      "text/html": [
       "<span style=\"color:cyan\"> |-units_10: 480</span>"
      ],
      "text/plain": [
       "<IPython.core.display.HTML object>"
      ]
     },
     "metadata": {},
     "output_type": "display_data"
    },
    {
     "data": {
      "text/html": [
       "<span style=\"color:blue\"> |-units_11: 192</span>"
      ],
      "text/plain": [
       "<IPython.core.display.HTML object>"
      ]
     },
     "metadata": {},
     "output_type": "display_data"
    },
    {
     "data": {
      "text/html": [
       "<span style=\"color:cyan\"> |-units_12: 64</span>"
      ],
      "text/plain": [
       "<IPython.core.display.HTML object>"
      ]
     },
     "metadata": {},
     "output_type": "display_data"
    },
    {
     "data": {
      "text/html": [
       "<span style=\"color:blue\"> |-units_13: 160</span>"
      ],
      "text/plain": [
       "<IPython.core.display.HTML object>"
      ]
     },
     "metadata": {},
     "output_type": "display_data"
    },
    {
     "data": {
      "text/html": [
       "<span style=\"color:cyan\"> |-units_14: 448</span>"
      ],
      "text/plain": [
       "<IPython.core.display.HTML object>"
      ]
     },
     "metadata": {},
     "output_type": "display_data"
    },
    {
     "data": {
      "text/html": [
       "<span style=\"color:blue\"> |-units_15: 256</span>"
      ],
      "text/plain": [
       "<IPython.core.display.HTML object>"
      ]
     },
     "metadata": {},
     "output_type": "display_data"
    },
    {
     "data": {
      "text/html": [
       "<span style=\"color:cyan\"> |-units_16: 224</span>"
      ],
      "text/plain": [
       "<IPython.core.display.HTML object>"
      ]
     },
     "metadata": {},
     "output_type": "display_data"
    },
    {
     "data": {
      "text/html": [
       "<span style=\"color:blue\"> |-units_17: 416</span>"
      ],
      "text/plain": [
       "<IPython.core.display.HTML object>"
      ]
     },
     "metadata": {},
     "output_type": "display_data"
    },
    {
     "data": {
      "text/html": [
       "<span style=\"color:cyan\"> |-units_2: 480</span>"
      ],
      "text/plain": [
       "<IPython.core.display.HTML object>"
      ]
     },
     "metadata": {},
     "output_type": "display_data"
    },
    {
     "data": {
      "text/html": [
       "<span style=\"color:blue\"> |-units_3: 256</span>"
      ],
      "text/plain": [
       "<IPython.core.display.HTML object>"
      ]
     },
     "metadata": {},
     "output_type": "display_data"
    },
    {
     "data": {
      "text/html": [
       "<span style=\"color:cyan\"> |-units_4: 256</span>"
      ],
      "text/plain": [
       "<IPython.core.display.HTML object>"
      ]
     },
     "metadata": {},
     "output_type": "display_data"
    },
    {
     "data": {
      "text/html": [
       "<span style=\"color:blue\"> |-units_5: 224</span>"
      ],
      "text/plain": [
       "<IPython.core.display.HTML object>"
      ]
     },
     "metadata": {},
     "output_type": "display_data"
    },
    {
     "data": {
      "text/html": [
       "<span style=\"color:cyan\"> |-units_6: 64</span>"
      ],
      "text/plain": [
       "<IPython.core.display.HTML object>"
      ]
     },
     "metadata": {},
     "output_type": "display_data"
    },
    {
     "data": {
      "text/html": [
       "<span style=\"color:blue\"> |-units_7: 64</span>"
      ],
      "text/plain": [
       "<IPython.core.display.HTML object>"
      ]
     },
     "metadata": {},
     "output_type": "display_data"
    },
    {
     "data": {
      "text/html": [
       "<span style=\"color:cyan\"> |-units_8: 384</span>"
      ],
      "text/plain": [
       "<IPython.core.display.HTML object>"
      ]
     },
     "metadata": {},
     "output_type": "display_data"
    },
    {
     "data": {
      "text/html": [
       "<span style=\"color:blue\"> |-units_9: 352</span>"
      ],
      "text/plain": [
       "<IPython.core.display.HTML object>"
      ]
     },
     "metadata": {},
     "output_type": "display_data"
    },
    {
     "data": {
      "text/html": [
       "<span style=\"color:#4527A0\"><h1 style=\"font-size:18px\">Starting new trial</h1></span>"
      ],
      "text/plain": [
       "<IPython.core.display.HTML object>"
      ]
     },
     "metadata": {},
     "output_type": "display_data"
    },
    {
     "name": "stdout",
     "output_type": "stream",
     "text": [
      "Train on 455 samples, validate on 114 samples\n",
      "Epoch 1/5\n",
      "455/455 [==============================] - ETA: 18s - loss: 0.7357 - accuracy: 0.312 - ETA: 1s - loss: 0.6545 - accuracy: 0.544 - ETA: 0s - loss: 0.5930 - accuracy: 0.69 - 2s 4ms/sample - loss: 0.5824 - accuracy: 0.7121 - val_loss: 0.5133 - val_accuracy: 0.8333\n",
      "Epoch 2/5\n",
      "455/455 [==============================] - ETA: 0s - loss: 0.5201 - accuracy: 0.81 - ETA: 0s - loss: 0.4433 - accuracy: 0.84 - ETA: 0s - loss: 0.3924 - accuracy: 0.85 - 0s 376us/sample - loss: 0.4066 - accuracy: 0.8505 - val_loss: 0.4027 - val_accuracy: 0.7982\n",
      "Epoch 3/5\n",
      "455/455 [==============================] - ETA: 0s - loss: 0.3540 - accuracy: 0.84 - ETA: 0s - loss: 0.3627 - accuracy: 0.84 - ETA: 0s - loss: 0.3526 - accuracy: 0.85 - 0s 433us/sample - loss: 0.3233 - accuracy: 0.8725 - val_loss: 0.4197 - val_accuracy: 0.8860\n",
      "Epoch 4/5\n",
      "455/455 [==============================] - ETA: 0s - loss: 0.4700 - accuracy: 0.84 - ETA: 0s - loss: 0.2972 - accuracy: 0.90 - ETA: 0s - loss: 0.3454 - accuracy: 0.87 - 0s 339us/sample - loss: 0.3354 - accuracy: 0.8791 - val_loss: 0.5740 - val_accuracy: 0.8421\n",
      "Epoch 5/5\n",
      "455/455 [==============================] - ETA: 0s - loss: 0.1398 - accuracy: 0.96 - ETA: 0s - loss: 0.3601 - accuracy: 0.86 - ETA: 0s - loss: 0.3642 - accuracy: 0.86 - 0s 360us/sample - loss: 0.3495 - accuracy: 0.8703 - val_loss: 0.3302 - val_accuracy: 0.8421\n",
      "Train on 455 samples, validate on 114 samples\n",
      "Epoch 1/5\n",
      "455/455 [==============================] - ETA: 18s - loss: 0.6918 - accuracy: 0.343 - ETA: 1s - loss: 0.6708 - accuracy: 0.370 - ETA: 0s - loss: 0.6429 - accuracy: 0.53 - 2s 4ms/sample - loss: 0.6202 - accuracy: 0.6022 - val_loss: 0.6028 - val_accuracy: 0.7632\n",
      "Epoch 2/5\n",
      "455/455 [==============================] - ETA: 0s - loss: 0.5504 - accuracy: 0.81 - ETA: 0s - loss: 0.4659 - accuracy: 0.85 - ETA: 0s - loss: 0.4602 - accuracy: 0.82 - 0s 431us/sample - loss: 0.4636 - accuracy: 0.8242 - val_loss: 0.3421 - val_accuracy: 0.9211\n",
      "Epoch 3/5\n",
      "455/455 [==============================] - ETA: 0s - loss: 0.4440 - accuracy: 0.81 - ETA: 0s - loss: 0.5274 - accuracy: 0.69 - ETA: 0s - loss: 0.4724 - accuracy: 0.76 - 0s 366us/sample - loss: 0.4510 - accuracy: 0.7912 - val_loss: 0.4351 - val_accuracy: 0.7982\n",
      "Epoch 4/5\n",
      "455/455 [==============================] - ETA: 0s - loss: 0.4955 - accuracy: 0.75 - ETA: 0s - loss: 0.3767 - accuracy: 0.85 - ETA: 0s - loss: 0.3330 - accuracy: 0.87 - 0s 364us/sample - loss: 0.3262 - accuracy: 0.8857 - val_loss: 0.3562 - val_accuracy: 0.8860\n",
      "Epoch 5/5\n",
      "455/455 [==============================] - ETA: 0s - loss: 0.2762 - accuracy: 0.87 - ETA: 0s - loss: 0.2396 - accuracy: 0.92 - ETA: 0s - loss: 0.2325 - accuracy: 0.92 - 0s 355us/sample - loss: 0.2277 - accuracy: 0.9253 - val_loss: 0.2912 - val_accuracy: 0.8684\n",
      "Train on 455 samples, validate on 114 samples\n",
      "Epoch 1/5\n",
      "455/455 [==============================] - ETA: 18s - loss: 0.6986 - accuracy: 0.312 - ETA: 1s - loss: 0.6741 - accuracy: 0.513 - ETA: 0s - loss: 0.6264 - accuracy: 0.63 - 2s 4ms/sample - loss: 0.6178 - accuracy: 0.6484 - val_loss: 0.4869 - val_accuracy: 0.8860\n",
      "Epoch 2/5\n",
      "455/455 [==============================] - ETA: 0s - loss: 0.4118 - accuracy: 0.96 - ETA: 0s - loss: 0.4207 - accuracy: 0.91 - ETA: 0s - loss: 0.3696 - accuracy: 0.92 - 0s 368us/sample - loss: 0.3648 - accuracy: 0.9209 - val_loss: 0.2861 - val_accuracy: 0.9211\n",
      "Epoch 3/5\n",
      "455/455 [==============================] - ETA: 0s - loss: 0.2841 - accuracy: 0.81 - ETA: 0s - loss: 0.2583 - accuracy: 0.90 - ETA: 0s - loss: 0.2926 - accuracy: 0.89 - 0s 387us/sample - loss: 0.2646 - accuracy: 0.9055 - val_loss: 0.3159 - val_accuracy: 0.8509\n",
      "Epoch 4/5\n",
      "455/455 [==============================] - ETA: 0s - loss: 0.2482 - accuracy: 0.90 - ETA: 0s - loss: 0.2985 - accuracy: 0.90 - ETA: 0s - loss: 0.2913 - accuracy: 0.90 - 0s 442us/sample - loss: 0.2798 - accuracy: 0.9077 - val_loss: 0.2323 - val_accuracy: 0.9386\n",
      "Epoch 5/5\n",
      "455/455 [==============================] - ETA: 0s - loss: 0.1183 - accuracy: 0.96 - ETA: 0s - loss: 0.2520 - accuracy: 0.89 - ETA: 0s - loss: 0.2294 - accuracy: 0.91 - 0s 365us/sample - loss: 0.2402 - accuracy: 0.9143 - val_loss: 0.2268 - val_accuracy: 0.9211\n"
     ]
    },
    {
     "data": {
      "text/html": [
       "<span style=\"color:#4527A0\"><h1 style=\"font-size:18px\">Trial complete</h1></span>"
      ],
      "text/plain": [
       "<IPython.core.display.HTML object>"
      ]
     },
     "metadata": {},
     "output_type": "display_data"
    },
    {
     "data": {
      "text/html": [
       "<span style=\"color:#4527A0\"><h1 style=\"font-size:18px\">Trial summary</h1></span>"
      ],
      "text/plain": [
       "<IPython.core.display.HTML object>"
      ]
     },
     "metadata": {},
     "output_type": "display_data"
    },
    {
     "data": {
      "text/html": [
       "<span style=\"color:cyan\"> |-Trial ID: 90eccae1176d35313414589a6b292d83</span>"
      ],
      "text/plain": [
       "<IPython.core.display.HTML object>"
      ]
     },
     "metadata": {},
     "output_type": "display_data"
    },
    {
     "data": {
      "text/html": [
       "<span style=\"color:cyan\"> |-Score: 0.9152047038078308</span>"
      ],
      "text/plain": [
       "<IPython.core.display.HTML object>"
      ]
     },
     "metadata": {},
     "output_type": "display_data"
    },
    {
     "data": {
      "text/html": [
       "<span style=\"color:cyan\"> |-Best step: 0</span>"
      ],
      "text/plain": [
       "<IPython.core.display.HTML object>"
      ]
     },
     "metadata": {},
     "output_type": "display_data"
    },
    {
     "data": {
      "text/html": [
       "<span style=\"color:#7E57C2\"><h2 style=\"font-size:16px\">Hyperparameters:</h2></span>"
      ],
      "text/plain": [
       "<IPython.core.display.HTML object>"
      ]
     },
     "metadata": {},
     "output_type": "display_data"
    },
    {
     "data": {
      "text/html": [
       "<span style=\"color:cyan\"> |-learning_rate: 0.0001</span>"
      ],
      "text/plain": [
       "<IPython.core.display.HTML object>"
      ]
     },
     "metadata": {},
     "output_type": "display_data"
    },
    {
     "data": {
      "text/html": [
       "<span style=\"color:blue\"> |-num_layers: 17</span>"
      ],
      "text/plain": [
       "<IPython.core.display.HTML object>"
      ]
     },
     "metadata": {},
     "output_type": "display_data"
    },
    {
     "data": {
      "text/html": [
       "<span style=\"color:cyan\"> |-units_0: 96</span>"
      ],
      "text/plain": [
       "<IPython.core.display.HTML object>"
      ]
     },
     "metadata": {},
     "output_type": "display_data"
    },
    {
     "data": {
      "text/html": [
       "<span style=\"color:blue\"> |-units_1: 160</span>"
      ],
      "text/plain": [
       "<IPython.core.display.HTML object>"
      ]
     },
     "metadata": {},
     "output_type": "display_data"
    },
    {
     "data": {
      "text/html": [
       "<span style=\"color:cyan\"> |-units_10: 128</span>"
      ],
      "text/plain": [
       "<IPython.core.display.HTML object>"
      ]
     },
     "metadata": {},
     "output_type": "display_data"
    },
    {
     "data": {
      "text/html": [
       "<span style=\"color:blue\"> |-units_11: 64</span>"
      ],
      "text/plain": [
       "<IPython.core.display.HTML object>"
      ]
     },
     "metadata": {},
     "output_type": "display_data"
    },
    {
     "data": {
      "text/html": [
       "<span style=\"color:cyan\"> |-units_12: 224</span>"
      ],
      "text/plain": [
       "<IPython.core.display.HTML object>"
      ]
     },
     "metadata": {},
     "output_type": "display_data"
    },
    {
     "data": {
      "text/html": [
       "<span style=\"color:blue\"> |-units_13: 480</span>"
      ],
      "text/plain": [
       "<IPython.core.display.HTML object>"
      ]
     },
     "metadata": {},
     "output_type": "display_data"
    },
    {
     "data": {
      "text/html": [
       "<span style=\"color:cyan\"> |-units_14: 288</span>"
      ],
      "text/plain": [
       "<IPython.core.display.HTML object>"
      ]
     },
     "metadata": {},
     "output_type": "display_data"
    },
    {
     "data": {
      "text/html": [
       "<span style=\"color:blue\"> |-units_15: 384</span>"
      ],
      "text/plain": [
       "<IPython.core.display.HTML object>"
      ]
     },
     "metadata": {},
     "output_type": "display_data"
    },
    {
     "data": {
      "text/html": [
       "<span style=\"color:cyan\"> |-units_16: 224</span>"
      ],
      "text/plain": [
       "<IPython.core.display.HTML object>"
      ]
     },
     "metadata": {},
     "output_type": "display_data"
    },
    {
     "data": {
      "text/html": [
       "<span style=\"color:blue\"> |-units_17: 128</span>"
      ],
      "text/plain": [
       "<IPython.core.display.HTML object>"
      ]
     },
     "metadata": {},
     "output_type": "display_data"
    },
    {
     "data": {
      "text/html": [
       "<span style=\"color:cyan\"> |-units_2: 96</span>"
      ],
      "text/plain": [
       "<IPython.core.display.HTML object>"
      ]
     },
     "metadata": {},
     "output_type": "display_data"
    },
    {
     "data": {
      "text/html": [
       "<span style=\"color:blue\"> |-units_3: 256</span>"
      ],
      "text/plain": [
       "<IPython.core.display.HTML object>"
      ]
     },
     "metadata": {},
     "output_type": "display_data"
    },
    {
     "data": {
      "text/html": [
       "<span style=\"color:cyan\"> |-units_4: 384</span>"
      ],
      "text/plain": [
       "<IPython.core.display.HTML object>"
      ]
     },
     "metadata": {},
     "output_type": "display_data"
    },
    {
     "data": {
      "text/html": [
       "<span style=\"color:blue\"> |-units_5: 128</span>"
      ],
      "text/plain": [
       "<IPython.core.display.HTML object>"
      ]
     },
     "metadata": {},
     "output_type": "display_data"
    },
    {
     "data": {
      "text/html": [
       "<span style=\"color:cyan\"> |-units_6: 416</span>"
      ],
      "text/plain": [
       "<IPython.core.display.HTML object>"
      ]
     },
     "metadata": {},
     "output_type": "display_data"
    },
    {
     "data": {
      "text/html": [
       "<span style=\"color:blue\"> |-units_7: 96</span>"
      ],
      "text/plain": [
       "<IPython.core.display.HTML object>"
      ]
     },
     "metadata": {},
     "output_type": "display_data"
    },
    {
     "data": {
      "text/html": [
       "<span style=\"color:cyan\"> |-units_8: 224</span>"
      ],
      "text/plain": [
       "<IPython.core.display.HTML object>"
      ]
     },
     "metadata": {},
     "output_type": "display_data"
    },
    {
     "data": {
      "text/html": [
       "<span style=\"color:blue\"> |-units_9: 64</span>"
      ],
      "text/plain": [
       "<IPython.core.display.HTML object>"
      ]
     },
     "metadata": {},
     "output_type": "display_data"
    },
    {
     "data": {
      "text/html": [
       "<span style=\"color:#4527A0\"><h1 style=\"font-size:18px\">Starting new trial</h1></span>"
      ],
      "text/plain": [
       "<IPython.core.display.HTML object>"
      ]
     },
     "metadata": {},
     "output_type": "display_data"
    },
    {
     "name": "stdout",
     "output_type": "stream",
     "text": [
      "Train on 455 samples, validate on 114 samples\n",
      "Epoch 1/5\n",
      "455/455 [==============================] - ETA: 12s - loss: 2.9133 - accuracy: 0.375 - ETA: 1s - loss: 1.2016 - accuracy: 0.558 - ETA: 0s - loss: 0.8938 - accuracy: 0.66 - 1s 3ms/sample - loss: 0.8478 - accuracy: 0.6791 - val_loss: 0.5973 - val_accuracy: 0.8333\n",
      "Epoch 2/5\n",
      "455/455 [==============================] - ETA: 0s - loss: 0.4417 - accuracy: 0.90 - ETA: 0s - loss: 0.3219 - accuracy: 0.89 - 0s 339us/sample - loss: 0.2964 - accuracy: 0.8989 - val_loss: 0.2798 - val_accuracy: 0.9123\n",
      "Epoch 3/5\n",
      "455/455 [==============================] - ETA: 0s - loss: 0.2769 - accuracy: 0.87 - ETA: 0s - loss: 0.2432 - accuracy: 0.91 - ETA: 0s - loss: 0.2381 - accuracy: 0.92 - 0s 320us/sample - loss: 0.2469 - accuracy: 0.9209 - val_loss: 0.2674 - val_accuracy: 0.9035\n",
      "Epoch 4/5\n",
      "455/455 [==============================] - ETA: 0s - loss: 0.2663 - accuracy: 0.90 - ETA: 0s - loss: 0.2947 - accuracy: 0.89 - ETA: 0s - loss: 0.2433 - accuracy: 0.91 - 0s 316us/sample - loss: 0.2400 - accuracy: 0.9143 - val_loss: 0.4152 - val_accuracy: 0.8684\n",
      "Epoch 5/5\n",
      "455/455 [==============================] - ETA: 0s - loss: 0.3424 - accuracy: 0.81 - ETA: 0s - loss: 0.2134 - accuracy: 0.91 - ETA: 0s - loss: 0.3067 - accuracy: 0.87 - 0s 326us/sample - loss: 0.3178 - accuracy: 0.8747 - val_loss: 0.7961 - val_accuracy: 0.8158\n",
      "Train on 455 samples, validate on 114 samples\n",
      "Epoch 1/5\n",
      "455/455 [==============================] - ETA: 12s - loss: 6.2890 - accuracy: 0.562 - ETA: 0s - loss: 1.9181 - accuracy: 0.523 - ETA: 0s - loss: 1.3735 - accuracy: 0.58 - 1s 3ms/sample - loss: 1.3545 - accuracy: 0.5912 - val_loss: 1.4055 - val_accuracy: 0.6140\n",
      "Epoch 2/5\n",
      "455/455 [==============================] - ETA: 0s - loss: 1.3399 - accuracy: 0.62 - ETA: 0s - loss: 0.6725 - accuracy: 0.69 - 0s 279us/sample - loss: 0.5930 - accuracy: 0.7363 - val_loss: 0.3448 - val_accuracy: 0.8772\n",
      "Epoch 3/5\n",
      "455/455 [==============================] - ETA: 0s - loss: 0.3510 - accuracy: 0.81 - ETA: 0s - loss: 0.3455 - accuracy: 0.85 - ETA: 0s - loss: 0.3296 - accuracy: 0.86 - 0s 300us/sample - loss: 0.3268 - accuracy: 0.8703 - val_loss: 0.3045 - val_accuracy: 0.8860\n",
      "Epoch 4/5\n",
      "455/455 [==============================] - ETA: 0s - loss: 0.1753 - accuracy: 1.00 - ETA: 0s - loss: 0.2045 - accuracy: 0.94 - ETA: 0s - loss: 0.2327 - accuracy: 0.93 - 0s 326us/sample - loss: 0.2405 - accuracy: 0.9253 - val_loss: 0.3264 - val_accuracy: 0.8860\n",
      "Epoch 5/5\n",
      "455/455 [==============================] - ETA: 0s - loss: 0.3348 - accuracy: 0.87 - ETA: 0s - loss: 0.2607 - accuracy: 0.90 - 0s 276us/sample - loss: 0.2440 - accuracy: 0.9033 - val_loss: 0.2379 - val_accuracy: 0.8947\n",
      "Train on 455 samples, validate on 114 samples\n",
      "Epoch 1/5\n",
      "455/455 [==============================] - ETA: 12s - loss: 4.8352 - accuracy: 0.656 - ETA: 0s - loss: 1.0482 - accuracy: 0.734 - 1s 3ms/sample - loss: 0.7911 - accuracy: 0.7714 - val_loss: 0.3793 - val_accuracy: 0.8158\n",
      "Epoch 2/5\n",
      "455/455 [==============================] - ETA: 0s - loss: 0.3153 - accuracy: 0.87 - ETA: 0s - loss: 0.4688 - accuracy: 0.83 - 0s 267us/sample - loss: 0.4817 - accuracy: 0.8154 - val_loss: 1.6048 - val_accuracy: 0.7544\n",
      "Epoch 3/5\n",
      "455/455 [==============================] - ETA: 0s - loss: 1.3872 - accuracy: 0.75 - ETA: 0s - loss: 0.7519 - accuracy: 0.80 - 0s 278us/sample - loss: 0.5825 - accuracy: 0.8374 - val_loss: 0.4365 - val_accuracy: 0.8947\n",
      "Epoch 4/5\n",
      "455/455 [==============================] - ETA: 0s - loss: 0.2123 - accuracy: 0.90 - ETA: 0s - loss: 0.3187 - accuracy: 0.86 - 0s 281us/sample - loss: 0.3181 - accuracy: 0.8703 - val_loss: 0.2438 - val_accuracy: 0.8947\n",
      "Epoch 5/5\n",
      "455/455 [==============================] - ETA: 0s - loss: 0.1271 - accuracy: 0.93 - ETA: 0s - loss: 0.2386 - accuracy: 0.89 - ETA: 0s - loss: 0.2083 - accuracy: 0.91 - 0s 362us/sample - loss: 0.2057 - accuracy: 0.9143 - val_loss: 0.2145 - val_accuracy: 0.9474\n"
     ]
    },
    {
     "data": {
      "text/html": [
       "<span style=\"color:#4527A0\"><h1 style=\"font-size:18px\">Trial complete</h1></span>"
      ],
      "text/plain": [
       "<IPython.core.display.HTML object>"
      ]
     },
     "metadata": {},
     "output_type": "display_data"
    },
    {
     "data": {
      "text/html": [
       "<span style=\"color:#4527A0\"><h1 style=\"font-size:18px\">Trial summary</h1></span>"
      ],
      "text/plain": [
       "<IPython.core.display.HTML object>"
      ]
     },
     "metadata": {},
     "output_type": "display_data"
    },
    {
     "data": {
      "text/html": [
       "<span style=\"color:cyan\"> |-Trial ID: 99ea86499b79b96eb0a54d3fc84471a0</span>"
      ],
      "text/plain": [
       "<IPython.core.display.HTML object>"
      ]
     },
     "metadata": {},
     "output_type": "display_data"
    },
    {
     "data": {
      "text/html": [
       "<span style=\"color:cyan\"> |-Score: 0.9181286692619324</span>"
      ],
      "text/plain": [
       "<IPython.core.display.HTML object>"
      ]
     },
     "metadata": {},
     "output_type": "display_data"
    },
    {
     "data": {
      "text/html": [
       "<span style=\"color:cyan\"> |-Best step: 0</span>"
      ],
      "text/plain": [
       "<IPython.core.display.HTML object>"
      ]
     },
     "metadata": {},
     "output_type": "display_data"
    },
    {
     "data": {
      "text/html": [
       "<span style=\"color:#7E57C2\"><h2 style=\"font-size:16px\">Hyperparameters:</h2></span>"
      ],
      "text/plain": [
       "<IPython.core.display.HTML object>"
      ]
     },
     "metadata": {},
     "output_type": "display_data"
    },
    {
     "data": {
      "text/html": [
       "<span style=\"color:cyan\"> |-learning_rate: 0.0001</span>"
      ],
      "text/plain": [
       "<IPython.core.display.HTML object>"
      ]
     },
     "metadata": {},
     "output_type": "display_data"
    },
    {
     "data": {
      "text/html": [
       "<span style=\"color:blue\"> |-num_layers: 8</span>"
      ],
      "text/plain": [
       "<IPython.core.display.HTML object>"
      ]
     },
     "metadata": {},
     "output_type": "display_data"
    },
    {
     "data": {
      "text/html": [
       "<span style=\"color:cyan\"> |-units_0: 224</span>"
      ],
      "text/plain": [
       "<IPython.core.display.HTML object>"
      ]
     },
     "metadata": {},
     "output_type": "display_data"
    },
    {
     "data": {
      "text/html": [
       "<span style=\"color:blue\"> |-units_1: 96</span>"
      ],
      "text/plain": [
       "<IPython.core.display.HTML object>"
      ]
     },
     "metadata": {},
     "output_type": "display_data"
    },
    {
     "data": {
      "text/html": [
       "<span style=\"color:cyan\"> |-units_10: 480</span>"
      ],
      "text/plain": [
       "<IPython.core.display.HTML object>"
      ]
     },
     "metadata": {},
     "output_type": "display_data"
    },
    {
     "data": {
      "text/html": [
       "<span style=\"color:blue\"> |-units_11: 416</span>"
      ],
      "text/plain": [
       "<IPython.core.display.HTML object>"
      ]
     },
     "metadata": {},
     "output_type": "display_data"
    },
    {
     "data": {
      "text/html": [
       "<span style=\"color:cyan\"> |-units_12: 256</span>"
      ],
      "text/plain": [
       "<IPython.core.display.HTML object>"
      ]
     },
     "metadata": {},
     "output_type": "display_data"
    },
    {
     "data": {
      "text/html": [
       "<span style=\"color:blue\"> |-units_13: 32</span>"
      ],
      "text/plain": [
       "<IPython.core.display.HTML object>"
      ]
     },
     "metadata": {},
     "output_type": "display_data"
    },
    {
     "data": {
      "text/html": [
       "<span style=\"color:cyan\"> |-units_14: 160</span>"
      ],
      "text/plain": [
       "<IPython.core.display.HTML object>"
      ]
     },
     "metadata": {},
     "output_type": "display_data"
    },
    {
     "data": {
      "text/html": [
       "<span style=\"color:blue\"> |-units_15: 448</span>"
      ],
      "text/plain": [
       "<IPython.core.display.HTML object>"
      ]
     },
     "metadata": {},
     "output_type": "display_data"
    },
    {
     "data": {
      "text/html": [
       "<span style=\"color:cyan\"> |-units_16: 416</span>"
      ],
      "text/plain": [
       "<IPython.core.display.HTML object>"
      ]
     },
     "metadata": {},
     "output_type": "display_data"
    },
    {
     "data": {
      "text/html": [
       "<span style=\"color:blue\"> |-units_17: 160</span>"
      ],
      "text/plain": [
       "<IPython.core.display.HTML object>"
      ]
     },
     "metadata": {},
     "output_type": "display_data"
    },
    {
     "data": {
      "text/html": [
       "<span style=\"color:cyan\"> |-units_2: 96</span>"
      ],
      "text/plain": [
       "<IPython.core.display.HTML object>"
      ]
     },
     "metadata": {},
     "output_type": "display_data"
    },
    {
     "data": {
      "text/html": [
       "<span style=\"color:blue\"> |-units_3: 512</span>"
      ],
      "text/plain": [
       "<IPython.core.display.HTML object>"
      ]
     },
     "metadata": {},
     "output_type": "display_data"
    },
    {
     "data": {
      "text/html": [
       "<span style=\"color:cyan\"> |-units_4: 480</span>"
      ],
      "text/plain": [
       "<IPython.core.display.HTML object>"
      ]
     },
     "metadata": {},
     "output_type": "display_data"
    },
    {
     "data": {
      "text/html": [
       "<span style=\"color:blue\"> |-units_5: 448</span>"
      ],
      "text/plain": [
       "<IPython.core.display.HTML object>"
      ]
     },
     "metadata": {},
     "output_type": "display_data"
    },
    {
     "data": {
      "text/html": [
       "<span style=\"color:cyan\"> |-units_6: 384</span>"
      ],
      "text/plain": [
       "<IPython.core.display.HTML object>"
      ]
     },
     "metadata": {},
     "output_type": "display_data"
    },
    {
     "data": {
      "text/html": [
       "<span style=\"color:blue\"> |-units_7: 160</span>"
      ],
      "text/plain": [
       "<IPython.core.display.HTML object>"
      ]
     },
     "metadata": {},
     "output_type": "display_data"
    },
    {
     "data": {
      "text/html": [
       "<span style=\"color:cyan\"> |-units_8: 96</span>"
      ],
      "text/plain": [
       "<IPython.core.display.HTML object>"
      ]
     },
     "metadata": {},
     "output_type": "display_data"
    },
    {
     "data": {
      "text/html": [
       "<span style=\"color:blue\"> |-units_9: 160</span>"
      ],
      "text/plain": [
       "<IPython.core.display.HTML object>"
      ]
     },
     "metadata": {},
     "output_type": "display_data"
    },
    {
     "data": {
      "text/html": [
       "<span style=\"color:#4527A0\"><h1 style=\"font-size:18px\">Starting new trial</h1></span>"
      ],
      "text/plain": [
       "<IPython.core.display.HTML object>"
      ]
     },
     "metadata": {},
     "output_type": "display_data"
    },
    {
     "name": "stdout",
     "output_type": "stream",
     "text": [
      "Train on 455 samples, validate on 114 samples\n",
      "Epoch 1/5\n",
      "455/455 [==============================] - ETA: 17s - loss: 0.6973 - accuracy: 0.718 - ETA: 1s - loss: 8.4238 - accuracy: 0.411 - ETA: 0s - loss: 9.1262 - accuracy: 0.38 - 2s 4ms/sample - loss: 9.0491 - accuracy: 0.3934 - val_loss: 9.0139 - val_accuracy: 0.4123\n",
      "Epoch 2/5\n",
      "455/455 [==============================] - ETA: 0s - loss: 9.5857 - accuracy: 0.37 - ETA: 0s - loss: 9.0265 - accuracy: 0.41 - ETA: 0s - loss: 9.5857 - accuracy: 0.37 - 0s 417us/sample - loss: 9.7753 - accuracy: 0.3626 - val_loss: 9.0139 - val_accuracy: 0.4123\n",
      "Epoch 3/5\n",
      "455/455 [==============================] - ETA: 0s - loss: 8.6271 - accuracy: 0.43 - ETA: 0s - loss: 9.0105 - accuracy: 0.41 - ETA: 0s - loss: 9.4898 - accuracy: 0.38 - 0s 423us/sample - loss: 9.7753 - accuracy: 0.3626 - val_loss: 9.0139 - val_accuracy: 0.4123\n",
      "Epoch 4/5\n",
      "455/455 [==============================] - ETA: 0s - loss: 11.9821 - accuracy: 0.218 - ETA: 0s - loss: 8.9466 - accuracy: 0.416 - ETA: 0s - loss: 9.4985 - accuracy: 0.38 - 0s 436us/sample - loss: 9.7753 - accuracy: 0.3626 - val_loss: 9.0139 - val_accuracy: 0.4123\n",
      "Epoch 5/5\n",
      "455/455 [==============================] - ETA: 0s - loss: 10.5443 - accuracy: 0.312 - ETA: 0s - loss: 9.3460 - accuracy: 0.390 - ETA: 0s - loss: 9.7295 - accuracy: 0.36 - 0s 419us/sample - loss: 9.7753 - accuracy: 0.3626 - val_loss: 9.0139 - val_accuracy: 0.4123\n",
      "Train on 455 samples, validate on 114 samples\n",
      "Epoch 1/5\n",
      "455/455 [==============================] - ETA: 17s - loss: 0.7542 - accuracy: 0.312 - ETA: 1s - loss: 4.9984 - accuracy: 0.567 - ETA: 0s - loss: 5.3843 - accuracy: 0.59 - 2s 4ms/sample - loss: 5.2778 - accuracy: 0.6110 - val_loss: 6.3232 - val_accuracy: 0.5877\n",
      "Epoch 2/5\n",
      "455/455 [==============================] - ETA: 0s - loss: 5.2721 - accuracy: 0.65 - ETA: 0s - loss: 5.9911 - accuracy: 0.60 - ETA: 0s - loss: 5.5336 - accuracy: 0.63 - 0s 409us/sample - loss: 5.5618 - accuracy: 0.6374 - val_loss: 6.3232 - val_accuracy: 0.5877\n",
      "Epoch 3/5\n",
      "455/455 [==============================] - ETA: 0s - loss: 5.2721 - accuracy: 0.65 - ETA: 0s - loss: 5.6715 - accuracy: 0.63 - ETA: 0s - loss: 5.6207 - accuracy: 0.63 - 0s 417us/sample - loss: 5.5618 - accuracy: 0.6374 - val_loss: 6.3232 - val_accuracy: 0.5877\n",
      "Epoch 4/5\n",
      "455/455 [==============================] - ETA: 0s - loss: 4.7928 - accuracy: 0.68 - ETA: 0s - loss: 5.9568 - accuracy: 0.61 - ETA: 0s - loss: 5.4319 - accuracy: 0.64 - 0s 390us/sample - loss: 5.5618 - accuracy: 0.6374 - val_loss: 6.3232 - val_accuracy: 0.5877\n",
      "Epoch 5/5\n",
      "455/455 [==============================] - ETA: 0s - loss: 6.7100 - accuracy: 0.56 - ETA: 0s - loss: 5.5118 - accuracy: 0.64 - ETA: 0s - loss: 5.2242 - accuracy: 0.65 - 0s 430us/sample - loss: 5.5618 - accuracy: 0.6374 - val_loss: 6.3232 - val_accuracy: 0.5877\n",
      "Train on 455 samples, validate on 114 samples\n",
      "Epoch 1/5\n",
      "455/455 [==============================] - ETA: 17s - loss: 0.7835 - accuracy: 0.281 - ETA: 1s - loss: 4.9234 - accuracy: 0.567 - ETA: 0s - loss: 5.1691 - accuracy: 0.60 - 2s 4ms/sample - loss: 5.3135 - accuracy: 0.6066 - val_loss: 6.3232 - val_accuracy: 0.5877\n",
      "Epoch 2/5\n",
      "455/455 [==============================] - ETA: 0s - loss: 7.1893 - accuracy: 0.53 - ETA: 0s - loss: 5.6715 - accuracy: 0.63 - ETA: 0s - loss: 5.4900 - accuracy: 0.64 - 0s 433us/sample - loss: 5.5618 - accuracy: 0.6374 - val_loss: 6.3232 - val_accuracy: 0.5877\n",
      "Epoch 3/5\n",
      "455/455 [==============================] - ETA: 0s - loss: 4.7928 - accuracy: 0.68 - ETA: 0s - loss: 5.5916 - accuracy: 0.63 - ETA: 0s - loss: 5.5771 - accuracy: 0.63 - 0s 392us/sample - loss: 5.5618 - accuracy: 0.6374 - val_loss: 6.3232 - val_accuracy: 0.5877\n",
      "Epoch 4/5\n",
      "455/455 [==============================] - ETA: 0s - loss: 6.2307 - accuracy: 0.59 - ETA: 0s - loss: 5.5916 - accuracy: 0.63 - ETA: 0s - loss: 5.5771 - accuracy: 0.63 - 0s 417us/sample - loss: 5.5618 - accuracy: 0.6374 - val_loss: 6.3232 - val_accuracy: 0.5877\n",
      "Epoch 5/5\n",
      "455/455 [==============================] - ETA: 0s - loss: 6.2307 - accuracy: 0.59 - ETA: 0s - loss: 5.1124 - accuracy: 0.66 - ETA: 0s - loss: 5.5771 - accuracy: 0.63 - 0s 406us/sample - loss: 5.5618 - accuracy: 0.6374 - val_loss: 6.3232 - val_accuracy: 0.5877\n"
     ]
    },
    {
     "data": {
      "text/html": [
       "<span style=\"color:#4527A0\"><h1 style=\"font-size:18px\">Trial complete</h1></span>"
      ],
      "text/plain": [
       "<IPython.core.display.HTML object>"
      ]
     },
     "metadata": {},
     "output_type": "display_data"
    },
    {
     "data": {
      "text/html": [
       "<span style=\"color:#4527A0\"><h1 style=\"font-size:18px\">Trial summary</h1></span>"
      ],
      "text/plain": [
       "<IPython.core.display.HTML object>"
      ]
     },
     "metadata": {},
     "output_type": "display_data"
    },
    {
     "data": {
      "text/html": [
       "<span style=\"color:cyan\"> |-Trial ID: de10b23006b30f5dddf7c92f496047ff</span>"
      ],
      "text/plain": [
       "<IPython.core.display.HTML object>"
      ]
     },
     "metadata": {},
     "output_type": "display_data"
    },
    {
     "data": {
      "text/html": [
       "<span style=\"color:cyan\"> |-Score: 0.5292397737503052</span>"
      ],
      "text/plain": [
       "<IPython.core.display.HTML object>"
      ]
     },
     "metadata": {},
     "output_type": "display_data"
    },
    {
     "data": {
      "text/html": [
       "<span style=\"color:cyan\"> |-Best step: 0</span>"
      ],
      "text/plain": [
       "<IPython.core.display.HTML object>"
      ]
     },
     "metadata": {},
     "output_type": "display_data"
    },
    {
     "data": {
      "text/html": [
       "<span style=\"color:#7E57C2\"><h2 style=\"font-size:16px\">Hyperparameters:</h2></span>"
      ],
      "text/plain": [
       "<IPython.core.display.HTML object>"
      ]
     },
     "metadata": {},
     "output_type": "display_data"
    },
    {
     "data": {
      "text/html": [
       "<span style=\"color:cyan\"> |-learning_rate: 0.01</span>"
      ],
      "text/plain": [
       "<IPython.core.display.HTML object>"
      ]
     },
     "metadata": {},
     "output_type": "display_data"
    },
    {
     "data": {
      "text/html": [
       "<span style=\"color:blue\"> |-num_layers: 15</span>"
      ],
      "text/plain": [
       "<IPython.core.display.HTML object>"
      ]
     },
     "metadata": {},
     "output_type": "display_data"
    },
    {
     "data": {
      "text/html": [
       "<span style=\"color:cyan\"> |-units_0: 480</span>"
      ],
      "text/plain": [
       "<IPython.core.display.HTML object>"
      ]
     },
     "metadata": {},
     "output_type": "display_data"
    },
    {
     "data": {
      "text/html": [
       "<span style=\"color:blue\"> |-units_1: 288</span>"
      ],
      "text/plain": [
       "<IPython.core.display.HTML object>"
      ]
     },
     "metadata": {},
     "output_type": "display_data"
    },
    {
     "data": {
      "text/html": [
       "<span style=\"color:cyan\"> |-units_10: 288</span>"
      ],
      "text/plain": [
       "<IPython.core.display.HTML object>"
      ]
     },
     "metadata": {},
     "output_type": "display_data"
    },
    {
     "data": {
      "text/html": [
       "<span style=\"color:blue\"> |-units_11: 192</span>"
      ],
      "text/plain": [
       "<IPython.core.display.HTML object>"
      ]
     },
     "metadata": {},
     "output_type": "display_data"
    },
    {
     "data": {
      "text/html": [
       "<span style=\"color:cyan\"> |-units_12: 224</span>"
      ],
      "text/plain": [
       "<IPython.core.display.HTML object>"
      ]
     },
     "metadata": {},
     "output_type": "display_data"
    },
    {
     "data": {
      "text/html": [
       "<span style=\"color:blue\"> |-units_13: 256</span>"
      ],
      "text/plain": [
       "<IPython.core.display.HTML object>"
      ]
     },
     "metadata": {},
     "output_type": "display_data"
    },
    {
     "data": {
      "text/html": [
       "<span style=\"color:cyan\"> |-units_14: 256</span>"
      ],
      "text/plain": [
       "<IPython.core.display.HTML object>"
      ]
     },
     "metadata": {},
     "output_type": "display_data"
    },
    {
     "data": {
      "text/html": [
       "<span style=\"color:blue\"> |-units_15: 352</span>"
      ],
      "text/plain": [
       "<IPython.core.display.HTML object>"
      ]
     },
     "metadata": {},
     "output_type": "display_data"
    },
    {
     "data": {
      "text/html": [
       "<span style=\"color:cyan\"> |-units_16: 320</span>"
      ],
      "text/plain": [
       "<IPython.core.display.HTML object>"
      ]
     },
     "metadata": {},
     "output_type": "display_data"
    },
    {
     "data": {
      "text/html": [
       "<span style=\"color:blue\"> |-units_17: 64</span>"
      ],
      "text/plain": [
       "<IPython.core.display.HTML object>"
      ]
     },
     "metadata": {},
     "output_type": "display_data"
    },
    {
     "data": {
      "text/html": [
       "<span style=\"color:cyan\"> |-units_2: 288</span>"
      ],
      "text/plain": [
       "<IPython.core.display.HTML object>"
      ]
     },
     "metadata": {},
     "output_type": "display_data"
    },
    {
     "data": {
      "text/html": [
       "<span style=\"color:blue\"> |-units_3: 64</span>"
      ],
      "text/plain": [
       "<IPython.core.display.HTML object>"
      ]
     },
     "metadata": {},
     "output_type": "display_data"
    },
    {
     "data": {
      "text/html": [
       "<span style=\"color:cyan\"> |-units_4: 480</span>"
      ],
      "text/plain": [
       "<IPython.core.display.HTML object>"
      ]
     },
     "metadata": {},
     "output_type": "display_data"
    },
    {
     "data": {
      "text/html": [
       "<span style=\"color:blue\"> |-units_5: 480</span>"
      ],
      "text/plain": [
       "<IPython.core.display.HTML object>"
      ]
     },
     "metadata": {},
     "output_type": "display_data"
    },
    {
     "data": {
      "text/html": [
       "<span style=\"color:cyan\"> |-units_6: 320</span>"
      ],
      "text/plain": [
       "<IPython.core.display.HTML object>"
      ]
     },
     "metadata": {},
     "output_type": "display_data"
    },
    {
     "data": {
      "text/html": [
       "<span style=\"color:blue\"> |-units_7: 64</span>"
      ],
      "text/plain": [
       "<IPython.core.display.HTML object>"
      ]
     },
     "metadata": {},
     "output_type": "display_data"
    },
    {
     "data": {
      "text/html": [
       "<span style=\"color:cyan\"> |-units_8: 480</span>"
      ],
      "text/plain": [
       "<IPython.core.display.HTML object>"
      ]
     },
     "metadata": {},
     "output_type": "display_data"
    },
    {
     "data": {
      "text/html": [
       "<span style=\"color:blue\"> |-units_9: 320</span>"
      ],
      "text/plain": [
       "<IPython.core.display.HTML object>"
      ]
     },
     "metadata": {},
     "output_type": "display_data"
    },
    {
     "data": {
      "text/html": [
       "<span style=\"color:#4527A0\"><h1 style=\"font-size:18px\">Starting new trial</h1></span>"
      ],
      "text/plain": [
       "<IPython.core.display.HTML object>"
      ]
     },
     "metadata": {},
     "output_type": "display_data"
    },
    {
     "name": "stdout",
     "output_type": "stream",
     "text": [
      "Train on 455 samples, validate on 114 samples\n",
      "Epoch 1/5\n",
      "455/455 [==============================] - ETA: 10s - loss: 0.4259 - accuracy: 0.937 - ETA: 0s - loss: 1.9771 - accuracy: 0.656 - 1s 2ms/sample - loss: 1.6044 - accuracy: 0.7011 - val_loss: 0.4356 - val_accuracy: 0.8246\n",
      "Epoch 2/5\n",
      "455/455 [==============================] - ETA: 0s - loss: 0.5214 - accuracy: 0.81 - ETA: 0s - loss: 0.3762 - accuracy: 0.88 - 0s 262us/sample - loss: 0.3383 - accuracy: 0.8879 - val_loss: 0.4036 - val_accuracy: 0.8860\n",
      "Epoch 3/5\n",
      "455/455 [==============================] - ETA: 0s - loss: 0.4550 - accuracy: 0.84 - ETA: 0s - loss: 0.2334 - accuracy: 0.91 - 0s 220us/sample - loss: 0.2591 - accuracy: 0.9033 - val_loss: 0.3246 - val_accuracy: 0.8421\n",
      "Epoch 4/5\n",
      "455/455 [==============================] - ETA: 0s - loss: 0.3064 - accuracy: 0.87 - ETA: 0s - loss: 0.2772 - accuracy: 0.89 - 0s 210us/sample - loss: 0.2777 - accuracy: 0.8989 - val_loss: 0.4233 - val_accuracy: 0.8772\n",
      "Epoch 5/5\n",
      "455/455 [==============================] - ETA: 0s - loss: 0.2745 - accuracy: 0.90 - ETA: 0s - loss: 0.2609 - accuracy: 0.89 - 0s 242us/sample - loss: 0.2496 - accuracy: 0.9033 - val_loss: 0.3124 - val_accuracy: 0.8596\n",
      "Train on 455 samples, validate on 114 samples\n",
      "Epoch 1/5\n",
      "455/455 [==============================] - ETA: 10s - loss: 8.6271 - accuracy: 0.437 - ETA: 0s - loss: 5.4900 - accuracy: 0.642 - 1s 2ms/sample - loss: 5.5618 - accuracy: 0.6374 - val_loss: 6.3232 - val_accuracy: 0.5877\n",
      "Epoch 2/5\n",
      "455/455 [==============================] - ETA: 0s - loss: 7.6685 - accuracy: 0.50 - ETA: 0s - loss: 5.4319 - accuracy: 0.64 - 0s 204us/sample - loss: 5.5618 - accuracy: 0.6374 - val_loss: 6.3232 - val_accuracy: 0.5877\n",
      "Epoch 3/5\n",
      "455/455 [==============================] - ETA: 0s - loss: 4.7928 - accuracy: 0.68 - ETA: 0s - loss: 5.5597 - accuracy: 0.63 - 0s 222us/sample - loss: 5.5618 - accuracy: 0.6374 - val_loss: 6.3232 - val_accuracy: 0.5877\n",
      "Epoch 4/5\n",
      "455/455 [==============================] - ETA: 0s - loss: 6.2307 - accuracy: 0.59 - ETA: 0s - loss: 5.6076 - accuracy: 0.63 - 0s 234us/sample - loss: 5.5618 - accuracy: 0.6374 - val_loss: 6.3232 - val_accuracy: 0.5877\n",
      "Epoch 5/5\n",
      "455/455 [==============================] - ETA: 0s - loss: 4.3136 - accuracy: 0.71 - ETA: 0s - loss: 5.5118 - accuracy: 0.64 - 0s 224us/sample - loss: 5.5618 - accuracy: 0.6374 - val_loss: 6.3232 - val_accuracy: 0.5877\n",
      "Train on 455 samples, validate on 114 samples\n",
      "Epoch 1/5\n",
      "455/455 [==============================] - ETA: 10s - loss: 5.7514 - accuracy: 0.625 - ETA: 0s - loss: 5.4900 - accuracy: 0.642 - 1s 2ms/sample - loss: 5.5618 - accuracy: 0.6374 - val_loss: 6.3232 - val_accuracy: 0.5877\n",
      "Epoch 2/5\n",
      "455/455 [==============================] - ETA: 0s - loss: 5.7514 - accuracy: 0.62 - ETA: 0s - loss: 5.4718 - accuracy: 0.64 - 0s 207us/sample - loss: 5.5618 - accuracy: 0.6374 - val_loss: 6.3232 - val_accuracy: 0.5877\n",
      "Epoch 3/5\n",
      "455/455 [==============================] - ETA: 0s - loss: 4.3136 - accuracy: 0.71 - ETA: 0s - loss: 5.2721 - accuracy: 0.65 - 0s 214us/sample - loss: 5.5618 - accuracy: 0.6374 - val_loss: 6.3232 - val_accuracy: 0.5877\n",
      "Epoch 4/5\n",
      "455/455 [==============================] - ETA: 0s - loss: 6.7100 - accuracy: 0.56 - ETA: 0s - loss: 5.7514 - accuracy: 0.62 - 0s 212us/sample - loss: 5.5618 - accuracy: 0.6374 - val_loss: 6.3232 - val_accuracy: 0.5877\n",
      "Epoch 5/5\n",
      "455/455 [==============================] - ETA: 0s - loss: 6.7100 - accuracy: 0.56 - ETA: 0s - loss: 5.6643 - accuracy: 0.63 - 0s 208us/sample - loss: 5.5618 - accuracy: 0.6374 - val_loss: 6.3232 - val_accuracy: 0.5877\n"
     ]
    },
    {
     "data": {
      "text/html": [
       "<span style=\"color:#4527A0\"><h1 style=\"font-size:18px\">Trial complete</h1></span>"
      ],
      "text/plain": [
       "<IPython.core.display.HTML object>"
      ]
     },
     "metadata": {},
     "output_type": "display_data"
    },
    {
     "data": {
      "text/html": [
       "<span style=\"color:#4527A0\"><h1 style=\"font-size:18px\">Trial summary</h1></span>"
      ],
      "text/plain": [
       "<IPython.core.display.HTML object>"
      ]
     },
     "metadata": {},
     "output_type": "display_data"
    },
    {
     "data": {
      "text/html": [
       "<span style=\"color:cyan\"> |-Trial ID: 1b16626b5db3a885bb7d419664038568</span>"
      ],
      "text/plain": [
       "<IPython.core.display.HTML object>"
      ]
     },
     "metadata": {},
     "output_type": "display_data"
    },
    {
     "data": {
      "text/html": [
       "<span style=\"color:cyan\"> |-Score: 0.6871345639228821</span>"
      ],
      "text/plain": [
       "<IPython.core.display.HTML object>"
      ]
     },
     "metadata": {},
     "output_type": "display_data"
    },
    {
     "data": {
      "text/html": [
       "<span style=\"color:cyan\"> |-Best step: 0</span>"
      ],
      "text/plain": [
       "<IPython.core.display.HTML object>"
      ]
     },
     "metadata": {},
     "output_type": "display_data"
    },
    {
     "data": {
      "text/html": [
       "<span style=\"color:#7E57C2\"><h2 style=\"font-size:16px\">Hyperparameters:</h2></span>"
      ],
      "text/plain": [
       "<IPython.core.display.HTML object>"
      ]
     },
     "metadata": {},
     "output_type": "display_data"
    },
    {
     "data": {
      "text/html": [
       "<span style=\"color:cyan\"> |-learning_rate: 0.0001</span>"
      ],
      "text/plain": [
       "<IPython.core.display.HTML object>"
      ]
     },
     "metadata": {},
     "output_type": "display_data"
    },
    {
     "data": {
      "text/html": [
       "<span style=\"color:blue\"> |-num_layers: 5</span>"
      ],
      "text/plain": [
       "<IPython.core.display.HTML object>"
      ]
     },
     "metadata": {},
     "output_type": "display_data"
    },
    {
     "data": {
      "text/html": [
       "<span style=\"color:cyan\"> |-units_0: 32</span>"
      ],
      "text/plain": [
       "<IPython.core.display.HTML object>"
      ]
     },
     "metadata": {},
     "output_type": "display_data"
    },
    {
     "data": {
      "text/html": [
       "<span style=\"color:blue\"> |-units_1: 416</span>"
      ],
      "text/plain": [
       "<IPython.core.display.HTML object>"
      ]
     },
     "metadata": {},
     "output_type": "display_data"
    },
    {
     "data": {
      "text/html": [
       "<span style=\"color:cyan\"> |-units_10: 416</span>"
      ],
      "text/plain": [
       "<IPython.core.display.HTML object>"
      ]
     },
     "metadata": {},
     "output_type": "display_data"
    },
    {
     "data": {
      "text/html": [
       "<span style=\"color:blue\"> |-units_11: 384</span>"
      ],
      "text/plain": [
       "<IPython.core.display.HTML object>"
      ]
     },
     "metadata": {},
     "output_type": "display_data"
    },
    {
     "data": {
      "text/html": [
       "<span style=\"color:cyan\"> |-units_12: 512</span>"
      ],
      "text/plain": [
       "<IPython.core.display.HTML object>"
      ]
     },
     "metadata": {},
     "output_type": "display_data"
    },
    {
     "data": {
      "text/html": [
       "<span style=\"color:blue\"> |-units_13: 512</span>"
      ],
      "text/plain": [
       "<IPython.core.display.HTML object>"
      ]
     },
     "metadata": {},
     "output_type": "display_data"
    },
    {
     "data": {
      "text/html": [
       "<span style=\"color:cyan\"> |-units_14: 128</span>"
      ],
      "text/plain": [
       "<IPython.core.display.HTML object>"
      ]
     },
     "metadata": {},
     "output_type": "display_data"
    },
    {
     "data": {
      "text/html": [
       "<span style=\"color:blue\"> |-units_15: 320</span>"
      ],
      "text/plain": [
       "<IPython.core.display.HTML object>"
      ]
     },
     "metadata": {},
     "output_type": "display_data"
    },
    {
     "data": {
      "text/html": [
       "<span style=\"color:cyan\"> |-units_16: 256</span>"
      ],
      "text/plain": [
       "<IPython.core.display.HTML object>"
      ]
     },
     "metadata": {},
     "output_type": "display_data"
    },
    {
     "data": {
      "text/html": [
       "<span style=\"color:blue\"> |-units_17: 320</span>"
      ],
      "text/plain": [
       "<IPython.core.display.HTML object>"
      ]
     },
     "metadata": {},
     "output_type": "display_data"
    },
    {
     "data": {
      "text/html": [
       "<span style=\"color:cyan\"> |-units_2: 320</span>"
      ],
      "text/plain": [
       "<IPython.core.display.HTML object>"
      ]
     },
     "metadata": {},
     "output_type": "display_data"
    },
    {
     "data": {
      "text/html": [
       "<span style=\"color:blue\"> |-units_3: 480</span>"
      ],
      "text/plain": [
       "<IPython.core.display.HTML object>"
      ]
     },
     "metadata": {},
     "output_type": "display_data"
    },
    {
     "data": {
      "text/html": [
       "<span style=\"color:cyan\"> |-units_4: 256</span>"
      ],
      "text/plain": [
       "<IPython.core.display.HTML object>"
      ]
     },
     "metadata": {},
     "output_type": "display_data"
    },
    {
     "data": {
      "text/html": [
       "<span style=\"color:blue\"> |-units_5: 448</span>"
      ],
      "text/plain": [
       "<IPython.core.display.HTML object>"
      ]
     },
     "metadata": {},
     "output_type": "display_data"
    },
    {
     "data": {
      "text/html": [
       "<span style=\"color:cyan\"> |-units_6: 96</span>"
      ],
      "text/plain": [
       "<IPython.core.display.HTML object>"
      ]
     },
     "metadata": {},
     "output_type": "display_data"
    },
    {
     "data": {
      "text/html": [
       "<span style=\"color:blue\"> |-units_7: 320</span>"
      ],
      "text/plain": [
       "<IPython.core.display.HTML object>"
      ]
     },
     "metadata": {},
     "output_type": "display_data"
    },
    {
     "data": {
      "text/html": [
       "<span style=\"color:cyan\"> |-units_8: 224</span>"
      ],
      "text/plain": [
       "<IPython.core.display.HTML object>"
      ]
     },
     "metadata": {},
     "output_type": "display_data"
    },
    {
     "data": {
      "text/html": [
       "<span style=\"color:blue\"> |-units_9: 64</span>"
      ],
      "text/plain": [
       "<IPython.core.display.HTML object>"
      ]
     },
     "metadata": {},
     "output_type": "display_data"
    },
    {
     "data": {
      "text/html": [
       "<span style=\"color:#4527A0\"><h1 style=\"font-size:18px\">Starting new trial</h1></span>"
      ],
      "text/plain": [
       "<IPython.core.display.HTML object>"
      ]
     },
     "metadata": {},
     "output_type": "display_data"
    },
    {
     "name": "stdout",
     "output_type": "stream",
     "text": [
      "Train on 455 samples, validate on 114 samples\n",
      "Epoch 1/5\n",
      "455/455 [==============================] - ETA: 16s - loss: 0.8288 - accuracy: 0.593 - ETA: 1s - loss: 0.6478 - accuracy: 0.543 - 2s 4ms/sample - loss: 0.5940 - accuracy: 0.6681 - val_loss: 0.4932 - val_accuracy: 0.7982\n",
      "Epoch 2/5\n",
      "455/455 [==============================] - ETA: 0s - loss: 0.5638 - accuracy: 0.71 - ETA: 0s - loss: 0.4541 - accuracy: 0.81 - ETA: 0s - loss: 0.4202 - accuracy: 0.85 - 0s 389us/sample - loss: 0.4160 - accuracy: 0.8571 - val_loss: 0.4112 - val_accuracy: 0.8684\n",
      "Epoch 3/5\n",
      "455/455 [==============================] - ETA: 0s - loss: 0.3182 - accuracy: 0.93 - ETA: 0s - loss: 0.3129 - accuracy: 0.91 - 0s 356us/sample - loss: 0.3214 - accuracy: 0.9055 - val_loss: 0.3948 - val_accuracy: 0.8860\n",
      "Epoch 4/5\n",
      "455/455 [==============================] - ETA: 0s - loss: 0.2409 - accuracy: 0.93 - ETA: 0s - loss: 0.3147 - accuracy: 0.88 - 0s 300us/sample - loss: 0.3018 - accuracy: 0.9011 - val_loss: 0.3204 - val_accuracy: 0.8860\n",
      "Epoch 5/5\n",
      "455/455 [==============================] - ETA: 0s - loss: 0.1837 - accuracy: 0.93 - ETA: 0s - loss: 0.2262 - accuracy: 0.92 - 0s 345us/sample - loss: 0.2738 - accuracy: 0.9011 - val_loss: 0.3680 - val_accuracy: 0.8947\n",
      "Train on 455 samples, validate on 114 samples\n",
      "Epoch 1/5\n",
      "455/455 [==============================] - ETA: 16s - loss: 0.7722 - accuracy: 0.250 - ETA: 1s - loss: 0.6979 - accuracy: 0.406 - 2s 4ms/sample - loss: 0.6656 - accuracy: 0.4769 - val_loss: 0.5813 - val_accuracy: 0.8860\n",
      "Epoch 2/5\n",
      "455/455 [==============================] - ETA: 0s - loss: 0.5501 - accuracy: 0.87 - ETA: 0s - loss: 0.5565 - accuracy: 0.89 - 0s 305us/sample - loss: 0.5347 - accuracy: 0.8813 - val_loss: 0.4735 - val_accuracy: 0.8684\n",
      "Epoch 3/5\n",
      "455/455 [==============================] - ETA: 0s - loss: 0.4355 - accuracy: 0.84 - ETA: 0s - loss: 0.4732 - accuracy: 0.80 - 0s 278us/sample - loss: 0.4603 - accuracy: 0.8264 - val_loss: 0.4246 - val_accuracy: 0.8158\n",
      "Epoch 4/5\n",
      "455/455 [==============================] - ETA: 0s - loss: 0.4365 - accuracy: 0.90 - ETA: 0s - loss: 0.3663 - accuracy: 0.88 - ETA: 0s - loss: 0.3724 - accuracy: 0.88 - 0s 315us/sample - loss: 0.3713 - accuracy: 0.8835 - val_loss: 0.3302 - val_accuracy: 0.8947\n",
      "Epoch 5/5\n",
      "455/455 [==============================] - ETA: 0s - loss: 0.2112 - accuracy: 1.00 - ETA: 0s - loss: 0.2666 - accuracy: 0.93 - ETA: 0s - loss: 0.2864 - accuracy: 0.90 - 0s 302us/sample - loss: 0.2829 - accuracy: 0.9099 - val_loss: 0.3411 - val_accuracy: 0.8860\n",
      "Train on 455 samples, validate on 114 samples\n",
      "Epoch 1/5\n",
      "455/455 [==============================] - ETA: 17s - loss: 0.6818 - accuracy: 0.406 - ETA: 1s - loss: 0.5994 - accuracy: 0.558 - 2s 4ms/sample - loss: 0.5633 - accuracy: 0.7099 - val_loss: 0.4690 - val_accuracy: 0.8333\n",
      "Epoch 2/5\n",
      "455/455 [==============================] - ETA: 0s - loss: 0.4908 - accuracy: 0.81 - ETA: 0s - loss: 0.4402 - accuracy: 0.85 - 0s 275us/sample - loss: 0.4454 - accuracy: 0.8637 - val_loss: 0.4270 - val_accuracy: 0.8596\n",
      "Epoch 3/5\n",
      "455/455 [==============================] - ETA: 0s - loss: 0.3238 - accuracy: 0.87 - ETA: 0s - loss: 0.4114 - accuracy: 0.85 - 0s 282us/sample - loss: 0.3848 - accuracy: 0.8681 - val_loss: 0.3415 - val_accuracy: 0.8684\n",
      "Epoch 4/5\n",
      "455/455 [==============================] - ETA: 0s - loss: 0.3571 - accuracy: 0.87 - ETA: 0s - loss: 0.2914 - accuracy: 0.89 - 0s 282us/sample - loss: 0.2730 - accuracy: 0.9099 - val_loss: 0.2851 - val_accuracy: 0.8860\n",
      "Epoch 5/5\n",
      "455/455 [==============================] - ETA: 0s - loss: 0.2387 - accuracy: 0.87 - ETA: 0s - loss: 0.2249 - accuracy: 0.91 - 0s 356us/sample - loss: 0.2401 - accuracy: 0.9209 - val_loss: 0.2477 - val_accuracy: 0.9211\n"
     ]
    },
    {
     "data": {
      "text/html": [
       "<span style=\"color:#4527A0\"><h1 style=\"font-size:18px\">Trial complete</h1></span>"
      ],
      "text/plain": [
       "<IPython.core.display.HTML object>"
      ]
     },
     "metadata": {},
     "output_type": "display_data"
    },
    {
     "data": {
      "text/html": [
       "<span style=\"color:#4527A0\"><h1 style=\"font-size:18px\">Trial summary</h1></span>"
      ],
      "text/plain": [
       "<IPython.core.display.HTML object>"
      ]
     },
     "metadata": {},
     "output_type": "display_data"
    },
    {
     "data": {
      "text/html": [
       "<span style=\"color:cyan\"> |-Trial ID: f657347e3ca62af632527f8a4002b886</span>"
      ],
      "text/plain": [
       "<IPython.core.display.HTML object>"
      ]
     },
     "metadata": {},
     "output_type": "display_data"
    },
    {
     "data": {
      "text/html": [
       "<span style=\"color:cyan\"> |-Score: 0.903508722782135</span>"
      ],
      "text/plain": [
       "<IPython.core.display.HTML object>"
      ]
     },
     "metadata": {},
     "output_type": "display_data"
    },
    {
     "data": {
      "text/html": [
       "<span style=\"color:cyan\"> |-Best step: 0</span>"
      ],
      "text/plain": [
       "<IPython.core.display.HTML object>"
      ]
     },
     "metadata": {},
     "output_type": "display_data"
    },
    {
     "data": {
      "text/html": [
       "<span style=\"color:#7E57C2\"><h2 style=\"font-size:16px\">Hyperparameters:</h2></span>"
      ],
      "text/plain": [
       "<IPython.core.display.HTML object>"
      ]
     },
     "metadata": {},
     "output_type": "display_data"
    },
    {
     "data": {
      "text/html": [
       "<span style=\"color:cyan\"> |-learning_rate: 0.0001</span>"
      ],
      "text/plain": [
       "<IPython.core.display.HTML object>"
      ]
     },
     "metadata": {},
     "output_type": "display_data"
    },
    {
     "data": {
      "text/html": [
       "<span style=\"color:blue\"> |-num_layers: 14</span>"
      ],
      "text/plain": [
       "<IPython.core.display.HTML object>"
      ]
     },
     "metadata": {},
     "output_type": "display_data"
    },
    {
     "data": {
      "text/html": [
       "<span style=\"color:cyan\"> |-units_0: 224</span>"
      ],
      "text/plain": [
       "<IPython.core.display.HTML object>"
      ]
     },
     "metadata": {},
     "output_type": "display_data"
    },
    {
     "data": {
      "text/html": [
       "<span style=\"color:blue\"> |-units_1: 96</span>"
      ],
      "text/plain": [
       "<IPython.core.display.HTML object>"
      ]
     },
     "metadata": {},
     "output_type": "display_data"
    },
    {
     "data": {
      "text/html": [
       "<span style=\"color:cyan\"> |-units_10: 416</span>"
      ],
      "text/plain": [
       "<IPython.core.display.HTML object>"
      ]
     },
     "metadata": {},
     "output_type": "display_data"
    },
    {
     "data": {
      "text/html": [
       "<span style=\"color:blue\"> |-units_11: 416</span>"
      ],
      "text/plain": [
       "<IPython.core.display.HTML object>"
      ]
     },
     "metadata": {},
     "output_type": "display_data"
    },
    {
     "data": {
      "text/html": [
       "<span style=\"color:cyan\"> |-units_12: 192</span>"
      ],
      "text/plain": [
       "<IPython.core.display.HTML object>"
      ]
     },
     "metadata": {},
     "output_type": "display_data"
    },
    {
     "data": {
      "text/html": [
       "<span style=\"color:blue\"> |-units_13: 192</span>"
      ],
      "text/plain": [
       "<IPython.core.display.HTML object>"
      ]
     },
     "metadata": {},
     "output_type": "display_data"
    },
    {
     "data": {
      "text/html": [
       "<span style=\"color:cyan\"> |-units_14: 416</span>"
      ],
      "text/plain": [
       "<IPython.core.display.HTML object>"
      ]
     },
     "metadata": {},
     "output_type": "display_data"
    },
    {
     "data": {
      "text/html": [
       "<span style=\"color:blue\"> |-units_15: 256</span>"
      ],
      "text/plain": [
       "<IPython.core.display.HTML object>"
      ]
     },
     "metadata": {},
     "output_type": "display_data"
    },
    {
     "data": {
      "text/html": [
       "<span style=\"color:cyan\"> |-units_16: 32</span>"
      ],
      "text/plain": [
       "<IPython.core.display.HTML object>"
      ]
     },
     "metadata": {},
     "output_type": "display_data"
    },
    {
     "data": {
      "text/html": [
       "<span style=\"color:blue\"> |-units_17: 512</span>"
      ],
      "text/plain": [
       "<IPython.core.display.HTML object>"
      ]
     },
     "metadata": {},
     "output_type": "display_data"
    },
    {
     "data": {
      "text/html": [
       "<span style=\"color:cyan\"> |-units_2: 64</span>"
      ],
      "text/plain": [
       "<IPython.core.display.HTML object>"
      ]
     },
     "metadata": {},
     "output_type": "display_data"
    },
    {
     "data": {
      "text/html": [
       "<span style=\"color:blue\"> |-units_3: 288</span>"
      ],
      "text/plain": [
       "<IPython.core.display.HTML object>"
      ]
     },
     "metadata": {},
     "output_type": "display_data"
    },
    {
     "data": {
      "text/html": [
       "<span style=\"color:cyan\"> |-units_4: 64</span>"
      ],
      "text/plain": [
       "<IPython.core.display.HTML object>"
      ]
     },
     "metadata": {},
     "output_type": "display_data"
    },
    {
     "data": {
      "text/html": [
       "<span style=\"color:blue\"> |-units_5: 32</span>"
      ],
      "text/plain": [
       "<IPython.core.display.HTML object>"
      ]
     },
     "metadata": {},
     "output_type": "display_data"
    },
    {
     "data": {
      "text/html": [
       "<span style=\"color:cyan\"> |-units_6: 128</span>"
      ],
      "text/plain": [
       "<IPython.core.display.HTML object>"
      ]
     },
     "metadata": {},
     "output_type": "display_data"
    },
    {
     "data": {
      "text/html": [
       "<span style=\"color:blue\"> |-units_7: 128</span>"
      ],
      "text/plain": [
       "<IPython.core.display.HTML object>"
      ]
     },
     "metadata": {},
     "output_type": "display_data"
    },
    {
     "data": {
      "text/html": [
       "<span style=\"color:cyan\"> |-units_8: 384</span>"
      ],
      "text/plain": [
       "<IPython.core.display.HTML object>"
      ]
     },
     "metadata": {},
     "output_type": "display_data"
    },
    {
     "data": {
      "text/html": [
       "<span style=\"color:blue\"> |-units_9: 160</span>"
      ],
      "text/plain": [
       "<IPython.core.display.HTML object>"
      ]
     },
     "metadata": {},
     "output_type": "display_data"
    },
    {
     "data": {
      "text/html": [
       "<span style=\"color:#4527A0\"><h1 style=\"font-size:18px\">Starting new trial</h1></span>"
      ],
      "text/plain": [
       "<IPython.core.display.HTML object>"
      ]
     },
     "metadata": {},
     "output_type": "display_data"
    },
    {
     "name": "stdout",
     "output_type": "stream",
     "text": [
      "Train on 455 samples, validate on 114 samples\n",
      "Epoch 1/5\n",
      "455/455 [==============================] - ETA: 20s - loss: 0.6958 - accuracy: 0.250 - ETA: 2s - loss: 0.6667 - accuracy: 0.354 - ETA: 0s - loss: 0.6561 - accuracy: 0.40 - ETA: 0s - loss: 0.6303 - accuracy: 0.52 - 2s 5ms/sample - loss: 0.6300 - accuracy: 0.5253 - val_loss: 0.5322 - val_accuracy: 0.7719\n",
      "Epoch 2/5\n",
      "455/455 [==============================] - ETA: 0s - loss: 0.5175 - accuracy: 0.81 - ETA: 0s - loss: 0.4950 - accuracy: 0.88 - ETA: 0s - loss: 0.4790 - accuracy: 0.89 - 0s 537us/sample - loss: 0.4545 - accuracy: 0.8967 - val_loss: 0.5255 - val_accuracy: 0.8158\n",
      "Epoch 3/5\n",
      "455/455 [==============================] - ETA: 0s - loss: 0.3209 - accuracy: 0.87 - ETA: 0s - loss: 0.3702 - accuracy: 0.86 - ETA: 0s - loss: 0.3922 - accuracy: 0.86 - 0s 549us/sample - loss: 0.3750 - accuracy: 0.8681 - val_loss: 0.3111 - val_accuracy: 0.8947\n",
      "Epoch 4/5\n",
      "455/455 [==============================] - ETA: 0s - loss: 0.1234 - accuracy: 1.00 - ETA: 0s - loss: 0.2645 - accuracy: 0.93 - ETA: 0s - loss: 0.2680 - accuracy: 0.92 - 0s 539us/sample - loss: 0.2681 - accuracy: 0.9165 - val_loss: 0.2724 - val_accuracy: 0.9211\n",
      "Epoch 5/5\n",
      "455/455 [==============================] - ETA: 0s - loss: 0.2059 - accuracy: 0.93 - ETA: 0s - loss: 0.2218 - accuracy: 0.92 - ETA: 0s - loss: 0.2180 - accuracy: 0.92 - 0s 428us/sample - loss: 0.2217 - accuracy: 0.9187 - val_loss: 0.2670 - val_accuracy: 0.8596\n",
      "Train on 455 samples, validate on 114 samples\n",
      "Epoch 1/5\n",
      "455/455 [==============================] - ETA: 20s - loss: 0.6873 - accuracy: 0.312 - ETA: 2s - loss: 0.6554 - accuracy: 0.369 - ETA: 0s - loss: 0.6334 - accuracy: 0.50 - ETA: 0s - loss: 0.6041 - accuracy: 0.59 - 2s 4ms/sample - loss: 0.6022 - accuracy: 0.6044 - val_loss: 0.4663 - val_accuracy: 0.8421\n",
      "Epoch 2/5\n",
      "455/455 [==============================] - ETA: 0s - loss: 0.4640 - accuracy: 0.87 - ETA: 0s - loss: 0.4108 - accuracy: 0.87 - ETA: 0s - loss: 0.4007 - accuracy: 0.87 - ETA: 0s - loss: 0.3550 - accuracy: 0.89 - 0s 448us/sample - loss: 0.3553 - accuracy: 0.8923 - val_loss: 0.4470 - val_accuracy: 0.7982\n",
      "Epoch 3/5\n",
      "455/455 [==============================] - ETA: 0s - loss: 0.4975 - accuracy: 0.81 - ETA: 0s - loss: 0.4550 - accuracy: 0.80 - ETA: 0s - loss: 0.3783 - accuracy: 0.84 - ETA: 0s - loss: 0.3706 - accuracy: 0.85 - 0s 455us/sample - loss: 0.3702 - accuracy: 0.8527 - val_loss: 0.2878 - val_accuracy: 0.9035\n",
      "Epoch 4/5\n",
      "455/455 [==============================] - ETA: 0s - loss: 0.2537 - accuracy: 0.90 - ETA: 0s - loss: 0.2583 - accuracy: 0.91 - ETA: 0s - loss: 0.2456 - accuracy: 0.90 - ETA: 0s - loss: 0.2651 - accuracy: 0.88 - 0s 474us/sample - loss: 0.2640 - accuracy: 0.8879 - val_loss: 0.2887 - val_accuracy: 0.9211\n",
      "Epoch 5/5\n",
      "455/455 [==============================] - ETA: 0s - loss: 0.0592 - accuracy: 1.00 - ETA: 0s - loss: 0.3813 - accuracy: 0.90 - ETA: 0s - loss: 0.3629 - accuracy: 0.87 - 0s 437us/sample - loss: 0.3566 - accuracy: 0.8725 - val_loss: 0.2720 - val_accuracy: 0.9035\n",
      "Train on 455 samples, validate on 114 samples\n",
      "Epoch 1/5\n",
      "455/455 [==============================] - ETA: 20s - loss: 0.6948 - accuracy: 0.187 - ETA: 2s - loss: 0.6888 - accuracy: 0.328 - ETA: 0s - loss: 0.6777 - accuracy: 0.39 - 2s 5ms/sample - loss: 0.6673 - accuracy: 0.4637 - val_loss: 0.6231 - val_accuracy: 0.8684\n",
      "Epoch 2/5\n",
      "455/455 [==============================] - ETA: 0s - loss: 0.6243 - accuracy: 0.93 - ETA: 0s - loss: 0.5873 - accuracy: 0.87 - ETA: 0s - loss: 0.5475 - accuracy: 0.88 - 0s 434us/sample - loss: 0.5191 - accuracy: 0.8659 - val_loss: 0.5327 - val_accuracy: 0.8158\n",
      "Epoch 3/5\n",
      "455/455 [==============================] - ETA: 0s - loss: 0.4538 - accuracy: 0.84 - ETA: 0s - loss: 0.4118 - accuracy: 0.83 - ETA: 0s - loss: 0.3806 - accuracy: 0.85 - 0s 433us/sample - loss: 0.3583 - accuracy: 0.8725 - val_loss: 0.3286 - val_accuracy: 0.8860\n",
      "Epoch 4/5\n",
      "455/455 [==============================] - ETA: 0s - loss: 0.0979 - accuracy: 1.00 - ETA: 0s - loss: 0.2608 - accuracy: 0.90 - ETA: 0s - loss: 0.2293 - accuracy: 0.90 - 0s 415us/sample - loss: 0.2366 - accuracy: 0.9077 - val_loss: 0.3437 - val_accuracy: 0.8333\n",
      "Epoch 5/5\n",
      "455/455 [==============================] - ETA: 0s - loss: 0.4064 - accuracy: 0.84 - ETA: 0s - loss: 0.3570 - accuracy: 0.90 - ETA: 0s - loss: 0.3507 - accuracy: 0.87 - 0s 421us/sample - loss: 0.3426 - accuracy: 0.8725 - val_loss: 0.3019 - val_accuracy: 0.8509\n"
     ]
    },
    {
     "data": {
      "text/html": [
       "<span style=\"color:#4527A0\"><h1 style=\"font-size:18px\">Trial complete</h1></span>"
      ],
      "text/plain": [
       "<IPython.core.display.HTML object>"
      ]
     },
     "metadata": {},
     "output_type": "display_data"
    },
    {
     "data": {
      "text/html": [
       "<span style=\"color:#4527A0\"><h1 style=\"font-size:18px\">Trial summary</h1></span>"
      ],
      "text/plain": [
       "<IPython.core.display.HTML object>"
      ]
     },
     "metadata": {},
     "output_type": "display_data"
    },
    {
     "data": {
      "text/html": [
       "<span style=\"color:cyan\"> |-Trial ID: 36140123c7a7fde1368fc3c236136d38</span>"
      ],
      "text/plain": [
       "<IPython.core.display.HTML object>"
      ]
     },
     "metadata": {},
     "output_type": "display_data"
    },
    {
     "data": {
      "text/html": [
       "<span style=\"color:cyan\"> |-Score: 0.9093567728996277</span>"
      ],
      "text/plain": [
       "<IPython.core.display.HTML object>"
      ]
     },
     "metadata": {},
     "output_type": "display_data"
    },
    {
     "data": {
      "text/html": [
       "<span style=\"color:cyan\"> |-Best step: 0</span>"
      ],
      "text/plain": [
       "<IPython.core.display.HTML object>"
      ]
     },
     "metadata": {},
     "output_type": "display_data"
    },
    {
     "data": {
      "text/html": [
       "<span style=\"color:#7E57C2\"><h2 style=\"font-size:16px\">Hyperparameters:</h2></span>"
      ],
      "text/plain": [
       "<IPython.core.display.HTML object>"
      ]
     },
     "metadata": {},
     "output_type": "display_data"
    },
    {
     "data": {
      "text/html": [
       "<span style=\"color:cyan\"> |-learning_rate: 0.0001</span>"
      ],
      "text/plain": [
       "<IPython.core.display.HTML object>"
      ]
     },
     "metadata": {},
     "output_type": "display_data"
    },
    {
     "data": {
      "text/html": [
       "<span style=\"color:blue\"> |-num_layers: 19</span>"
      ],
      "text/plain": [
       "<IPython.core.display.HTML object>"
      ]
     },
     "metadata": {},
     "output_type": "display_data"
    },
    {
     "data": {
      "text/html": [
       "<span style=\"color:cyan\"> |-units_0: 480</span>"
      ],
      "text/plain": [
       "<IPython.core.display.HTML object>"
      ]
     },
     "metadata": {},
     "output_type": "display_data"
    },
    {
     "data": {
      "text/html": [
       "<span style=\"color:blue\"> |-units_1: 96</span>"
      ],
      "text/plain": [
       "<IPython.core.display.HTML object>"
      ]
     },
     "metadata": {},
     "output_type": "display_data"
    },
    {
     "data": {
      "text/html": [
       "<span style=\"color:cyan\"> |-units_10: 64</span>"
      ],
      "text/plain": [
       "<IPython.core.display.HTML object>"
      ]
     },
     "metadata": {},
     "output_type": "display_data"
    },
    {
     "data": {
      "text/html": [
       "<span style=\"color:blue\"> |-units_11: 384</span>"
      ],
      "text/plain": [
       "<IPython.core.display.HTML object>"
      ]
     },
     "metadata": {},
     "output_type": "display_data"
    },
    {
     "data": {
      "text/html": [
       "<span style=\"color:cyan\"> |-units_12: 224</span>"
      ],
      "text/plain": [
       "<IPython.core.display.HTML object>"
      ]
     },
     "metadata": {},
     "output_type": "display_data"
    },
    {
     "data": {
      "text/html": [
       "<span style=\"color:blue\"> |-units_13: 288</span>"
      ],
      "text/plain": [
       "<IPython.core.display.HTML object>"
      ]
     },
     "metadata": {},
     "output_type": "display_data"
    },
    {
     "data": {
      "text/html": [
       "<span style=\"color:cyan\"> |-units_14: 416</span>"
      ],
      "text/plain": [
       "<IPython.core.display.HTML object>"
      ]
     },
     "metadata": {},
     "output_type": "display_data"
    },
    {
     "data": {
      "text/html": [
       "<span style=\"color:blue\"> |-units_15: 320</span>"
      ],
      "text/plain": [
       "<IPython.core.display.HTML object>"
      ]
     },
     "metadata": {},
     "output_type": "display_data"
    },
    {
     "data": {
      "text/html": [
       "<span style=\"color:cyan\"> |-units_16: 352</span>"
      ],
      "text/plain": [
       "<IPython.core.display.HTML object>"
      ]
     },
     "metadata": {},
     "output_type": "display_data"
    },
    {
     "data": {
      "text/html": [
       "<span style=\"color:blue\"> |-units_17: 288</span>"
      ],
      "text/plain": [
       "<IPython.core.display.HTML object>"
      ]
     },
     "metadata": {},
     "output_type": "display_data"
    },
    {
     "data": {
      "text/html": [
       "<span style=\"color:cyan\"> |-units_18: 32</span>"
      ],
      "text/plain": [
       "<IPython.core.display.HTML object>"
      ]
     },
     "metadata": {},
     "output_type": "display_data"
    },
    {
     "data": {
      "text/html": [
       "<span style=\"color:blue\"> |-units_2: 256</span>"
      ],
      "text/plain": [
       "<IPython.core.display.HTML object>"
      ]
     },
     "metadata": {},
     "output_type": "display_data"
    },
    {
     "data": {
      "text/html": [
       "<span style=\"color:cyan\"> |-units_3: 96</span>"
      ],
      "text/plain": [
       "<IPython.core.display.HTML object>"
      ]
     },
     "metadata": {},
     "output_type": "display_data"
    },
    {
     "data": {
      "text/html": [
       "<span style=\"color:blue\"> |-units_4: 160</span>"
      ],
      "text/plain": [
       "<IPython.core.display.HTML object>"
      ]
     },
     "metadata": {},
     "output_type": "display_data"
    },
    {
     "data": {
      "text/html": [
       "<span style=\"color:cyan\"> |-units_5: 480</span>"
      ],
      "text/plain": [
       "<IPython.core.display.HTML object>"
      ]
     },
     "metadata": {},
     "output_type": "display_data"
    },
    {
     "data": {
      "text/html": [
       "<span style=\"color:blue\"> |-units_6: 192</span>"
      ],
      "text/plain": [
       "<IPython.core.display.HTML object>"
      ]
     },
     "metadata": {},
     "output_type": "display_data"
    },
    {
     "data": {
      "text/html": [
       "<span style=\"color:cyan\"> |-units_7: 192</span>"
      ],
      "text/plain": [
       "<IPython.core.display.HTML object>"
      ]
     },
     "metadata": {},
     "output_type": "display_data"
    },
    {
     "data": {
      "text/html": [
       "<span style=\"color:blue\"> |-units_8: 416</span>"
      ],
      "text/plain": [
       "<IPython.core.display.HTML object>"
      ]
     },
     "metadata": {},
     "output_type": "display_data"
    },
    {
     "data": {
      "text/html": [
       "<span style=\"color:cyan\"> |-units_9: 256</span>"
      ],
      "text/plain": [
       "<IPython.core.display.HTML object>"
      ]
     },
     "metadata": {},
     "output_type": "display_data"
    },
    {
     "name": "stdout",
     "output_type": "stream",
     "text": [
      "INFO:tensorflow:Oracle triggered exit\n"
     ]
    }
   ],
   "source": [
    "tuner.search(X_train, y_train,epochs=5 , validation_data=(X_test, y_test))"
   ]
  },
  {
   "cell_type": "code",
   "execution_count": 138,
   "metadata": {},
   "outputs": [
    {
     "name": "stdout",
     "output_type": "stream",
     "text": [
      "Model: \"sequential_5\"\n",
      "_________________________________________________________________\n",
      "Layer (type)                 Output Shape              Param #   \n",
      "=================================================================\n",
      "layer1 (Dense)               (None, 96)                2976      \n",
      "_________________________________________________________________\n",
      "layer2 (Dense)               (None, 160)               15520     \n",
      "_________________________________________________________________\n",
      "layer3 (Dense)               (None, 96)                15456     \n",
      "_________________________________________________________________\n",
      "layer4 (Dense)               (None, 256)               24832     \n",
      "_________________________________________________________________\n",
      "layer5 (Dense)               (None, 384)               98688     \n",
      "_________________________________________________________________\n",
      "layer6 (Dense)               (None, 128)               49280     \n",
      "_________________________________________________________________\n",
      "layer7 (Dense)               (None, 416)               53664     \n",
      "_________________________________________________________________\n",
      "layer8 (Dense)               (None, 96)                40032     \n",
      "_________________________________________________________________\n",
      "layer9 (Dense)               (None, 224)               21728     \n",
      "_________________________________________________________________\n",
      "layer10 (Dense)              (None, 64)                14400     \n",
      "_________________________________________________________________\n",
      "layer11 (Dense)              (None, 128)               8320      \n",
      "_________________________________________________________________\n",
      "layer12 (Dense)              (None, 64)                8256      \n",
      "_________________________________________________________________\n",
      "layer13 (Dense)              (None, 224)               14560     \n",
      "_________________________________________________________________\n",
      "layer14 (Dense)              (None, 480)               108000    \n",
      "_________________________________________________________________\n",
      "layer15 (Dense)              (None, 288)               138528    \n",
      "_________________________________________________________________\n",
      "layer16 (Dense)              (None, 384)               110976    \n",
      "_________________________________________________________________\n",
      "layer17 (Dense)              (None, 224)               86240     \n",
      "_________________________________________________________________\n",
      "layer18 (Dense)              (None, 128)               28800     \n",
      "_________________________________________________________________\n",
      "layer19 (Dense)              (None, 2)                 258       \n",
      "=================================================================\n",
      "Total params: 840,514\n",
      "Trainable params: 840,514\n",
      "Non-trainable params: 0\n",
      "_________________________________________________________________\n"
     ]
    }
   ],
   "source": [
    "model = Sequential()\n",
    "model.add(Dense(96, input_dim=30,name=\"layer1\" ,activation='relu'))\n",
    "model.add(Dense(160, name=\"layer2\" , activation='relu'))\n",
    "model.add(Dense(96, name=\"layer3\" , activation='relu'))\n",
    "model.add(Dense(256, name=\"layer4\" , activation='relu'))\n",
    "model.add(Dense(384, name=\"layer5\" , activation='relu'))\n",
    "model.add(Dense(128, name=\"layer6\" , activation='relu'))\n",
    "model.add(Dense(416, name=\"layer7\" , activation='relu'))\n",
    "model.add(Dense(96, name=\"layer8\" , activation='relu'))\n",
    "model.add(Dense(224, name=\"layer9\" , activation='relu'))\n",
    "model.add(Dense(64, name=\"layer10\" , activation='relu'))\n",
    "model.add(Dense(128, name=\"layer11\" , activation='relu'))\n",
    "model.add(Dense(64, name=\"layer12\" , activation='relu'))\n",
    "model.add(Dense(224, name=\"layer13\" , activation='relu'))\n",
    "model.add(Dense(480, name=\"layer14\" , activation='relu'))\n",
    "model.add(Dense(288, name=\"layer15\" , activation='relu'))\n",
    "model.add(Dense(384, name=\"layer16\" , activation='relu'))\n",
    "model.add(Dense(224, name=\"layer17\" , activation='relu'))\n",
    "model.add(Dense(128, name=\"layer18\" , activation='relu'))\n",
    "model.add(Dense(2, name=\"layer19\" , activation='softmax'))\n",
    "\n",
    "model.summary()\n",
    "\n"
   ]
  },
  {
   "cell_type": "code",
   "execution_count": 139,
   "metadata": {},
   "outputs": [
    {
     "name": "stdout",
     "output_type": "stream",
     "text": [
      "Train on 455 samples, validate on 114 samples\n",
      "Epoch 1/15\n",
      "455/455 [==============================] - ETA: 1:50 - loss: 0.6985 - accuracy: 0.70 - ETA: 20s - loss: 0.6710 - accuracy: 0.5600 - ETA: 10s - loss: 0.6911 - accuracy: 0.544 - ETA: 6s - loss: 0.6882 - accuracy: 0.592 - ETA: 4s - loss: 0.6867 - accuracy: 0.61 - ETA: 3s - loss: 0.6917 - accuracy: 0.56 - ETA: 2s - loss: 0.6843 - accuracy: 0.60 - ETA: 1s - loss: 0.6666 - accuracy: 0.62 - ETA: 1s - loss: 0.6683 - accuracy: 0.62 - ETA: 0s - loss: 0.6673 - accuracy: 0.62 - ETA: 0s - loss: 0.6537 - accuracy: 0.64 - ETA: 0s - loss: 0.6399 - accuracy: 0.67 - 3s 7ms/step - loss: 0.6374 - accuracy: 0.6703 - val_loss: 0.4591 - val_accuracy: 0.7632\n",
      "Epoch 2/15\n",
      "455/455 [==============================] - ETA: 0s - loss: 0.4567 - accuracy: 0.80 - ETA: 0s - loss: 0.4803 - accuracy: 0.80 - ETA: 0s - loss: 0.4433 - accuracy: 0.83 - ETA: 0s - loss: 0.4533 - accuracy: 0.83 - ETA: 0s - loss: 0.3996 - accuracy: 0.85 - ETA: 0s - loss: 0.4069 - accuracy: 0.84 - ETA: 0s - loss: 0.3926 - accuracy: 0.84 - ETA: 0s - loss: 0.3706 - accuracy: 0.85 - ETA: 0s - loss: 0.3670 - accuracy: 0.86 - ETA: 0s - loss: 0.3624 - accuracy: 0.86 - ETA: 0s - loss: 0.3528 - accuracy: 0.87 - ETA: 0s - loss: 0.3383 - accuracy: 0.88 - 1s 1ms/step - loss: 0.3407 - accuracy: 0.8813 - val_loss: 0.4911 - val_accuracy: 0.7807\n",
      "Epoch 3/15\n",
      "455/455 [==============================] - ETA: 0s - loss: 0.6028 - accuracy: 0.80 - ETA: 0s - loss: 0.5253 - accuracy: 0.66 - ETA: 0s - loss: 0.4372 - accuracy: 0.74 - ETA: 0s - loss: 0.3553 - accuracy: 0.82 - ETA: 0s - loss: 0.3564 - accuracy: 0.82 - ETA: 0s - loss: 0.3024 - accuracy: 0.86 - ETA: 0s - loss: 0.3005 - accuracy: 0.87 - ETA: 0s - loss: 0.2823 - accuracy: 0.87 - ETA: 0s - loss: 0.2811 - accuracy: 0.87 - ETA: 0s - loss: 0.2865 - accuracy: 0.88 - ETA: 0s - loss: 0.2767 - accuracy: 0.88 - ETA: 0s - loss: 0.2694 - accuracy: 0.89 - 1s 1ms/step - loss: 0.2674 - accuracy: 0.8923 - val_loss: 0.2700 - val_accuracy: 0.8860\n",
      "Epoch 4/15\n",
      "455/455 [==============================] - ETA: 0s - loss: 0.2414 - accuracy: 0.90 - ETA: 0s - loss: 0.3272 - accuracy: 0.90 - ETA: 0s - loss: 0.4972 - accuracy: 0.81 - ETA: 0s - loss: 0.5168 - accuracy: 0.79 - ETA: 0s - loss: 0.5294 - accuracy: 0.78 - ETA: 0s - loss: 0.5185 - accuracy: 0.78 - ETA: 0s - loss: 0.5029 - accuracy: 0.80 - ETA: 0s - loss: 0.4845 - accuracy: 0.82 - ETA: 0s - loss: 0.4635 - accuracy: 0.83 - ETA: 0s - loss: 0.4475 - accuracy: 0.84 - ETA: 0s - loss: 0.4289 - accuracy: 0.84 - ETA: 0s - loss: 0.4345 - accuracy: 0.84 - ETA: 0s - loss: 0.4529 - accuracy: 0.83 - 1s 2ms/step - loss: 0.4498 - accuracy: 0.8352 - val_loss: 0.3523 - val_accuracy: 0.8333\n",
      "Epoch 5/15\n",
      "455/455 [==============================] - ETA: 0s - loss: 0.2403 - accuracy: 0.90 - ETA: 0s - loss: 0.3112 - accuracy: 0.90 - ETA: 0s - loss: 0.2872 - accuracy: 0.90 - ETA: 0s - loss: 0.2556 - accuracy: 0.90 - ETA: 0s - loss: 0.2355 - accuracy: 0.91 - ETA: 0s - loss: 0.2438 - accuracy: 0.91 - ETA: 0s - loss: 0.2396 - accuracy: 0.91 - ETA: 0s - loss: 0.2281 - accuracy: 0.92 - ETA: 0s - loss: 0.2192 - accuracy: 0.93 - ETA: 0s - loss: 0.2291 - accuracy: 0.91 - ETA: 0s - loss: 0.2592 - accuracy: 0.90 - ETA: 0s - loss: 0.2605 - accuracy: 0.90 - 1s 2ms/step - loss: 0.2659 - accuracy: 0.8967 - val_loss: 0.2590 - val_accuracy: 0.8684\n",
      "Epoch 6/15\n",
      "455/455 [==============================] - ETA: 0s - loss: 0.2590 - accuracy: 1.00 - ETA: 0s - loss: 0.2961 - accuracy: 0.88 - ETA: 0s - loss: 0.2769 - accuracy: 0.87 - ETA: 0s - loss: 0.2335 - accuracy: 0.88 - ETA: 0s - loss: 0.2075 - accuracy: 0.90 - ETA: 0s - loss: 0.2335 - accuracy: 0.88 - ETA: 0s - loss: 0.2803 - accuracy: 0.86 - ETA: 0s - loss: 0.2776 - accuracy: 0.87 - ETA: 0s - loss: 0.2807 - accuracy: 0.87 - ETA: 0s - loss: 0.2896 - accuracy: 0.87 - 1s 1ms/step - loss: 0.2860 - accuracy: 0.8835 - val_loss: 0.2515 - val_accuracy: 0.9298\n",
      "Epoch 7/15\n",
      "455/455 [==============================] - ETA: 0s - loss: 0.0866 - accuracy: 1.00 - ETA: 0s - loss: 0.2156 - accuracy: 0.86 - ETA: 0s - loss: 0.2276 - accuracy: 0.88 - ETA: 0s - loss: 0.2160 - accuracy: 0.90 - ETA: 0s - loss: 0.1978 - accuracy: 0.90 - ETA: 0s - loss: 0.2419 - accuracy: 0.89 - ETA: 0s - loss: 0.2806 - accuracy: 0.86 - ETA: 0s - loss: 0.2810 - accuracy: 0.87 - ETA: 0s - loss: 0.3048 - accuracy: 0.84 - ETA: 0s - loss: 0.3247 - accuracy: 0.82 - ETA: 0s - loss: 0.3226 - accuracy: 0.83 - ETA: 0s - loss: 0.3224 - accuracy: 0.83 - 1s 2ms/step - loss: 0.3189 - accuracy: 0.8418 - val_loss: 0.2164 - val_accuracy: 0.9386\n",
      "Epoch 8/15\n",
      "455/455 [==============================] - ETA: 0s - loss: 0.0757 - accuracy: 1.00 - ETA: 0s - loss: 0.2286 - accuracy: 0.92 - ETA: 0s - loss: 0.2057 - accuracy: 0.93 - ETA: 0s - loss: 0.1876 - accuracy: 0.93 - ETA: 0s - loss: 0.2234 - accuracy: 0.90 - ETA: 0s - loss: 0.2155 - accuracy: 0.90 - ETA: 0s - loss: 0.2286 - accuracy: 0.89 - ETA: 0s - loss: 0.2187 - accuracy: 0.90 - ETA: 0s - loss: 0.2248 - accuracy: 0.89 - ETA: 0s - loss: 0.2155 - accuracy: 0.89 - ETA: 0s - loss: 0.2161 - accuracy: 0.89 - ETA: 0s - loss: 0.2129 - accuracy: 0.90 - ETA: 0s - loss: 0.2079 - accuracy: 0.90 - ETA: 0s - loss: 0.1998 - accuracy: 0.90 - 1s 2ms/step - loss: 0.1976 - accuracy: 0.9077 - val_loss: 0.3946 - val_accuracy: 0.8860\n",
      "Epoch 9/15\n",
      "455/455 [==============================] - ETA: 0s - loss: 0.1016 - accuracy: 0.90 - ETA: 0s - loss: 0.3954 - accuracy: 0.92 - ETA: 0s - loss: 0.2928 - accuracy: 0.91 - ETA: 0s - loss: 0.2935 - accuracy: 0.90 - ETA: 0s - loss: 0.2698 - accuracy: 0.91 - ETA: 0s - loss: 0.2574 - accuracy: 0.90 - ETA: 0s - loss: 0.2332 - accuracy: 0.92 - ETA: 0s - loss: 0.2287 - accuracy: 0.92 - ETA: 0s - loss: 0.2512 - accuracy: 0.91 - ETA: 0s - loss: 0.2463 - accuracy: 0.91 - 1s 1ms/step - loss: 0.2486 - accuracy: 0.9187 - val_loss: 0.2117 - val_accuracy: 0.9474\n",
      "Epoch 10/15\n",
      "455/455 [==============================] - ETA: 0s - loss: 0.4409 - accuracy: 0.70 - ETA: 0s - loss: 0.2574 - accuracy: 0.90 - ETA: 0s - loss: 0.2722 - accuracy: 0.90 - ETA: 0s - loss: 0.2808 - accuracy: 0.90 - ETA: 0s - loss: 0.2553 - accuracy: 0.90 - ETA: 0s - loss: 0.2428 - accuracy: 0.90 - ETA: 0s - loss: 0.2275 - accuracy: 0.92 - ETA: 0s - loss: 0.2380 - accuracy: 0.91 - ETA: 0s - loss: 0.2267 - accuracy: 0.91 - ETA: 0s - loss: 0.2232 - accuracy: 0.92 - ETA: 0s - loss: 0.2249 - accuracy: 0.91 - ETA: 0s - loss: 0.2217 - accuracy: 0.92 - ETA: 0s - loss: 0.2175 - accuracy: 0.92 - 1s 2ms/step - loss: 0.2246 - accuracy: 0.9187 - val_loss: 0.2024 - val_accuracy: 0.9035\n",
      "Epoch 11/15\n",
      "455/455 [==============================] - ETA: 0s - loss: 0.0600 - accuracy: 1.00 - ETA: 0s - loss: 0.1608 - accuracy: 0.92 - ETA: 0s - loss: 0.2153 - accuracy: 0.91 - ETA: 0s - loss: 0.2458 - accuracy: 0.89 - ETA: 0s - loss: 0.2418 - accuracy: 0.90 - ETA: 0s - loss: 0.2311 - accuracy: 0.90 - ETA: 0s - loss: 0.2434 - accuracy: 0.89 - ETA: 0s - loss: 0.2745 - accuracy: 0.87 - ETA: 0s - loss: 0.2650 - accuracy: 0.88 - ETA: 0s - loss: 0.2693 - accuracy: 0.87 - ETA: 0s - loss: 0.2716 - accuracy: 0.87 - ETA: 0s - loss: 0.2735 - accuracy: 0.87 - 1s 2ms/step - loss: 0.2682 - accuracy: 0.8791 - val_loss: 0.3192 - val_accuracy: 0.8509\n",
      "Epoch 12/15\n",
      "455/455 [==============================] - ETA: 0s - loss: 0.2876 - accuracy: 0.80 - ETA: 0s - loss: 0.2951 - accuracy: 0.87 - ETA: 0s - loss: 0.2111 - accuracy: 0.91 - ETA: 0s - loss: 0.2519 - accuracy: 0.88 - ETA: 0s - loss: 0.2360 - accuracy: 0.90 - ETA: 0s - loss: 0.2206 - accuracy: 0.90 - ETA: 0s - loss: 0.2350 - accuracy: 0.90 - ETA: 0s - loss: 0.2332 - accuracy: 0.90 - ETA: 0s - loss: 0.2411 - accuracy: 0.89 - ETA: 0s - loss: 0.2494 - accuracy: 0.88 - ETA: 0s - loss: 0.2407 - accuracy: 0.89 - ETA: 0s - loss: 0.2367 - accuracy: 0.89 - 1s 2ms/step - loss: 0.2314 - accuracy: 0.9011 - val_loss: 0.2276 - val_accuracy: 0.8772\n",
      "Epoch 13/15\n",
      "455/455 [==============================] - ETA: 0s - loss: 0.1263 - accuracy: 1.00 - ETA: 0s - loss: 0.2269 - accuracy: 0.90 - ETA: 0s - loss: 0.1838 - accuracy: 0.91 - ETA: 0s - loss: 0.2466 - accuracy: 0.90 - ETA: 0s - loss: 0.2076 - accuracy: 0.90 - ETA: 0s - loss: 0.1933 - accuracy: 0.92 - ETA: 0s - loss: 0.2011 - accuracy: 0.91 - ETA: 0s - loss: 0.2028 - accuracy: 0.91 - ETA: 0s - loss: 0.2024 - accuracy: 0.92 - ETA: 0s - loss: 0.2282 - accuracy: 0.91 - ETA: 0s - loss: 0.2286 - accuracy: 0.90 - ETA: 0s - loss: 0.2333 - accuracy: 0.90 - ETA: 0s - loss: 0.2327 - accuracy: 0.90 - ETA: 0s - loss: 0.2198 - accuracy: 0.90 - ETA: 0s - loss: 0.2229 - accuracy: 0.91 - 1s 2ms/step - loss: 0.2242 - accuracy: 0.9099 - val_loss: 0.2586 - val_accuracy: 0.8509\n",
      "Epoch 14/15\n",
      "455/455 [==============================] - ETA: 0s - loss: 0.0898 - accuracy: 1.00 - ETA: 0s - loss: 0.2380 - accuracy: 0.87 - ETA: 0s - loss: 0.1776 - accuracy: 0.91 - ETA: 0s - loss: 0.1632 - accuracy: 0.91 - ETA: 0s - loss: 0.1808 - accuracy: 0.91 - ETA: 0s - loss: 0.1958 - accuracy: 0.91 - ETA: 0s - loss: 0.1945 - accuracy: 0.91 - ETA: 0s - loss: 0.2009 - accuracy: 0.91 - ETA: 0s - loss: 0.2005 - accuracy: 0.91 - ETA: 0s - loss: 0.1878 - accuracy: 0.91 - ETA: 0s - loss: 0.1929 - accuracy: 0.91 - ETA: 0s - loss: 0.2136 - accuracy: 0.90 - 1s 2ms/step - loss: 0.2089 - accuracy: 0.9055 - val_loss: 0.3403 - val_accuracy: 0.8333\n",
      "Epoch 15/15\n",
      "455/455 [==============================] - ETA: 0s - loss: 0.3265 - accuracy: 0.90 - ETA: 0s - loss: 0.1972 - accuracy: 0.90 - ETA: 0s - loss: 0.1655 - accuracy: 0.93 - ETA: 0s - loss: 0.1889 - accuracy: 0.90 - ETA: 0s - loss: 0.2453 - accuracy: 0.87 - ETA: 0s - loss: 0.2658 - accuracy: 0.87 - ETA: 0s - loss: 0.2533 - accuracy: 0.88 - ETA: 0s - loss: 0.2455 - accuracy: 0.89 - ETA: 0s - loss: 0.2353 - accuracy: 0.90 - ETA: 0s - loss: 0.2350 - accuracy: 0.91 - ETA: 0s - loss: 0.2363 - accuracy: 0.90 - 1s 1ms/step - loss: 0.2300 - accuracy: 0.9121 - val_loss: 0.3096 - val_accuracy: 0.8509\n"
     ]
    },
    {
     "data": {
      "text/plain": [
       "<keras.callbacks.callbacks.History at 0x7fbeec1f3f98>"
      ]
     },
     "execution_count": 139,
     "metadata": {},
     "output_type": "execute_result"
    }
   ],
   "source": [
    "# compile the keras model\n",
    "model.compile(loss='binary_crossentropy', optimizer='adam', metrics=['accuracy'])\n",
    "# fit the keras model on the dataset\n",
    "model.fit(X_train, y_train, epochs=15, batch_size=10, validation_data = (X_test ,y_test))"
   ]
  },
  {
   "cell_type": "code",
   "execution_count": 143,
   "metadata": {},
   "outputs": [
    {
     "name": "stdout",
     "output_type": "stream",
     "text": [
      "455/455 [==============================] - ETA:  - 0s 71us/step\n"
     ]
    },
    {
     "data": {
      "text/plain": [
       "0.8659340739250183"
      ]
     },
     "execution_count": 143,
     "metadata": {},
     "output_type": "execute_result"
    }
   ],
   "source": [
    "model.evaluate(X_train, y_train)[1]"
   ]
  },
  {
   "cell_type": "code",
   "execution_count": null,
   "metadata": {},
   "outputs": [],
   "source": []
  }
 ],
 "metadata": {
  "kernelspec": {
   "display_name": "conda_tensorflow2_p36",
   "language": "python",
   "name": "conda_tensorflow2_p36"
  },
  "language_info": {
   "codemirror_mode": {
    "name": "ipython",
    "version": 3
   },
   "file_extension": ".py",
   "mimetype": "text/x-python",
   "name": "python",
   "nbconvert_exporter": "python",
   "pygments_lexer": "ipython3",
   "version": "3.6.10"
  }
 },
 "nbformat": 4,
 "nbformat_minor": 4
}
