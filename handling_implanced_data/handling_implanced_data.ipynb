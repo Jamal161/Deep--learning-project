{
  "nbformat": 4,
  "nbformat_minor": 0,
  "metadata": {
    "colab": {
      "name": "handling_implanced_data.ipynb",
      "provenance": []
    },
    "kernelspec": {
      "name": "python3",
      "display_name": "Python 3"
    },
    "accelerator": "GPU"
  },
  "cells": [
    {
      "cell_type": "code",
      "metadata": {
        "id": "DOVes955kdUJ"
      },
      "source": [
        "## import libraries \n",
        "import numpy as np\n",
        "import pandas as pd\n",
        "import matplotlib.pyplot as plt\n",
        "import seaborn as sns \n",
        "import tensorflow as tf\n",
        "from tensorflow import keras"
      ],
      "execution_count": 1,
      "outputs": []
    },
    {
      "cell_type": "code",
      "metadata": {
        "id": "B6fpDZuIkvex"
      },
      "source": [
        "## read dataset\n",
        "df  = pd.read_excel('default of credit card clients.xls' ,  index_col=1)\n",
        "df.head()\n",
        "\n",
        "## convert xls to csv file \n",
        "read_file = pd.read_excel (r'default of credit card clients.xls')\n",
        "read_file.to_csv (r'default of credit card clients.csv', index = None, header=True)"
      ],
      "execution_count": 2,
      "outputs": []
    },
    {
      "cell_type": "code",
      "metadata": {
        "colab": {
          "base_uri": "https://localhost:8080/",
          "height": 275
        },
        "id": "dZ6-l0uEk1Hc",
        "outputId": "be52414d-c7a5-452c-afff-595047d27a37"
      },
      "source": [
        "## read csv and skip first row\n",
        "df = pd.read_csv('./default of credit card clients.csv' ,skiprows =1)\n",
        "df.head()"
      ],
      "execution_count": 3,
      "outputs": [
        {
          "output_type": "execute_result",
          "data": {
            "text/html": [
              "<div>\n",
              "<style scoped>\n",
              "    .dataframe tbody tr th:only-of-type {\n",
              "        vertical-align: middle;\n",
              "    }\n",
              "\n",
              "    .dataframe tbody tr th {\n",
              "        vertical-align: top;\n",
              "    }\n",
              "\n",
              "    .dataframe thead th {\n",
              "        text-align: right;\n",
              "    }\n",
              "</style>\n",
              "<table border=\"1\" class=\"dataframe\">\n",
              "  <thead>\n",
              "    <tr style=\"text-align: right;\">\n",
              "      <th></th>\n",
              "      <th>ID</th>\n",
              "      <th>LIMIT_BAL</th>\n",
              "      <th>SEX</th>\n",
              "      <th>EDUCATION</th>\n",
              "      <th>MARRIAGE</th>\n",
              "      <th>AGE</th>\n",
              "      <th>PAY_0</th>\n",
              "      <th>PAY_2</th>\n",
              "      <th>PAY_3</th>\n",
              "      <th>PAY_4</th>\n",
              "      <th>PAY_5</th>\n",
              "      <th>PAY_6</th>\n",
              "      <th>BILL_AMT1</th>\n",
              "      <th>BILL_AMT2</th>\n",
              "      <th>BILL_AMT3</th>\n",
              "      <th>BILL_AMT4</th>\n",
              "      <th>BILL_AMT5</th>\n",
              "      <th>BILL_AMT6</th>\n",
              "      <th>PAY_AMT1</th>\n",
              "      <th>PAY_AMT2</th>\n",
              "      <th>PAY_AMT3</th>\n",
              "      <th>PAY_AMT4</th>\n",
              "      <th>PAY_AMT5</th>\n",
              "      <th>PAY_AMT6</th>\n",
              "      <th>default payment next month</th>\n",
              "    </tr>\n",
              "  </thead>\n",
              "  <tbody>\n",
              "    <tr>\n",
              "      <th>0</th>\n",
              "      <td>1</td>\n",
              "      <td>20000</td>\n",
              "      <td>female</td>\n",
              "      <td>university</td>\n",
              "      <td>married</td>\n",
              "      <td>24</td>\n",
              "      <td>2</td>\n",
              "      <td>2</td>\n",
              "      <td>-1</td>\n",
              "      <td>-1</td>\n",
              "      <td>-2</td>\n",
              "      <td>-2</td>\n",
              "      <td>3913</td>\n",
              "      <td>3102</td>\n",
              "      <td>689</td>\n",
              "      <td>0</td>\n",
              "      <td>0</td>\n",
              "      <td>0</td>\n",
              "      <td>0</td>\n",
              "      <td>689</td>\n",
              "      <td>0</td>\n",
              "      <td>0</td>\n",
              "      <td>0</td>\n",
              "      <td>0</td>\n",
              "      <td>1</td>\n",
              "    </tr>\n",
              "    <tr>\n",
              "      <th>1</th>\n",
              "      <td>2</td>\n",
              "      <td>120000</td>\n",
              "      <td>female</td>\n",
              "      <td>university</td>\n",
              "      <td>single</td>\n",
              "      <td>26</td>\n",
              "      <td>-1</td>\n",
              "      <td>2</td>\n",
              "      <td>0</td>\n",
              "      <td>0</td>\n",
              "      <td>0</td>\n",
              "      <td>2</td>\n",
              "      <td>2682</td>\n",
              "      <td>1725</td>\n",
              "      <td>2682</td>\n",
              "      <td>3272</td>\n",
              "      <td>3455</td>\n",
              "      <td>3261</td>\n",
              "      <td>0</td>\n",
              "      <td>1000</td>\n",
              "      <td>1000</td>\n",
              "      <td>1000</td>\n",
              "      <td>0</td>\n",
              "      <td>2000</td>\n",
              "      <td>1</td>\n",
              "    </tr>\n",
              "    <tr>\n",
              "      <th>2</th>\n",
              "      <td>3</td>\n",
              "      <td>90000</td>\n",
              "      <td>female</td>\n",
              "      <td>university</td>\n",
              "      <td>single</td>\n",
              "      <td>34</td>\n",
              "      <td>0</td>\n",
              "      <td>0</td>\n",
              "      <td>0</td>\n",
              "      <td>0</td>\n",
              "      <td>0</td>\n",
              "      <td>0</td>\n",
              "      <td>29239</td>\n",
              "      <td>14027</td>\n",
              "      <td>13559</td>\n",
              "      <td>14331</td>\n",
              "      <td>14948</td>\n",
              "      <td>15549</td>\n",
              "      <td>1518</td>\n",
              "      <td>1500</td>\n",
              "      <td>1000</td>\n",
              "      <td>1000</td>\n",
              "      <td>1000</td>\n",
              "      <td>5000</td>\n",
              "      <td>0</td>\n",
              "    </tr>\n",
              "    <tr>\n",
              "      <th>3</th>\n",
              "      <td>4</td>\n",
              "      <td>50000</td>\n",
              "      <td>female</td>\n",
              "      <td>university</td>\n",
              "      <td>married</td>\n",
              "      <td>37</td>\n",
              "      <td>0</td>\n",
              "      <td>0</td>\n",
              "      <td>0</td>\n",
              "      <td>0</td>\n",
              "      <td>0</td>\n",
              "      <td>0</td>\n",
              "      <td>46990</td>\n",
              "      <td>48233</td>\n",
              "      <td>49291</td>\n",
              "      <td>28314</td>\n",
              "      <td>28959</td>\n",
              "      <td>29547</td>\n",
              "      <td>2000</td>\n",
              "      <td>2019</td>\n",
              "      <td>1200</td>\n",
              "      <td>1100</td>\n",
              "      <td>1069</td>\n",
              "      <td>1000</td>\n",
              "      <td>0</td>\n",
              "    </tr>\n",
              "    <tr>\n",
              "      <th>4</th>\n",
              "      <td>5</td>\n",
              "      <td>50000</td>\n",
              "      <td>male</td>\n",
              "      <td>university</td>\n",
              "      <td>married</td>\n",
              "      <td>57</td>\n",
              "      <td>-1</td>\n",
              "      <td>0</td>\n",
              "      <td>-1</td>\n",
              "      <td>0</td>\n",
              "      <td>0</td>\n",
              "      <td>0</td>\n",
              "      <td>8617</td>\n",
              "      <td>5670</td>\n",
              "      <td>35835</td>\n",
              "      <td>20940</td>\n",
              "      <td>19146</td>\n",
              "      <td>19131</td>\n",
              "      <td>2000</td>\n",
              "      <td>36681</td>\n",
              "      <td>10000</td>\n",
              "      <td>9000</td>\n",
              "      <td>689</td>\n",
              "      <td>679</td>\n",
              "      <td>0</td>\n",
              "    </tr>\n",
              "  </tbody>\n",
              "</table>\n",
              "</div>"
            ],
            "text/plain": [
              "   ID  LIMIT_BAL     SEX  ... PAY_AMT5 PAY_AMT6  default payment next month\n",
              "0   1      20000  female  ...        0        0                           1\n",
              "1   2     120000  female  ...        0     2000                           1\n",
              "2   3      90000  female  ...     1000     5000                           0\n",
              "3   4      50000  female  ...     1069     1000                           0\n",
              "4   5      50000    male  ...      689      679                           0\n",
              "\n",
              "[5 rows x 25 columns]"
            ]
          },
          "metadata": {
            "tags": []
          },
          "execution_count": 3
        }
      ]
    },
    {
      "cell_type": "code",
      "metadata": {
        "colab": {
          "base_uri": "https://localhost:8080/"
        },
        "id": "UW5cqpfKkv-_",
        "outputId": "c99e5edf-842e-4d61-a7cf-082db894b880"
      },
      "source": [
        "## drop un necessary columns\n",
        "\n",
        "df.drop(['ID'] , axis = 1 , inplace = True)\n",
        "df.columns"
      ],
      "execution_count": 4,
      "outputs": [
        {
          "output_type": "execute_result",
          "data": {
            "text/plain": [
              "Index(['LIMIT_BAL', 'SEX', 'EDUCATION', 'MARRIAGE', 'AGE', 'PAY_0', 'PAY_2',\n",
              "       'PAY_3', 'PAY_4', 'PAY_5', 'PAY_6', 'BILL_AMT1', 'BILL_AMT2',\n",
              "       'BILL_AMT3', 'BILL_AMT4', 'BILL_AMT5', 'BILL_AMT6', 'PAY_AMT1',\n",
              "       'PAY_AMT2', 'PAY_AMT3', 'PAY_AMT4', 'PAY_AMT5', 'PAY_AMT6',\n",
              "       'default payment next month'],\n",
              "      dtype='object')"
            ]
          },
          "metadata": {
            "tags": []
          },
          "execution_count": 4
        }
      ]
    },
    {
      "cell_type": "code",
      "metadata": {
        "colab": {
          "base_uri": "https://localhost:8080/"
        },
        "id": "RWMj_QAqkwF3",
        "outputId": "07d4b850-4417-451f-dd82-03d2fd2e7ec6"
      },
      "source": [
        "df.rename({'default payment next month' : 'label'} ,axis =1 , inplace = True)\n",
        "df.columns"
      ],
      "execution_count": 5,
      "outputs": [
        {
          "output_type": "execute_result",
          "data": {
            "text/plain": [
              "Index(['LIMIT_BAL', 'SEX', 'EDUCATION', 'MARRIAGE', 'AGE', 'PAY_0', 'PAY_2',\n",
              "       'PAY_3', 'PAY_4', 'PAY_5', 'PAY_6', 'BILL_AMT1', 'BILL_AMT2',\n",
              "       'BILL_AMT3', 'BILL_AMT4', 'BILL_AMT5', 'BILL_AMT6', 'PAY_AMT1',\n",
              "       'PAY_AMT2', 'PAY_AMT3', 'PAY_AMT4', 'PAY_AMT5', 'PAY_AMT6', 'label'],\n",
              "      dtype='object')"
            ]
          },
          "metadata": {
            "tags": []
          },
          "execution_count": 5
        }
      ]
    },
    {
      "cell_type": "code",
      "metadata": {
        "colab": {
          "base_uri": "https://localhost:8080/"
        },
        "id": "joocF2awkwC-",
        "outputId": "364e93f8-c4ea-41ce-ddcd-9996d02e587d"
      },
      "source": [
        "## know number of duplicates\n",
        "print(\"number of duplicates is : {} \".format(df.duplicated().sum()))"
      ],
      "execution_count": 6,
      "outputs": [
        {
          "output_type": "stream",
          "text": [
            "number of duplicates is : 35 \n"
          ],
          "name": "stdout"
        }
      ]
    },
    {
      "cell_type": "code",
      "metadata": {
        "colab": {
          "base_uri": "https://localhost:8080/"
        },
        "id": "LKf7ZfQKkv8a",
        "outputId": "f2138940-033c-49c3-a1af-ecfef857031c"
      },
      "source": [
        "## drop duplicated in data \n",
        "\n",
        "df.drop_duplicates(inplace = True)\n",
        "print(\"number of duplicates is : {} \".format(df.duplicated().sum()))"
      ],
      "execution_count": 7,
      "outputs": [
        {
          "output_type": "stream",
          "text": [
            "number of duplicates is : 0 \n"
          ],
          "name": "stdout"
        }
      ]
    },
    {
      "cell_type": "code",
      "metadata": {
        "colab": {
          "base_uri": "https://localhost:8080/"
        },
        "id": "APkmOCd7kv54",
        "outputId": "3e406054-dd2e-4355-dc72-958cd05b9df5"
      },
      "source": [
        "df.dropna(inplace = True , axis = 0)\n",
        "df.shape"
      ],
      "execution_count": 8,
      "outputs": [
        {
          "output_type": "execute_result",
          "data": {
            "text/plain": [
              "(29316, 24)"
            ]
          },
          "metadata": {
            "tags": []
          },
          "execution_count": 8
        }
      ]
    },
    {
      "cell_type": "code",
      "metadata": {
        "colab": {
          "base_uri": "https://localhost:8080/"
        },
        "id": "3o3ICq2Uku4g",
        "outputId": "62379232-a3c2-4aaa-c08f-975540f82996"
      },
      "source": [
        "## data in consistent \n",
        "df['label'].value_counts()"
      ],
      "execution_count": 9,
      "outputs": [
        {
          "output_type": "execute_result",
          "data": {
            "text/plain": [
              "0    22796\n",
              "1     6520\n",
              "Name: label, dtype: int64"
            ]
          },
          "metadata": {
            "tags": []
          },
          "execution_count": 9
        }
      ]
    },
    {
      "cell_type": "code",
      "metadata": {
        "id": "XHhv0Q-PlRMO"
      },
      "source": [
        "def remove_outliers(column,result):\n",
        "    \n",
        "    plt.figure(figsize=(20,10))\n",
        "    plt.subplots(1, 2)\n",
        "    print(\"Number of samples before: {}\".format(result.shape[0]))\n",
        "\n",
        "    plt.subplot(121)\n",
        "    result.boxplot(column)\n",
        "    plt.title('before removing outliers')\n",
        "    \n",
        "    # Save the quartiles\n",
        "    citation_count_sum_25 = np.percentile(result[column], 25)\n",
        "    citation_count_sum_50 = np.percentile(result[column], 50)\n",
        "    citation_count_sum_75 = np.percentile(result[column], 75)\n",
        "    # Calculate the thresholds\n",
        "    IQR_citation_count_sum = citation_count_sum_75 - citation_count_sum_25\n",
        "    Lower_Limit = citation_count_sum_50 - IQR_citation_count_sum * 1.5\n",
        "    Upper_Limit = citation_count_sum_50 + IQR_citation_count_sum * 1.5\n",
        "\n",
        "    # Remove the outliers\n",
        "    result = result.loc[(result[column] > Lower_Limit) & (result[column] < Upper_Limit)]\n",
        "    \n",
        "    \n",
        "    plt.subplot(122)\n",
        "    result.boxplot(column)\n",
        "    plt.title('after removing outliers')        \n",
        "    print(\"Number of samples before: {}\".format(result.shape[0]))\n",
        "    return result     "
      ],
      "execution_count": 10,
      "outputs": []
    },
    {
      "cell_type": "code",
      "metadata": {
        "colab": {
          "base_uri": "https://localhost:8080/",
          "height": 332
        },
        "id": "vdAXnICelSJj",
        "outputId": "377d7a6a-aa34-44eb-bffd-5f06323159db"
      },
      "source": [
        "## remove outliers from this column\n",
        "result = remove_outliers(\"AGE\" , df)"
      ],
      "execution_count": 12,
      "outputs": [
        {
          "output_type": "stream",
          "text": [
            "Number of samples before: 29316\n",
            "Number of samples before: 28066\n"
          ],
          "name": "stdout"
        },
        {
          "output_type": "display_data",
          "data": {
            "text/plain": [
              "<Figure size 1440x720 with 0 Axes>"
            ]
          },
          "metadata": {
            "tags": []
          }
        },
        {
          "output_type": "display_data",
          "data": {
            "image/png": "[encoded data removed]",
            "text/plain": [
              "<Figure size 432x288 with 2 Axes>"
            ]
          },
          "metadata": {
            "tags": [],
            "needs_background": "light"
          }
        }
      ]
    },
    {
      "cell_type": "code",
      "metadata": {
        "id": "VNamZk74lZdI"
      },
      "source": [
        "X=df.iloc[:,:-1]\n",
        "y=df.iloc[:,-1]"
      ],
      "execution_count": 13,
      "outputs": []
    },
    {
      "cell_type": "code",
      "metadata": {
        "id": "XzfTKZmklpyL"
      },
      "source": [
        "X = pd.get_dummies(X)\n"
      ],
      "execution_count": 15,
      "outputs": []
    },
    {
      "cell_type": "code",
      "metadata": {
        "id": "PsLz-w10ljcr"
      },
      "source": [
        "## Standard Scaler \n",
        "from sklearn.preprocessing import MinMaxScaler\n",
        "scaler = MinMaxScaler()\n",
        "X = scaler.fit_transform(X)\n"
      ],
      "execution_count": 16,
      "outputs": []
    },
    {
      "cell_type": "code",
      "metadata": {
        "colab": {
          "base_uri": "https://localhost:8080/"
        },
        "id": "9YcYtfDulzo1",
        "outputId": "fcae4502-98b5-4c7c-f43d-a056cb68c42b"
      },
      "source": [
        "from sklearn.model_selection import train_test_split\n",
        "##Step1\n",
        "import tensorflow\n",
        "from tensorflow.keras.layers import Dense\n",
        "from sklearn.metrics import classification_report\n",
        "from tensorflow.keras.models import Sequential\n",
        "X_train, X_test, y_train, y_test = train_test_split(X, y, test_size=0.2,shuffle =True, random_state=42)\n",
        "\n",
        "\n",
        "print(\" train size is : \" ,X_train.shape)\n",
        "print(\" train label is : \" ,y_train.shape)\n",
        "print(\" test size is : \" ,X_test.shape)\n",
        "print(\" test label is : \" ,y_test.shape)\n"
      ],
      "execution_count": 24,
      "outputs": [
        {
          "output_type": "stream",
          "text": [
            " train size is :  (23452, 30)\n",
            " train label is :  (23452,)\n",
            " test size is :  (5864, 30)\n",
            " test label is :  (5864,)\n"
          ],
          "name": "stdout"
        }
      ]
    },
    {
      "cell_type": "code",
      "metadata": {
        "id": "RbgEi7xUl_FG"
      },
      "source": [
        "# define model\n",
        "model = Sequential()\n",
        "# define first hidden layer and visible layer\n",
        "model.add(Dense(50, input_dim=30, activation='relu', kernel_initializer='he_uniform'))\n",
        "# define output layer\n",
        "model.add(Dense(1, activation='sigmoid'))\n",
        "# define loss and optimizer\n",
        "model.compile(loss='binary_crossentropy', optimizer='adam')"
      ],
      "execution_count": 25,
      "outputs": []
    },
    {
      "cell_type": "code",
      "metadata": {
        "colab": {
          "base_uri": "https://localhost:8080/"
        },
        "id": "Fl9FUgcUmGUb",
        "outputId": "bb28f108-75c5-46cc-b34a-7c68f3fb1c12"
      },
      "source": [
        "model.fit(X_train,y_train,epochs=10)\n",
        "\n",
        "from sklearn.metrics import roc_auc_score\n",
        "y_pred1=model.predict(X_test)\n",
        "print(roc_auc_score(y_test,y_pred1))"
      ],
      "execution_count": 26,
      "outputs": [
        {
          "output_type": "stream",
          "text": [
            "Epoch 1/10\n",
            "733/733 [==============================] - 1s 2ms/step - loss: 0.5009\n",
            "Epoch 2/10\n",
            "733/733 [==============================] - 1s 2ms/step - loss: 0.4683\n",
            "Epoch 3/10\n",
            "733/733 [==============================] - 1s 2ms/step - loss: 0.4607\n",
            "Epoch 4/10\n",
            "733/733 [==============================] - 1s 2ms/step - loss: 0.4559\n",
            "Epoch 5/10\n",
            "733/733 [==============================] - 1s 2ms/step - loss: 0.4538\n",
            "Epoch 6/10\n",
            "733/733 [==============================] - 1s 2ms/step - loss: 0.4526\n",
            "Epoch 7/10\n",
            "733/733 [==============================] - 1s 2ms/step - loss: 0.4517\n",
            "Epoch 8/10\n",
            "733/733 [==============================] - 1s 2ms/step - loss: 0.4506\n",
            "Epoch 9/10\n",
            "733/733 [==============================] - 1s 2ms/step - loss: 0.4499\n",
            "Epoch 10/10\n",
            "733/733 [==============================] - 1s 2ms/step - loss: 0.4494\n",
            "0.7624099894097813\n"
          ],
          "name": "stdout"
        }
      ]
    },
    {
      "cell_type": "code",
      "metadata": {
        "colab": {
          "base_uri": "https://localhost:8080/"
        },
        "id": "Xj4dz6spmYcD",
        "outputId": "49fd7515-6824-4e8a-be47-8bb9e9f4eba5"
      },
      "source": [
        "model.evaluate(X_test , y_test)"
      ],
      "execution_count": 27,
      "outputs": [
        {
          "output_type": "stream",
          "text": [
            "184/184 [==============================] - 0s 1ms/step - loss: 0.4433\n"
          ],
          "name": "stdout"
        },
        {
          "output_type": "execute_result",
          "data": {
            "text/plain": [
              "0.4433252215385437"
            ]
          },
          "metadata": {
            "tags": []
          },
          "execution_count": 27
        }
      ]
    },
    {
      "cell_type": "code",
      "metadata": {
        "colab": {
          "base_uri": "https://localhost:8080/"
        },
        "id": "_NNmEZEjnJvL",
        "outputId": "0c24e9cd-fb09-4320-cf7d-8a438aba60f5"
      },
      "source": [
        "y_pred = model.predict(X_test)\n",
        "y_pred"
      ],
      "execution_count": 32,
      "outputs": [
        {
          "output_type": "execute_result",
          "data": {
            "text/plain": [
              "array([[0.12545356],\n",
              "       [0.19157447],\n",
              "       [0.10875966],\n",
              "       ...,\n",
              "       [0.05008418],\n",
              "       [0.22188567],\n",
              "       [0.16689245]], dtype=float32)"
            ]
          },
          "metadata": {
            "tags": []
          },
          "execution_count": 32
        }
      ]
    },
    {
      "cell_type": "code",
      "metadata": {
        "colab": {
          "base_uri": "https://localhost:8080/",
          "height": 624
        },
        "id": "6Mi3EEr6mhrb",
        "outputId": "dc55d8be-b3cb-4c44-84f2-eb7c2f70c099"
      },
      "source": [
        "from sklearn.metrics import confusion_matrix\n",
        "\n",
        "y_pred =(y_pred>0.5)\n",
        "list(y_pred)\n",
        "\n",
        "cm = confusion_matrix(y_test, y_pred)\n",
        "plt.figure(figsize=(10,10))\n",
        "plt.title(\" confusion matrix for deep learning \")\n",
        "sns.heatmap(cm , annot =True , fmt=\"0.1f\")"
      ],
      "execution_count": 35,
      "outputs": [
        {
          "output_type": "execute_result",
          "data": {
            "text/plain": [
              "<matplotlib.axes._subplots.AxesSubplot at 0x7f978b6aa8d0>"
            ]
          },
          "metadata": {
            "tags": []
          },
          "execution_count": 35
        },
        {
          "output_type": "display_data",
          "data": {
            "image/png": "[encoded data removed]",
            "text/plain": [
              "<Figure size 720x720 with 2 Axes>"
            ]
          },
          "metadata": {
            "tags": [],
            "needs_background": "light"
          }
        }
      ]
    },
    {
      "cell_type": "code",
      "metadata": {
        "colab": {
          "base_uri": "https://localhost:8080/"
        },
        "id": "IOgp10Rdnjyu",
        "outputId": "f2039973-f799-41fa-e823-fa3b88223e67"
      },
      "source": [
        "## grid search for Hyperparameter tunning\n",
        "\n",
        "!pip install git+https://github.com/keras-team/keras-tuner.git@1.0.2rc0#egg=keras-tuner-1.0.2rc0\n",
        "\n"
      ],
      "execution_count": 36,
      "outputs": [
        {
          "output_type": "stream",
          "text": [
            "Collecting keras-tuner-1.0.2rc0\n",
            "  Cloning https://github.com/keras-team/keras-tuner.git (to revision 1.0.2rc0) to /tmp/pip-install-ea8atome/keras-tuner-1.0.2rc0\n",
            "  Running command git clone -q https://github.com/keras-team/keras-tuner.git /tmp/pip-install-ea8atome/keras-tuner-1.0.2rc0\n",
            "  Running command git checkout -q 5d16a5a9cd883fe6366d523a5e59b72cfefb7f77\n",
            "\u001b[33m  WARNING: Generating metadata for package keras-tuner-1.0.2rc0 produced metadata for project name keras-tuner. Fix your #egg=keras-tuner-1.0.2rc0 fragments.\u001b[0m\n",
            "Requirement already satisfied: packaging in /usr/local/lib/python3.6/dist-packages (from keras-tuner) (20.4)\n",
            "Requirement already satisfied: future in /usr/local/lib/python3.6/dist-packages (from keras-tuner) (0.16.0)\n",
            "Requirement already satisfied: numpy in /usr/local/lib/python3.6/dist-packages (from keras-tuner) (1.18.5)\n",
            "Requirement already satisfied: tabulate in /usr/local/lib/python3.6/dist-packages (from keras-tuner) (0.8.7)\n",
            "Collecting terminaltables\n",
            "  Downloading https://files.pythonhosted.org/packages/9b/c4/4a21174f32f8a7e1104798c445dacdc1d4df86f2f26722767034e4de4bff/terminaltables-3.1.0.tar.gz\n",
            "Collecting colorama\n",
            "  Downloading https://files.pythonhosted.org/packages/44/98/5b86278fbbf250d239ae0ecb724f8572af1c91f4a11edf4d36a206189440/colorama-0.4.4-py2.py3-none-any.whl\n",
            "Requirement already satisfied: tqdm in /usr/local/lib/python3.6/dist-packages (from keras-tuner) (4.41.1)\n",
            "Requirement already satisfied: requests in /usr/local/lib/python3.6/dist-packages (from keras-tuner) (2.23.0)\n",
            "Requirement already satisfied: scipy in /usr/local/lib/python3.6/dist-packages (from keras-tuner) (1.4.1)\n",
            "Requirement already satisfied: scikit-learn in /usr/local/lib/python3.6/dist-packages (from keras-tuner) (0.22.2.post1)\n",
            "Requirement already satisfied: pyparsing>=2.0.2 in /usr/local/lib/python3.6/dist-packages (from packaging->keras-tuner) (2.4.7)\n",
            "Requirement already satisfied: six in /usr/local/lib/python3.6/dist-packages (from packaging->keras-tuner) (1.15.0)\n",
            "Requirement already satisfied: idna<3,>=2.5 in /usr/local/lib/python3.6/dist-packages (from requests->keras-tuner) (2.10)\n",
            "Requirement already satisfied: certifi>=2017.4.17 in /usr/local/lib/python3.6/dist-packages (from requests->keras-tuner) (2020.6.20)\n",
            "Requirement already satisfied: chardet<4,>=3.0.2 in /usr/local/lib/python3.6/dist-packages (from requests->keras-tuner) (3.0.4)\n",
            "Requirement already satisfied: urllib3!=1.25.0,!=1.25.1,<1.26,>=1.21.1 in /usr/local/lib/python3.6/dist-packages (from requests->keras-tuner) (1.24.3)\n",
            "Requirement already satisfied: joblib>=0.11 in /usr/local/lib/python3.6/dist-packages (from scikit-learn->keras-tuner) (0.17.0)\n",
            "Building wheels for collected packages: keras-tuner, keras-tuner, terminaltables\n",
            "  Building wheel for keras-tuner (setup.py) ... \u001b[?25l\u001b[?25hdone\n",
            "  Created wheel for keras-tuner: filename=keras_tuner-1.0.2rc0-cp36-none-any.whl size=89059 sha256=0ddda53d2472aacb6afd44ac63878afd0dacacc14a911a79c0f654ece30b08ed\n",
            "  Stored in directory: /tmp/pip-ephem-wheel-cache-f5jns5fy/wheels/ab/97/20/917008aafbd47b823fb0bc43989739b1195c682036641a49d7\n",
            "  Building wheel for keras-tuner (setup.py) ... \u001b[?25lerror\n",
            "\u001b[31m  ERROR: Failed building wheel for keras-tuner\u001b[0m\n",
            "\u001b[?25h  Running setup.py clean for keras-tuner\n",
            "\u001b[31m  ERROR: Failed cleaning build dir for keras-tuner\u001b[0m\n",
            "  Building wheel for terminaltables (setup.py) ... \u001b[?25l\u001b[?25hdone\n",
            "  Created wheel for terminaltables: filename=terminaltables-3.1.0-cp36-none-any.whl size=15356 sha256=a7c66a46e2341999c7b0c7571af3a68f55d39a48df6535ad14089c11ad89f82c\n",
            "  Stored in directory: /root/.cache/pip/wheels/30/6b/50/6c75775b681fb36cdfac7f19799888ef9d8813aff9e379663e\n",
            "Successfully built keras-tuner terminaltables\n",
            "Failed to build keras-tuner\n",
            "Installing collected packages: terminaltables, colorama, keras-tuner\n",
            "Successfully installed colorama-0.4.4 keras-tuner-1.0.2rc0 terminaltables-3.1.0\n"
          ],
          "name": "stdout"
        }
      ]
    },
    {
      "cell_type": "code",
      "metadata": {
        "id": "_S-_ROj7n83s"
      },
      "source": [
        "import pandas as pd\n",
        "from tensorflow import keras\n",
        "from keras.models import Sequential\n",
        "from tensorflow.keras import layers\n",
        "from kerastuner.tuners import RandomSearch\n",
        "from keras.layers import Dense"
      ],
      "execution_count": 37,
      "outputs": []
    },
    {
      "cell_type": "code",
      "metadata": {
        "id": "JanUnamsn-J_"
      },
      "source": [
        "def build_model(hp):\n",
        "    model = keras.Sequential()\n",
        "    for i in range(hp.Int('num_layers', 2, 20)):\n",
        "        model.add(layers.Dense(units=hp.Int('units_' + str(i),\n",
        "                                            min_value=32,\n",
        "                                            max_value=512,\n",
        "                                            step=32),input_dim=30,\n",
        "                               activation='relu'))\n",
        "    model.add(layers.Dense(2, activation='softmax'))\n",
        "    model.compile(\n",
        "        optimizer=keras.optimizers.Adam(\n",
        "            hp.Choice('learning_rate', [1e-2, 1e-3, 1e-4])),\n",
        "        loss='binary_crossentropy',\n",
        "        metrics=['accuracy'])\n",
        "    return model"
      ],
      "execution_count": 38,
      "outputs": []
    },
    {
      "cell_type": "code",
      "metadata": {
        "id": "k2UGdkuKoGfk"
      },
      "source": [
        "tuner = RandomSearch(\n",
        "    build_model,\n",
        "    objective='val_accuracy',\n",
        "    max_trials=10,\n",
        "    executions_per_trial=3\n",
        "    )"
      ],
      "execution_count": 39,
      "outputs": []
    },
    {
      "cell_type": "code",
      "metadata": {
        "colab": {
          "base_uri": "https://localhost:8080/",
          "height": 591
        },
        "id": "z2kw0m_EoPUF",
        "outputId": "09e1d5f8-9a4f-407e-d174-f8de3383f680"
      },
      "source": [
        "tuner.search_space_summary()\n"
      ],
      "execution_count": 40,
      "outputs": [
        {
          "output_type": "display_data",
          "data": {
            "text/html": [
              "<span style=\"color:#4527A0\"><h1 style=\"font-size:18px\">Search space summary</h1></span>"
            ],
            "text/plain": [
              "<IPython.core.display.HTML object>"
            ]
          },
          "metadata": {
            "tags": []
          }
        },
        {
          "output_type": "display_data",
          "data": {
            "text/html": [
              "<span style=\"color:cyan\"> |-Default search space size: 4</span>"
            ],
            "text/plain": [
              "<IPython.core.display.HTML object>"
            ]
          },
          "metadata": {
            "tags": []
          }
        },
        {
          "output_type": "display_data",
          "data": {
            "text/html": [
              "<span style=\"color:#7E57C2\"><h2 style=\"font-size:16px\">num_layers (Int)</h2></span>"
            ],
            "text/plain": [
              "<IPython.core.display.HTML object>"
            ]
          },
          "metadata": {
            "tags": []
          }
        },
        {
          "output_type": "display_data",
          "data": {
            "text/html": [
              "<span style=\"color:cyan\"> |-conditions: []</span>"
            ],
            "text/plain": [
              "<IPython.core.display.HTML object>"
            ]
          },
          "metadata": {
            "tags": []
          }
        },
        {
          "output_type": "display_data",
          "data": {
            "text/html": [
              "<span style=\"color:blue\"> |-default: None</span>"
            ],
            "text/plain": [
              "<IPython.core.display.HTML object>"
            ]
          },
          "metadata": {
            "tags": []
          }
        },
        {
          "output_type": "display_data",
          "data": {
            "text/html": [
              "<span style=\"color:cyan\"> |-max_value: 20</span>"
            ],
            "text/plain": [
              "<IPython.core.display.HTML object>"
            ]
          },
          "metadata": {
            "tags": []
          }
        },
        {
          "output_type": "display_data",
          "data": {
            "text/html": [
              "<span style=\"color:blue\"> |-min_value: 2</span>"
            ],
            "text/plain": [
              "<IPython.core.display.HTML object>"
            ]
          },
          "metadata": {
            "tags": []
          }
        },
        {
          "output_type": "display_data",
          "data": {
            "text/html": [
              "<span style=\"color:cyan\"> |-sampling: None</span>"
            ],
            "text/plain": [
              "<IPython.core.display.HTML object>"
            ]
          },
          "metadata": {
            "tags": []
          }
        },
        {
          "output_type": "display_data",
          "data": {
            "text/html": [
              "<span style=\"color:blue\"> |-step: 1</span>"
            ],
            "text/plain": [
              "<IPython.core.display.HTML object>"
            ]
          },
          "metadata": {
            "tags": []
          }
        },
        {
          "output_type": "display_data",
          "data": {
            "text/html": [
              "<span style=\"color:#7E57C2\"><h2 style=\"font-size:16px\">units_0 (Int)</h2></span>"
            ],
            "text/plain": [
              "<IPython.core.display.HTML object>"
            ]
          },
          "metadata": {
            "tags": []
          }
        },
        {
          "output_type": "display_data",
          "data": {
            "text/html": [
              "<span style=\"color:cyan\"> |-conditions: []</span>"
            ],
            "text/plain": [
              "<IPython.core.display.HTML object>"
            ]
          },
          "metadata": {
            "tags": []
          }
        },
        {
          "output_type": "display_data",
          "data": {
            "text/html": [
              "<span style=\"color:blue\"> |-default: None</span>"
            ],
            "text/plain": [
              "<IPython.core.display.HTML object>"
            ]
          },
          "metadata": {
            "tags": []
          }
        },
        {
          "output_type": "display_data",
          "data": {
            "text/html": [
              "<span style=\"color:cyan\"> |-max_value: 512</span>"
            ],
            "text/plain": [
              "<IPython.core.display.HTML object>"
            ]
          },
          "metadata": {
            "tags": []
          }
        },
        {
          "output_type": "display_data",
          "data": {
            "text/html": [
              "<span style=\"color:blue\"> |-min_value: 32</span>"
            ],
            "text/plain": [
              "<IPython.core.display.HTML object>"
            ]
          },
          "metadata": {
            "tags": []
          }
        },
        {
          "output_type": "display_data",
          "data": {
            "text/html": [
              "<span style=\"color:cyan\"> |-sampling: None</span>"
            ],
            "text/plain": [
              "<IPython.core.display.HTML object>"
            ]
          },
          "metadata": {
            "tags": []
          }
        },
        {
          "output_type": "display_data",
          "data": {
            "text/html": [
              "<span style=\"color:blue\"> |-step: 32</span>"
            ],
            "text/plain": [
              "<IPython.core.display.HTML object>"
            ]
          },
          "metadata": {
            "tags": []
          }
        },
        {
          "output_type": "display_data",
          "data": {
            "text/html": [
              "<span style=\"color:#7E57C2\"><h2 style=\"font-size:16px\">units_1 (Int)</h2></span>"
            ],
            "text/plain": [
              "<IPython.core.display.HTML object>"
            ]
          },
          "metadata": {
            "tags": []
          }
        },
        {
          "output_type": "display_data",
          "data": {
            "text/html": [
              "<span style=\"color:cyan\"> |-conditions: []</span>"
            ],
            "text/plain": [
              "<IPython.core.display.HTML object>"
            ]
          },
          "metadata": {
            "tags": []
          }
        },
        {
          "output_type": "display_data",
          "data": {
            "text/html": [
              "<span style=\"color:blue\"> |-default: None</span>"
            ],
            "text/plain": [
              "<IPython.core.display.HTML object>"
            ]
          },
          "metadata": {
            "tags": []
          }
        },
        {
          "output_type": "display_data",
          "data": {
            "text/html": [
              "<span style=\"color:cyan\"> |-max_value: 512</span>"
            ],
            "text/plain": [
              "<IPython.core.display.HTML object>"
            ]
          },
          "metadata": {
            "tags": []
          }
        },
        {
          "output_type": "display_data",
          "data": {
            "text/html": [
              "<span style=\"color:blue\"> |-min_value: 32</span>"
            ],
            "text/plain": [
              "<IPython.core.display.HTML object>"
            ]
          },
          "metadata": {
            "tags": []
          }
        },
        {
          "output_type": "display_data",
          "data": {
            "text/html": [
              "<span style=\"color:cyan\"> |-sampling: None</span>"
            ],
            "text/plain": [
              "<IPython.core.display.HTML object>"
            ]
          },
          "metadata": {
            "tags": []
          }
        },
        {
          "output_type": "display_data",
          "data": {
            "text/html": [
              "<span style=\"color:blue\"> |-step: 32</span>"
            ],
            "text/plain": [
              "<IPython.core.display.HTML object>"
            ]
          },
          "metadata": {
            "tags": []
          }
        },
        {
          "output_type": "display_data",
          "data": {
            "text/html": [
              "<span style=\"color:#7E57C2\"><h2 style=\"font-size:16px\">learning_rate (Choice)</h2></span>"
            ],
            "text/plain": [
              "<IPython.core.display.HTML object>"
            ]
          },
          "metadata": {
            "tags": []
          }
        },
        {
          "output_type": "display_data",
          "data": {
            "text/html": [
              "<span style=\"color:cyan\"> |-conditions: []</span>"
            ],
            "text/plain": [
              "<IPython.core.display.HTML object>"
            ]
          },
          "metadata": {
            "tags": []
          }
        },
        {
          "output_type": "display_data",
          "data": {
            "text/html": [
              "<span style=\"color:blue\"> |-default: 0.01</span>"
            ],
            "text/plain": [
              "<IPython.core.display.HTML object>"
            ]
          },
          "metadata": {
            "tags": []
          }
        },
        {
          "output_type": "display_data",
          "data": {
            "text/html": [
              "<span style=\"color:cyan\"> |-ordered: True</span>"
            ],
            "text/plain": [
              "<IPython.core.display.HTML object>"
            ]
          },
          "metadata": {
            "tags": []
          }
        },
        {
          "output_type": "display_data",
          "data": {
            "text/html": [
              "<span style=\"color:blue\"> |-values: [0.01, 0.001, 0.0001]</span>"
            ],
            "text/plain": [
              "<IPython.core.display.HTML object>"
            ]
          },
          "metadata": {
            "tags": []
          }
        }
      ]
    },
    {
      "cell_type": "code",
      "metadata": {
        "colab": {
          "base_uri": "https://localhost:8080/",
          "height": 1000
        },
        "id": "UJwnAuO8oROW",
        "outputId": "135358cd-94ce-4c9a-f81d-7779b81621bf"
      },
      "source": [
        "tuner.search(X_train, y_train,epochs=15 , validation_data=(X_test, y_test))\n"
      ],
      "execution_count": 41,
      "outputs": [
        {
          "output_type": "display_data",
          "data": {
            "text/html": [
              "<span style=\"color:#4527A0\"><h1 style=\"font-size:18px\">Starting new trial</h1></span>"
            ],
            "text/plain": [
              "<IPython.core.display.HTML object>"
            ]
          },
          "metadata": {
            "tags": []
          }
        },
        {
          "output_type": "stream",
          "text": [
            "Epoch 1/15\n",
            "733/733 [==============================] - 4s 5ms/step - loss: 0.6931 - accuracy: 0.5117 - val_loss: 0.6931 - val_accuracy: 0.5510\n",
            "Epoch 2/15\n",
            "733/733 [==============================] - 3s 5ms/step - loss: 0.6931 - accuracy: 0.5057 - val_loss: 0.6931 - val_accuracy: 0.7758\n",
            "Epoch 3/15\n",
            "733/733 [==============================] - 3s 5ms/step - loss: 0.6931 - accuracy: 0.5029 - val_loss: 0.6931 - val_accuracy: 0.2242\n",
            "Epoch 4/15\n",
            "733/733 [==============================] - 3s 4ms/step - loss: 0.6931 - accuracy: 0.5016 - val_loss: 0.6931 - val_accuracy: 0.2242\n",
            "Epoch 5/15\n",
            "733/733 [==============================] - 3s 4ms/step - loss: 0.6931 - accuracy: 0.5029 - val_loss: 0.6931 - val_accuracy: 0.7510\n",
            "Epoch 6/15\n",
            "733/733 [==============================] - 3s 4ms/step - loss: 0.6931 - accuracy: 0.5029 - val_loss: 0.6931 - val_accuracy: 0.2242\n",
            "Epoch 7/15\n",
            "733/733 [==============================] - 3s 4ms/step - loss: 0.6931 - accuracy: 0.5000 - val_loss: 0.6931 - val_accuracy: 0.7079\n",
            "Epoch 8/15\n",
            "733/733 [==============================] - 3s 5ms/step - loss: 0.6931 - accuracy: 0.4992 - val_loss: 0.6931 - val_accuracy: 0.7759\n",
            "Epoch 9/15\n",
            "733/733 [==============================] - 3s 5ms/step - loss: 0.6931 - accuracy: 0.5033 - val_loss: 0.6931 - val_accuracy: 0.2242\n",
            "Epoch 10/15\n",
            "733/733 [==============================] - 3s 4ms/step - loss: 0.6931 - accuracy: 0.4932 - val_loss: 0.6931 - val_accuracy: 0.7759\n",
            "Epoch 11/15\n",
            "733/733 [==============================] - 3s 5ms/step - loss: 0.6931 - accuracy: 0.4989 - val_loss: 0.6931 - val_accuracy: 0.2242\n",
            "Epoch 12/15\n",
            "733/733 [==============================] - 3s 4ms/step - loss: 0.6931 - accuracy: 0.4952 - val_loss: 0.6931 - val_accuracy: 0.2242\n",
            "Epoch 13/15\n",
            "733/733 [==============================] - 3s 4ms/step - loss: 0.6931 - accuracy: 0.5051 - val_loss: 0.6931 - val_accuracy: 0.2242\n",
            "Epoch 14/15\n",
            "733/733 [==============================] - 3s 4ms/step - loss: 0.6931 - accuracy: 0.4968 - val_loss: 0.6931 - val_accuracy: 0.2241\n",
            "Epoch 15/15\n",
            "733/733 [==============================] - 3s 4ms/step - loss: 0.6931 - accuracy: 0.5028 - val_loss: 0.6931 - val_accuracy: 0.2242\n",
            "Epoch 1/15\n",
            "733/733 [==============================] - 3s 5ms/step - loss: 0.6931 - accuracy: 0.4925 - val_loss: 0.6931 - val_accuracy: 0.6656\n",
            "Epoch 2/15\n",
            "733/733 [==============================] - 3s 4ms/step - loss: 0.6931 - accuracy: 0.4998 - val_loss: 0.6931 - val_accuracy: 0.7758\n",
            "Epoch 3/15\n",
            "733/733 [==============================] - 3s 5ms/step - loss: 0.6931 - accuracy: 0.5001 - val_loss: 0.6931 - val_accuracy: 0.7737\n",
            "Epoch 4/15\n",
            "733/733 [==============================] - 3s 4ms/step - loss: 0.6931 - accuracy: 0.4968 - val_loss: 0.6931 - val_accuracy: 0.7751\n",
            "Epoch 5/15\n",
            "733/733 [==============================] - 3s 4ms/step - loss: 0.6931 - accuracy: 0.4981 - val_loss: 0.6931 - val_accuracy: 0.7758\n",
            "Epoch 6/15\n",
            "733/733 [==============================] - 3s 4ms/step - loss: 0.6931 - accuracy: 0.5084 - val_loss: 0.6931 - val_accuracy: 0.7758\n",
            "Epoch 7/15\n",
            "733/733 [==============================] - 3s 4ms/step - loss: 0.6931 - accuracy: 0.4998 - val_loss: 0.6931 - val_accuracy: 0.7758\n",
            "Epoch 8/15\n",
            "733/733 [==============================] - 3s 4ms/step - loss: 0.6931 - accuracy: 0.4983 - val_loss: 0.6931 - val_accuracy: 0.2848\n",
            "Epoch 9/15\n",
            "733/733 [==============================] - 4s 5ms/step - loss: 0.6931 - accuracy: 0.5012 - val_loss: 0.6931 - val_accuracy: 0.2285\n",
            "Epoch 10/15\n",
            "733/733 [==============================] - 4s 5ms/step - loss: 0.6931 - accuracy: 0.5043 - val_loss: 0.6931 - val_accuracy: 0.2242\n",
            "Epoch 11/15\n",
            "733/733 [==============================] - 4s 5ms/step - loss: 0.6931 - accuracy: 0.5045 - val_loss: 0.6931 - val_accuracy: 0.2234\n",
            "Epoch 12/15\n",
            "733/733 [==============================] - 3s 5ms/step - loss: 0.6931 - accuracy: 0.5010 - val_loss: 0.6931 - val_accuracy: 0.7758\n",
            "Epoch 13/15\n",
            "733/733 [==============================] - 3s 5ms/step - loss: 0.6931 - accuracy: 0.4990 - val_loss: 0.6931 - val_accuracy: 0.2242\n",
            "Epoch 14/15\n",
            "733/733 [==============================] - 3s 4ms/step - loss: 0.6931 - accuracy: 0.4999 - val_loss: 0.6931 - val_accuracy: 0.7758\n",
            "Epoch 15/15\n",
            "733/733 [==============================] - 3s 4ms/step - loss: 0.6931 - accuracy: 0.5003 - val_loss: 0.6931 - val_accuracy: 0.7758\n",
            "Epoch 1/15\n",
            "733/733 [==============================] - 3s 5ms/step - loss: 0.6931 - accuracy: 0.5047 - val_loss: 0.6931 - val_accuracy: 0.7285\n",
            "Epoch 2/15\n",
            "733/733 [==============================] - 3s 5ms/step - loss: 0.6931 - accuracy: 0.4948 - val_loss: 0.6931 - val_accuracy: 0.7766\n",
            "Epoch 3/15\n",
            "733/733 [==============================] - 3s 5ms/step - loss: 0.6931 - accuracy: 0.5081 - val_loss: 0.6931 - val_accuracy: 0.2265\n",
            "Epoch 4/15\n",
            "733/733 [==============================] - 3s 4ms/step - loss: 0.6931 - accuracy: 0.4935 - val_loss: 0.6931 - val_accuracy: 0.7758\n",
            "Epoch 5/15\n",
            "733/733 [==============================] - 3s 4ms/step - loss: 0.6931 - accuracy: 0.4991 - val_loss: 0.6931 - val_accuracy: 0.2242\n",
            "Epoch 6/15\n",
            "733/733 [==============================] - 3s 5ms/step - loss: 0.6931 - accuracy: 0.5020 - val_loss: 0.6931 - val_accuracy: 0.2242\n",
            "Epoch 7/15\n",
            "733/733 [==============================] - 3s 5ms/step - loss: 0.6931 - accuracy: 0.5024 - val_loss: 0.6931 - val_accuracy: 0.2242\n",
            "Epoch 8/15\n",
            "733/733 [==============================] - 3s 4ms/step - loss: 0.6931 - accuracy: 0.5028 - val_loss: 0.6931 - val_accuracy: 0.2242\n",
            "Epoch 9/15\n",
            "733/733 [==============================] - 3s 4ms/step - loss: 0.6931 - accuracy: 0.5014 - val_loss: 0.6931 - val_accuracy: 0.7758\n",
            "Epoch 10/15\n",
            "733/733 [==============================] - 3s 4ms/step - loss: 0.6931 - accuracy: 0.4967 - val_loss: 0.6931 - val_accuracy: 0.2242\n",
            "Epoch 11/15\n",
            "733/733 [==============================] - 3s 5ms/step - loss: 0.6931 - accuracy: 0.5001 - val_loss: 0.6931 - val_accuracy: 0.2242\n",
            "Epoch 12/15\n",
            "733/733 [==============================] - 3s 5ms/step - loss: 0.6931 - accuracy: 0.4996 - val_loss: 0.6931 - val_accuracy: 0.7758\n",
            "Epoch 13/15\n",
            "733/733 [==============================] - 3s 5ms/step - loss: 0.6931 - accuracy: 0.5029 - val_loss: 0.6931 - val_accuracy: 0.7758\n",
            "Epoch 14/15\n",
            "733/733 [==============================] - 3s 5ms/step - loss: 0.6931 - accuracy: 0.5064 - val_loss: 0.6931 - val_accuracy: 0.2242\n",
            "Epoch 15/15\n",
            "733/733 [==============================] - 3s 4ms/step - loss: 0.6931 - accuracy: 0.5041 - val_loss: 0.6931 - val_accuracy: 0.2242\n"
          ],
          "name": "stdout"
        },
        {
          "output_type": "display_data",
          "data": {
            "text/html": [
              "<span style=\"color:#4527A0\"><h1 style=\"font-size:18px\">Trial complete</h1></span>"
            ],
            "text/plain": [
              "<IPython.core.display.HTML object>"
            ]
          },
          "metadata": {
            "tags": []
          }
        },
        {
          "output_type": "display_data",
          "data": {
            "text/html": [
              "<span style=\"color:#4527A0\"><h1 style=\"font-size:18px\">Trial summary</h1></span>"
            ],
            "text/plain": [
              "<IPython.core.display.HTML object>"
            ]
          },
          "metadata": {
            "tags": []
          }
        },
        {
          "output_type": "display_data",
          "data": {
            "text/html": [
              "<span style=\"color:cyan\"> |-Trial ID: 9374ced9a8eac992e4d8013bebdd37c4</span>"
            ],
            "text/plain": [
              "<IPython.core.display.HTML object>"
            ]
          },
          "metadata": {
            "tags": []
          }
        },
        {
          "output_type": "display_data",
          "data": {
            "text/html": [
              "<span style=\"color:cyan\"> |-Score: 0.7760913968086243</span>"
            ],
            "text/plain": [
              "<IPython.core.display.HTML object>"
            ]
          },
          "metadata": {
            "tags": []
          }
        },
        {
          "output_type": "display_data",
          "data": {
            "text/html": [
              "<span style=\"color:cyan\"> |-Best step: 0</span>"
            ],
            "text/plain": [
              "<IPython.core.display.HTML object>"
            ]
          },
          "metadata": {
            "tags": []
          }
        },
        {
          "output_type": "display_data",
          "data": {
            "text/html": [
              "<span style=\"color:#7E57C2\"><h2 style=\"font-size:16px\">Hyperparameters:</h2></span>"
            ],
            "text/plain": [
              "<IPython.core.display.HTML object>"
            ]
          },
          "metadata": {
            "tags": []
          }
        },
        {
          "output_type": "display_data",
          "data": {
            "text/html": [
              "<span style=\"color:cyan\"> |-learning_rate: 0.001</span>"
            ],
            "text/plain": [
              "<IPython.core.display.HTML object>"
            ]
          },
          "metadata": {
            "tags": []
          }
        },
        {
          "output_type": "display_data",
          "data": {
            "text/html": [
              "<span style=\"color:blue\"> |-num_layers: 15</span>"
            ],
            "text/plain": [
              "<IPython.core.display.HTML object>"
            ]
          },
          "metadata": {
            "tags": []
          }
        },
        {
          "output_type": "display_data",
          "data": {
            "text/html": [
              "<span style=\"color:cyan\"> |-units_0: 192</span>"
            ],
            "text/plain": [
              "<IPython.core.display.HTML object>"
            ]
          },
          "metadata": {
            "tags": []
          }
        },
        {
          "output_type": "display_data",
          "data": {
            "text/html": [
              "<span style=\"color:blue\"> |-units_1: 160</span>"
            ],
            "text/plain": [
              "<IPython.core.display.HTML object>"
            ]
          },
          "metadata": {
            "tags": []
          }
        },
        {
          "output_type": "display_data",
          "data": {
            "text/html": [
              "<span style=\"color:cyan\"> |-units_10: 32</span>"
            ],
            "text/plain": [
              "<IPython.core.display.HTML object>"
            ]
          },
          "metadata": {
            "tags": []
          }
        },
        {
          "output_type": "display_data",
          "data": {
            "text/html": [
              "<span style=\"color:blue\"> |-units_11: 32</span>"
            ],
            "text/plain": [
              "<IPython.core.display.HTML object>"
            ]
          },
          "metadata": {
            "tags": []
          }
        },
        {
          "output_type": "display_data",
          "data": {
            "text/html": [
              "<span style=\"color:cyan\"> |-units_12: 32</span>"
            ],
            "text/plain": [
              "<IPython.core.display.HTML object>"
            ]
          },
          "metadata": {
            "tags": []
          }
        },
        {
          "output_type": "display_data",
          "data": {
            "text/html": [
              "<span style=\"color:blue\"> |-units_13: 32</span>"
            ],
            "text/plain": [
              "<IPython.core.display.HTML object>"
            ]
          },
          "metadata": {
            "tags": []
          }
        },
        {
          "output_type": "display_data",
          "data": {
            "text/html": [
              "<span style=\"color:cyan\"> |-units_14: 32</span>"
            ],
            "text/plain": [
              "<IPython.core.display.HTML object>"
            ]
          },
          "metadata": {
            "tags": []
          }
        },
        {
          "output_type": "display_data",
          "data": {
            "text/html": [
              "<span style=\"color:blue\"> |-units_2: 32</span>"
            ],
            "text/plain": [
              "<IPython.core.display.HTML object>"
            ]
          },
          "metadata": {
            "tags": []
          }
        },
        {
          "output_type": "display_data",
          "data": {
            "text/html": [
              "<span style=\"color:cyan\"> |-units_3: 32</span>"
            ],
            "text/plain": [
              "<IPython.core.display.HTML object>"
            ]
          },
          "metadata": {
            "tags": []
          }
        },
        {
          "output_type": "display_data",
          "data": {
            "text/html": [
              "<span style=\"color:blue\"> |-units_4: 32</span>"
            ],
            "text/plain": [
              "<IPython.core.display.HTML object>"
            ]
          },
          "metadata": {
            "tags": []
          }
        },
        {
          "output_type": "display_data",
          "data": {
            "text/html": [
              "<span style=\"color:cyan\"> |-units_5: 32</span>"
            ],
            "text/plain": [
              "<IPython.core.display.HTML object>"
            ]
          },
          "metadata": {
            "tags": []
          }
        },
        {
          "output_type": "display_data",
          "data": {
            "text/html": [
              "<span style=\"color:blue\"> |-units_6: 32</span>"
            ],
            "text/plain": [
              "<IPython.core.display.HTML object>"
            ]
          },
          "metadata": {
            "tags": []
          }
        },
        {
          "output_type": "display_data",
          "data": {
            "text/html": [
              "<span style=\"color:cyan\"> |-units_7: 32</span>"
            ],
            "text/plain": [
              "<IPython.core.display.HTML object>"
            ]
          },
          "metadata": {
            "tags": []
          }
        },
        {
          "output_type": "display_data",
          "data": {
            "text/html": [
              "<span style=\"color:blue\"> |-units_8: 32</span>"
            ],
            "text/plain": [
              "<IPython.core.display.HTML object>"
            ]
          },
          "metadata": {
            "tags": []
          }
        },
        {
          "output_type": "display_data",
          "data": {
            "text/html": [
              "<span style=\"color:cyan\"> |-units_9: 32</span>"
            ],
            "text/plain": [
              "<IPython.core.display.HTML object>"
            ]
          },
          "metadata": {
            "tags": []
          }
        },
        {
          "output_type": "display_data",
          "data": {
            "text/html": [
              "<span style=\"color:#4527A0\"><h1 style=\"font-size:18px\">Starting new trial</h1></span>"
            ],
            "text/plain": [
              "<IPython.core.display.HTML object>"
            ]
          },
          "metadata": {
            "tags": []
          }
        },
        {
          "output_type": "stream",
          "text": [
            "Epoch 1/15\n",
            "733/733 [==============================] - 4s 5ms/step - loss: 0.6931 - accuracy: 0.6686 - val_loss: 0.6931 - val_accuracy: 0.7758\n",
            "Epoch 2/15\n",
            "733/733 [==============================] - 3s 5ms/step - loss: 0.6931 - accuracy: 0.7781 - val_loss: 0.6931 - val_accuracy: 0.7758\n",
            "Epoch 3/15\n",
            "733/733 [==============================] - 3s 5ms/step - loss: 0.6931 - accuracy: 0.7781 - val_loss: 0.6931 - val_accuracy: 0.7758\n",
            "Epoch 4/15\n",
            "733/733 [==============================] - 3s 5ms/step - loss: 0.6931 - accuracy: 0.7781 - val_loss: 0.6931 - val_accuracy: 0.7758\n",
            "Epoch 5/15\n",
            "733/733 [==============================] - 3s 5ms/step - loss: 0.6931 - accuracy: 0.7781 - val_loss: 0.6931 - val_accuracy: 0.7758\n",
            "Epoch 6/15\n",
            "733/733 [==============================] - 3s 5ms/step - loss: 0.6931 - accuracy: 0.7781 - val_loss: 0.6931 - val_accuracy: 0.7758\n",
            "Epoch 7/15\n",
            "733/733 [==============================] - 3s 5ms/step - loss: 0.6931 - accuracy: 0.7781 - val_loss: 0.6931 - val_accuracy: 0.7758\n",
            "Epoch 8/15\n",
            "733/733 [==============================] - 3s 5ms/step - loss: 0.6931 - accuracy: 0.7781 - val_loss: 0.6931 - val_accuracy: 0.7758\n",
            "Epoch 9/15\n",
            "733/733 [==============================] - 3s 5ms/step - loss: 0.6931 - accuracy: 0.7781 - val_loss: 0.6931 - val_accuracy: 0.7758\n",
            "Epoch 10/15\n",
            "733/733 [==============================] - 3s 5ms/step - loss: 0.6931 - accuracy: 0.7781 - val_loss: 0.6931 - val_accuracy: 0.7758\n",
            "Epoch 11/15\n",
            "733/733 [==============================] - 3s 5ms/step - loss: 0.6931 - accuracy: 0.7781 - val_loss: 0.6931 - val_accuracy: 0.7758\n",
            "Epoch 12/15\n",
            "733/733 [==============================] - 3s 5ms/step - loss: 0.6931 - accuracy: 0.7781 - val_loss: 0.6931 - val_accuracy: 0.7758\n",
            "Epoch 13/15\n",
            "733/733 [==============================] - 3s 5ms/step - loss: 0.6931 - accuracy: 0.7781 - val_loss: 0.6931 - val_accuracy: 0.7758\n",
            "Epoch 14/15\n",
            "733/733 [==============================] - 3s 5ms/step - loss: 0.6931 - accuracy: 0.7781 - val_loss: 0.6931 - val_accuracy: 0.7758\n",
            "Epoch 15/15\n",
            "733/733 [==============================] - 3s 5ms/step - loss: 0.6931 - accuracy: 0.7781 - val_loss: 0.6931 - val_accuracy: 0.7758\n",
            "Epoch 1/15\n",
            "733/733 [==============================] - 4s 5ms/step - loss: 0.6931 - accuracy: 0.5051 - val_loss: 0.6931 - val_accuracy: 0.6685\n",
            "Epoch 2/15\n",
            "733/733 [==============================] - 3s 5ms/step - loss: 0.6931 - accuracy: 0.5021 - val_loss: 0.6931 - val_accuracy: 0.4226\n",
            "Epoch 3/15\n",
            "733/733 [==============================] - 3s 5ms/step - loss: 0.6931 - accuracy: 0.5183 - val_loss: 0.6931 - val_accuracy: 0.2242\n",
            "Epoch 4/15\n",
            "733/733 [==============================] - 3s 5ms/step - loss: 0.6931 - accuracy: 0.5268 - val_loss: 0.6931 - val_accuracy: 0.2242\n",
            "Epoch 5/15\n",
            "733/733 [==============================] - 3s 5ms/step - loss: 0.6931 - accuracy: 0.5111 - val_loss: 0.6931 - val_accuracy: 0.2242\n",
            "Epoch 6/15\n",
            "733/733 [==============================] - 3s 5ms/step - loss: 0.6931 - accuracy: 0.5045 - val_loss: 0.6931 - val_accuracy: 0.2242\n",
            "Epoch 7/15\n",
            "733/733 [==============================] - 3s 5ms/step - loss: 0.6931 - accuracy: 0.4959 - val_loss: 0.6931 - val_accuracy: 0.7758\n",
            "Epoch 8/15\n",
            "733/733 [==============================] - 3s 5ms/step - loss: 0.6931 - accuracy: 0.4992 - val_loss: 0.6931 - val_accuracy: 0.7758\n",
            "Epoch 9/15\n",
            "733/733 [==============================] - 3s 5ms/step - loss: 0.6931 - accuracy: 0.5087 - val_loss: 0.6931 - val_accuracy: 0.7758\n",
            "Epoch 10/15\n",
            "733/733 [==============================] - 3s 5ms/step - loss: 0.6931 - accuracy: 0.5016 - val_loss: 0.6931 - val_accuracy: 0.2242\n",
            "Epoch 11/15\n",
            "733/733 [==============================] - 3s 5ms/step - loss: 0.6931 - accuracy: 0.5021 - val_loss: 0.6931 - val_accuracy: 0.7758\n",
            "Epoch 12/15\n",
            "733/733 [==============================] - 3s 4ms/step - loss: 0.6931 - accuracy: 0.4994 - val_loss: 0.6931 - val_accuracy: 0.7758\n",
            "Epoch 13/15\n",
            "733/733 [==============================] - 3s 5ms/step - loss: 0.6931 - accuracy: 0.5024 - val_loss: 0.6931 - val_accuracy: 0.7758\n",
            "Epoch 14/15\n",
            "733/733 [==============================] - 3s 5ms/step - loss: 0.6931 - accuracy: 0.5008 - val_loss: 0.6931 - val_accuracy: 0.7758\n",
            "Epoch 15/15\n",
            "733/733 [==============================] - 3s 4ms/step - loss: 0.6931 - accuracy: 0.5062 - val_loss: 0.6931 - val_accuracy: 0.2242\n",
            "Epoch 1/15\n",
            "733/733 [==============================] - 3s 5ms/step - loss: 0.6931 - accuracy: 0.5026 - val_loss: 0.6931 - val_accuracy: 0.7023\n",
            "Epoch 2/15\n",
            "733/733 [==============================] - 3s 5ms/step - loss: 0.6931 - accuracy: 0.5042 - val_loss: 0.6931 - val_accuracy: 0.7758\n",
            "Epoch 3/15\n",
            "733/733 [==============================] - 3s 5ms/step - loss: 6.9425 - accuracy: 0.7473 - val_loss: 7.6443 - val_accuracy: 0.7758\n",
            "Epoch 4/15\n",
            "733/733 [==============================] - 3s 5ms/step - loss: 7.6441 - accuracy: 0.7781 - val_loss: 7.6443 - val_accuracy: 0.7758\n",
            "Epoch 5/15\n",
            "733/733 [==============================] - 3s 5ms/step - loss: 7.6441 - accuracy: 0.7781 - val_loss: 7.6443 - val_accuracy: 0.7758\n",
            "Epoch 6/15\n",
            "733/733 [==============================] - 3s 5ms/step - loss: 7.6441 - accuracy: 0.7781 - val_loss: 7.6443 - val_accuracy: 0.7758\n",
            "Epoch 7/15\n",
            "733/733 [==============================] - 4s 5ms/step - loss: 7.6441 - accuracy: 0.7781 - val_loss: 7.6443 - val_accuracy: 0.7758\n",
            "Epoch 8/15\n",
            "733/733 [==============================] - 3s 5ms/step - loss: 7.6441 - accuracy: 0.7781 - val_loss: 7.6443 - val_accuracy: 0.7758\n",
            "Epoch 9/15\n",
            "733/733 [==============================] - 3s 5ms/step - loss: 7.6441 - accuracy: 0.7781 - val_loss: 7.6443 - val_accuracy: 0.7758\n",
            "Epoch 10/15\n",
            "733/733 [==============================] - 3s 4ms/step - loss: 7.6441 - accuracy: 0.7781 - val_loss: 7.6443 - val_accuracy: 0.7758\n",
            "Epoch 11/15\n",
            "733/733 [==============================] - 3s 5ms/step - loss: 7.6441 - accuracy: 0.7781 - val_loss: 7.6443 - val_accuracy: 0.7758\n",
            "Epoch 12/15\n",
            "733/733 [==============================] - 3s 5ms/step - loss: 7.6441 - accuracy: 0.7781 - val_loss: 7.6443 - val_accuracy: 0.7758\n",
            "Epoch 13/15\n",
            "733/733 [==============================] - 3s 5ms/step - loss: 7.6441 - accuracy: 0.7781 - val_loss: 7.6443 - val_accuracy: 0.7758\n",
            "Epoch 14/15\n",
            "733/733 [==============================] - 3s 5ms/step - loss: 7.6441 - accuracy: 0.7781 - val_loss: 7.6443 - val_accuracy: 0.7758\n",
            "Epoch 15/15\n",
            "733/733 [==============================] - 3s 5ms/step - loss: 7.6441 - accuracy: 0.7781 - val_loss: 7.6443 - val_accuracy: 0.7758\n"
          ],
          "name": "stdout"
        },
        {
          "output_type": "display_data",
          "data": {
            "text/html": [
              "<span style=\"color:#4527A0\"><h1 style=\"font-size:18px\">Trial complete</h1></span>"
            ],
            "text/plain": [
              "<IPython.core.display.HTML object>"
            ]
          },
          "metadata": {
            "tags": []
          }
        },
        {
          "output_type": "display_data",
          "data": {
            "text/html": [
              "<span style=\"color:#4527A0\"><h1 style=\"font-size:18px\">Trial summary</h1></span>"
            ],
            "text/plain": [
              "<IPython.core.display.HTML object>"
            ]
          },
          "metadata": {
            "tags": []
          }
        },
        {
          "output_type": "display_data",
          "data": {
            "text/html": [
              "<span style=\"color:cyan\"> |-Trial ID: 1971e3a18d472382a2478f7149143c20</span>"
            ],
            "text/plain": [
              "<IPython.core.display.HTML object>"
            ]
          },
          "metadata": {
            "tags": []
          }
        },
        {
          "output_type": "display_data",
          "data": {
            "text/html": [
              "<span style=\"color:cyan\"> |-Score: 0.7757503390312195</span>"
            ],
            "text/plain": [
              "<IPython.core.display.HTML object>"
            ]
          },
          "metadata": {
            "tags": []
          }
        },
        {
          "output_type": "display_data",
          "data": {
            "text/html": [
              "<span style=\"color:cyan\"> |-Best step: 0</span>"
            ],
            "text/plain": [
              "<IPython.core.display.HTML object>"
            ]
          },
          "metadata": {
            "tags": []
          }
        },
        {
          "output_type": "display_data",
          "data": {
            "text/html": [
              "<span style=\"color:#7E57C2\"><h2 style=\"font-size:16px\">Hyperparameters:</h2></span>"
            ],
            "text/plain": [
              "<IPython.core.display.HTML object>"
            ]
          },
          "metadata": {
            "tags": []
          }
        },
        {
          "output_type": "display_data",
          "data": {
            "text/html": [
              "<span style=\"color:cyan\"> |-learning_rate: 0.01</span>"
            ],
            "text/plain": [
              "<IPython.core.display.HTML object>"
            ]
          },
          "metadata": {
            "tags": []
          }
        },
        {
          "output_type": "display_data",
          "data": {
            "text/html": [
              "<span style=\"color:blue\"> |-num_layers: 16</span>"
            ],
            "text/plain": [
              "<IPython.core.display.HTML object>"
            ]
          },
          "metadata": {
            "tags": []
          }
        },
        {
          "output_type": "display_data",
          "data": {
            "text/html": [
              "<span style=\"color:cyan\"> |-units_0: 480</span>"
            ],
            "text/plain": [
              "<IPython.core.display.HTML object>"
            ]
          },
          "metadata": {
            "tags": []
          }
        },
        {
          "output_type": "display_data",
          "data": {
            "text/html": [
              "<span style=\"color:blue\"> |-units_1: 384</span>"
            ],
            "text/plain": [
              "<IPython.core.display.HTML object>"
            ]
          },
          "metadata": {
            "tags": []
          }
        },
        {
          "output_type": "display_data",
          "data": {
            "text/html": [
              "<span style=\"color:cyan\"> |-units_10: 192</span>"
            ],
            "text/plain": [
              "<IPython.core.display.HTML object>"
            ]
          },
          "metadata": {
            "tags": []
          }
        },
        {
          "output_type": "display_data",
          "data": {
            "text/html": [
              "<span style=\"color:blue\"> |-units_11: 96</span>"
            ],
            "text/plain": [
              "<IPython.core.display.HTML object>"
            ]
          },
          "metadata": {
            "tags": []
          }
        },
        {
          "output_type": "display_data",
          "data": {
            "text/html": [
              "<span style=\"color:cyan\"> |-units_12: 384</span>"
            ],
            "text/plain": [
              "<IPython.core.display.HTML object>"
            ]
          },
          "metadata": {
            "tags": []
          }
        },
        {
          "output_type": "display_data",
          "data": {
            "text/html": [
              "<span style=\"color:blue\"> |-units_13: 352</span>"
            ],
            "text/plain": [
              "<IPython.core.display.HTML object>"
            ]
          },
          "metadata": {
            "tags": []
          }
        },
        {
          "output_type": "display_data",
          "data": {
            "text/html": [
              "<span style=\"color:cyan\"> |-units_14: 128</span>"
            ],
            "text/plain": [
              "<IPython.core.display.HTML object>"
            ]
          },
          "metadata": {
            "tags": []
          }
        },
        {
          "output_type": "display_data",
          "data": {
            "text/html": [
              "<span style=\"color:blue\"> |-units_15: 32</span>"
            ],
            "text/plain": [
              "<IPython.core.display.HTML object>"
            ]
          },
          "metadata": {
            "tags": []
          }
        },
        {
          "output_type": "display_data",
          "data": {
            "text/html": [
              "<span style=\"color:cyan\"> |-units_2: 224</span>"
            ],
            "text/plain": [
              "<IPython.core.display.HTML object>"
            ]
          },
          "metadata": {
            "tags": []
          }
        },
        {
          "output_type": "display_data",
          "data": {
            "text/html": [
              "<span style=\"color:blue\"> |-units_3: 480</span>"
            ],
            "text/plain": [
              "<IPython.core.display.HTML object>"
            ]
          },
          "metadata": {
            "tags": []
          }
        },
        {
          "output_type": "display_data",
          "data": {
            "text/html": [
              "<span style=\"color:cyan\"> |-units_4: 352</span>"
            ],
            "text/plain": [
              "<IPython.core.display.HTML object>"
            ]
          },
          "metadata": {
            "tags": []
          }
        },
        {
          "output_type": "display_data",
          "data": {
            "text/html": [
              "<span style=\"color:blue\"> |-units_5: 320</span>"
            ],
            "text/plain": [
              "<IPython.core.display.HTML object>"
            ]
          },
          "metadata": {
            "tags": []
          }
        },
        {
          "output_type": "display_data",
          "data": {
            "text/html": [
              "<span style=\"color:cyan\"> |-units_6: 32</span>"
            ],
            "text/plain": [
              "<IPython.core.display.HTML object>"
            ]
          },
          "metadata": {
            "tags": []
          }
        },
        {
          "output_type": "display_data",
          "data": {
            "text/html": [
              "<span style=\"color:blue\"> |-units_7: 480</span>"
            ],
            "text/plain": [
              "<IPython.core.display.HTML object>"
            ]
          },
          "metadata": {
            "tags": []
          }
        },
        {
          "output_type": "display_data",
          "data": {
            "text/html": [
              "<span style=\"color:cyan\"> |-units_8: 384</span>"
            ],
            "text/plain": [
              "<IPython.core.display.HTML object>"
            ]
          },
          "metadata": {
            "tags": []
          }
        },
        {
          "output_type": "display_data",
          "data": {
            "text/html": [
              "<span style=\"color:blue\"> |-units_9: 64</span>"
            ],
            "text/plain": [
              "<IPython.core.display.HTML object>"
            ]
          },
          "metadata": {
            "tags": []
          }
        },
        {
          "output_type": "display_data",
          "data": {
            "text/html": [
              "<span style=\"color:#4527A0\"><h1 style=\"font-size:18px\">Starting new trial</h1></span>"
            ],
            "text/plain": [
              "<IPython.core.display.HTML object>"
            ]
          },
          "metadata": {
            "tags": []
          }
        },
        {
          "output_type": "stream",
          "text": [
            "Epoch 1/15\n",
            "733/733 [==============================] - 3s 5ms/step - loss: 0.6931 - accuracy: 0.5073 - val_loss: 0.6931 - val_accuracy: 0.4103\n",
            "Epoch 2/15\n",
            "733/733 [==============================] - 3s 4ms/step - loss: 0.6931 - accuracy: 0.5046 - val_loss: 0.6931 - val_accuracy: 0.2260\n",
            "Epoch 3/15\n",
            "733/733 [==============================] - 3s 4ms/step - loss: 0.6931 - accuracy: 0.4993 - val_loss: 0.6931 - val_accuracy: 0.7727\n",
            "Epoch 4/15\n",
            "733/733 [==============================] - 3s 4ms/step - loss: 0.6931 - accuracy: 0.5013 - val_loss: 0.6931 - val_accuracy: 0.7754\n",
            "Epoch 5/15\n",
            "733/733 [==============================] - 3s 4ms/step - loss: 0.6931 - accuracy: 0.5047 - val_loss: 0.6931 - val_accuracy: 0.7691\n",
            "Epoch 6/15\n",
            "733/733 [==============================] - 3s 4ms/step - loss: 0.6931 - accuracy: 0.5003 - val_loss: 0.6931 - val_accuracy: 0.6676\n",
            "Epoch 7/15\n",
            "733/733 [==============================] - 3s 4ms/step - loss: 0.6931 - accuracy: 0.5006 - val_loss: 0.6931 - val_accuracy: 0.2242\n",
            "Epoch 8/15\n",
            "733/733 [==============================] - 3s 4ms/step - loss: 0.6931 - accuracy: 0.5026 - val_loss: 0.6931 - val_accuracy: 0.4376\n",
            "Epoch 9/15\n",
            "733/733 [==============================] - 3s 4ms/step - loss: 0.6931 - accuracy: 0.5004 - val_loss: 0.6931 - val_accuracy: 0.6107\n",
            "Epoch 10/15\n",
            "733/733 [==============================] - 3s 4ms/step - loss: 0.6931 - accuracy: 0.4996 - val_loss: 0.6931 - val_accuracy: 0.7577\n",
            "Epoch 11/15\n",
            "733/733 [==============================] - 3s 4ms/step - loss: 0.6931 - accuracy: 0.4980 - val_loss: 0.6931 - val_accuracy: 0.4592\n",
            "Epoch 12/15\n",
            "733/733 [==============================] - 3s 4ms/step - loss: 0.6931 - accuracy: 0.4977 - val_loss: 0.6931 - val_accuracy: 0.7747\n",
            "Epoch 13/15\n",
            "733/733 [==============================] - 3s 4ms/step - loss: 0.6931 - accuracy: 0.5021 - val_loss: 0.6931 - val_accuracy: 0.2326\n",
            "Epoch 14/15\n",
            "733/733 [==============================] - 3s 4ms/step - loss: 0.6931 - accuracy: 0.5033 - val_loss: 0.6931 - val_accuracy: 0.2258\n",
            "Epoch 15/15\n",
            "733/733 [==============================] - 3s 4ms/step - loss: 0.6931 - accuracy: 0.5035 - val_loss: 0.6931 - val_accuracy: 0.5834\n",
            "Epoch 1/15\n",
            "733/733 [==============================] - 3s 4ms/step - loss: 0.6931 - accuracy: 0.5076 - val_loss: 0.6931 - val_accuracy: 0.7345\n",
            "Epoch 2/15\n",
            "733/733 [==============================] - 3s 4ms/step - loss: 0.6931 - accuracy: 0.5067 - val_loss: 0.6931 - val_accuracy: 0.4618\n",
            "Epoch 3/15\n",
            "733/733 [==============================] - 3s 4ms/step - loss: 0.6931 - accuracy: 0.4994 - val_loss: 0.6931 - val_accuracy: 0.6218\n",
            "Epoch 4/15\n",
            "733/733 [==============================] - 3s 4ms/step - loss: 0.6931 - accuracy: 0.5029 - val_loss: 0.6931 - val_accuracy: 0.2836\n",
            "Epoch 5/15\n",
            "733/733 [==============================] - 3s 4ms/step - loss: 0.6931 - accuracy: 0.4961 - val_loss: 0.6931 - val_accuracy: 0.7737\n",
            "Epoch 6/15\n",
            "733/733 [==============================] - 3s 4ms/step - loss: 0.6931 - accuracy: 0.4984 - val_loss: 0.6931 - val_accuracy: 0.2689\n",
            "Epoch 7/15\n",
            "733/733 [==============================] - 3s 4ms/step - loss: 0.6931 - accuracy: 0.5024 - val_loss: 0.6931 - val_accuracy: 0.4505\n",
            "Epoch 8/15\n",
            "733/733 [==============================] - 3s 4ms/step - loss: 0.6931 - accuracy: 0.4971 - val_loss: 0.6931 - val_accuracy: 0.2270\n",
            "Epoch 9/15\n",
            "733/733 [==============================] - 3s 4ms/step - loss: 0.6931 - accuracy: 0.5025 - val_loss: 0.6931 - val_accuracy: 0.7190\n",
            "Epoch 10/15\n",
            "733/733 [==============================] - 3s 4ms/step - loss: 0.6931 - accuracy: 0.5027 - val_loss: 0.6931 - val_accuracy: 0.7652\n",
            "Epoch 11/15\n",
            "733/733 [==============================] - 3s 5ms/step - loss: 0.6931 - accuracy: 0.5009 - val_loss: 0.6931 - val_accuracy: 0.2242\n",
            "Epoch 12/15\n",
            "733/733 [==============================] - 3s 5ms/step - loss: 0.6931 - accuracy: 0.4949 - val_loss: 0.6931 - val_accuracy: 0.7614\n",
            "Epoch 13/15\n",
            "733/733 [==============================] - 3s 4ms/step - loss: 0.6931 - accuracy: 0.4947 - val_loss: 0.6931 - val_accuracy: 0.6168\n",
            "Epoch 14/15\n",
            "733/733 [==============================] - 3s 4ms/step - loss: 0.6931 - accuracy: 0.5033 - val_loss: 0.6931 - val_accuracy: 0.2242\n",
            "Epoch 15/15\n",
            "733/733 [==============================] - 3s 4ms/step - loss: 0.6931 - accuracy: 0.4997 - val_loss: 0.6931 - val_accuracy: 0.7002\n",
            "Epoch 1/15\n",
            "733/733 [==============================] - 3s 4ms/step - loss: 0.6931 - accuracy: 0.5112 - val_loss: 0.6931 - val_accuracy: 0.7347\n",
            "Epoch 2/15\n",
            "733/733 [==============================] - 3s 4ms/step - loss: 0.6931 - accuracy: 0.5067 - val_loss: 0.6931 - val_accuracy: 0.2270\n",
            "Epoch 3/15\n",
            "733/733 [==============================] - 3s 4ms/step - loss: 0.6931 - accuracy: 0.5052 - val_loss: 0.6931 - val_accuracy: 0.7050\n",
            "Epoch 4/15\n",
            "733/733 [==============================] - 3s 4ms/step - loss: 0.6931 - accuracy: 0.5004 - val_loss: 0.6931 - val_accuracy: 0.2575\n",
            "Epoch 5/15\n",
            "733/733 [==============================] - 3s 4ms/step - loss: 0.6931 - accuracy: 0.4974 - val_loss: 0.6931 - val_accuracy: 0.7715\n",
            "Epoch 6/15\n",
            "733/733 [==============================] - 3s 4ms/step - loss: 0.6931 - accuracy: 0.4991 - val_loss: 0.6931 - val_accuracy: 0.7396\n",
            "Epoch 7/15\n",
            "733/733 [==============================] - 3s 4ms/step - loss: 0.6931 - accuracy: 0.5045 - val_loss: 0.6931 - val_accuracy: 0.7735\n",
            "Epoch 8/15\n",
            "733/733 [==============================] - 3s 4ms/step - loss: 0.6931 - accuracy: 0.4971 - val_loss: 0.6931 - val_accuracy: 0.7746\n",
            "Epoch 9/15\n",
            "733/733 [==============================] - 3s 4ms/step - loss: 0.6931 - accuracy: 0.4972 - val_loss: 0.6931 - val_accuracy: 0.4418\n",
            "Epoch 10/15\n",
            "733/733 [==============================] - 3s 4ms/step - loss: 0.6931 - accuracy: 0.4978 - val_loss: 0.6931 - val_accuracy: 0.7701\n",
            "Epoch 11/15\n",
            "733/733 [==============================] - 3s 4ms/step - loss: 0.6931 - accuracy: 0.5061 - val_loss: 0.6931 - val_accuracy: 0.2285\n",
            "Epoch 12/15\n",
            "733/733 [==============================] - 3s 4ms/step - loss: 0.6931 - accuracy: 0.5022 - val_loss: 0.6931 - val_accuracy: 0.2242\n",
            "Epoch 13/15\n",
            "733/733 [==============================] - 3s 4ms/step - loss: 0.6931 - accuracy: 0.5048 - val_loss: 0.6931 - val_accuracy: 0.7671\n",
            "Epoch 14/15\n",
            "733/733 [==============================] - 3s 4ms/step - loss: 0.6931 - accuracy: 0.5001 - val_loss: 0.6931 - val_accuracy: 0.7754\n",
            "Epoch 15/15\n",
            "733/733 [==============================] - 3s 4ms/step - loss: 0.6931 - accuracy: 0.4996 - val_loss: 0.6931 - val_accuracy: 0.7713\n"
          ],
          "name": "stdout"
        },
        {
          "output_type": "display_data",
          "data": {
            "text/html": [
              "<span style=\"color:#4527A0\"><h1 style=\"font-size:18px\">Trial complete</h1></span>"
            ],
            "text/plain": [
              "<IPython.core.display.HTML object>"
            ]
          },
          "metadata": {
            "tags": []
          }
        },
        {
          "output_type": "display_data",
          "data": {
            "text/html": [
              "<span style=\"color:#4527A0\"><h1 style=\"font-size:18px\">Trial summary</h1></span>"
            ],
            "text/plain": [
              "<IPython.core.display.HTML object>"
            ]
          },
          "metadata": {
            "tags": []
          }
        },
        {
          "output_type": "display_data",
          "data": {
            "text/html": [
              "<span style=\"color:cyan\"> |-Trial ID: 163013f5e501267399a3152aed50fc70</span>"
            ],
            "text/plain": [
              "<IPython.core.display.HTML object>"
            ]
          },
          "metadata": {
            "tags": []
          }
        },
        {
          "output_type": "display_data",
          "data": {
            "text/html": [
              "<span style=\"color:cyan\"> |-Score: 0.7748408317565918</span>"
            ],
            "text/plain": [
              "<IPython.core.display.HTML object>"
            ]
          },
          "metadata": {
            "tags": []
          }
        },
        {
          "output_type": "display_data",
          "data": {
            "text/html": [
              "<span style=\"color:cyan\"> |-Best step: 0</span>"
            ],
            "text/plain": [
              "<IPython.core.display.HTML object>"
            ]
          },
          "metadata": {
            "tags": []
          }
        },
        {
          "output_type": "display_data",
          "data": {
            "text/html": [
              "<span style=\"color:#7E57C2\"><h2 style=\"font-size:16px\">Hyperparameters:</h2></span>"
            ],
            "text/plain": [
              "<IPython.core.display.HTML object>"
            ]
          },
          "metadata": {
            "tags": []
          }
        },
        {
          "output_type": "display_data",
          "data": {
            "text/html": [
              "<span style=\"color:cyan\"> |-learning_rate: 0.0001</span>"
            ],
            "text/plain": [
              "<IPython.core.display.HTML object>"
            ]
          },
          "metadata": {
            "tags": []
          }
        },
        {
          "output_type": "display_data",
          "data": {
            "text/html": [
              "<span style=\"color:blue\"> |-num_layers: 13</span>"
            ],
            "text/plain": [
              "<IPython.core.display.HTML object>"
            ]
          },
          "metadata": {
            "tags": []
          }
        },
        {
          "output_type": "display_data",
          "data": {
            "text/html": [
              "<span style=\"color:cyan\"> |-units_0: 416</span>"
            ],
            "text/plain": [
              "<IPython.core.display.HTML object>"
            ]
          },
          "metadata": {
            "tags": []
          }
        },
        {
          "output_type": "display_data",
          "data": {
            "text/html": [
              "<span style=\"color:blue\"> |-units_1: 64</span>"
            ],
            "text/plain": [
              "<IPython.core.display.HTML object>"
            ]
          },
          "metadata": {
            "tags": []
          }
        },
        {
          "output_type": "display_data",
          "data": {
            "text/html": [
              "<span style=\"color:cyan\"> |-units_10: 320</span>"
            ],
            "text/plain": [
              "<IPython.core.display.HTML object>"
            ]
          },
          "metadata": {
            "tags": []
          }
        },
        {
          "output_type": "display_data",
          "data": {
            "text/html": [
              "<span style=\"color:blue\"> |-units_11: 96</span>"
            ],
            "text/plain": [
              "<IPython.core.display.HTML object>"
            ]
          },
          "metadata": {
            "tags": []
          }
        },
        {
          "output_type": "display_data",
          "data": {
            "text/html": [
              "<span style=\"color:cyan\"> |-units_12: 288</span>"
            ],
            "text/plain": [
              "<IPython.core.display.HTML object>"
            ]
          },
          "metadata": {
            "tags": []
          }
        },
        {
          "output_type": "display_data",
          "data": {
            "text/html": [
              "<span style=\"color:blue\"> |-units_13: 352</span>"
            ],
            "text/plain": [
              "<IPython.core.display.HTML object>"
            ]
          },
          "metadata": {
            "tags": []
          }
        },
        {
          "output_type": "display_data",
          "data": {
            "text/html": [
              "<span style=\"color:cyan\"> |-units_14: 384</span>"
            ],
            "text/plain": [
              "<IPython.core.display.HTML object>"
            ]
          },
          "metadata": {
            "tags": []
          }
        },
        {
          "output_type": "display_data",
          "data": {
            "text/html": [
              "<span style=\"color:blue\"> |-units_15: 192</span>"
            ],
            "text/plain": [
              "<IPython.core.display.HTML object>"
            ]
          },
          "metadata": {
            "tags": []
          }
        },
        {
          "output_type": "display_data",
          "data": {
            "text/html": [
              "<span style=\"color:cyan\"> |-units_2: 416</span>"
            ],
            "text/plain": [
              "<IPython.core.display.HTML object>"
            ]
          },
          "metadata": {
            "tags": []
          }
        },
        {
          "output_type": "display_data",
          "data": {
            "text/html": [
              "<span style=\"color:blue\"> |-units_3: 320</span>"
            ],
            "text/plain": [
              "<IPython.core.display.HTML object>"
            ]
          },
          "metadata": {
            "tags": []
          }
        },
        {
          "output_type": "display_data",
          "data": {
            "text/html": [
              "<span style=\"color:cyan\"> |-units_4: 416</span>"
            ],
            "text/plain": [
              "<IPython.core.display.HTML object>"
            ]
          },
          "metadata": {
            "tags": []
          }
        },
        {
          "output_type": "display_data",
          "data": {
            "text/html": [
              "<span style=\"color:blue\"> |-units_5: 416</span>"
            ],
            "text/plain": [
              "<IPython.core.display.HTML object>"
            ]
          },
          "metadata": {
            "tags": []
          }
        },
        {
          "output_type": "display_data",
          "data": {
            "text/html": [
              "<span style=\"color:cyan\"> |-units_6: 64</span>"
            ],
            "text/plain": [
              "<IPython.core.display.HTML object>"
            ]
          },
          "metadata": {
            "tags": []
          }
        },
        {
          "output_type": "display_data",
          "data": {
            "text/html": [
              "<span style=\"color:blue\"> |-units_7: 352</span>"
            ],
            "text/plain": [
              "<IPython.core.display.HTML object>"
            ]
          },
          "metadata": {
            "tags": []
          }
        },
        {
          "output_type": "display_data",
          "data": {
            "text/html": [
              "<span style=\"color:cyan\"> |-units_8: 192</span>"
            ],
            "text/plain": [
              "<IPython.core.display.HTML object>"
            ]
          },
          "metadata": {
            "tags": []
          }
        },
        {
          "output_type": "display_data",
          "data": {
            "text/html": [
              "<span style=\"color:blue\"> |-units_9: 256</span>"
            ],
            "text/plain": [
              "<IPython.core.display.HTML object>"
            ]
          },
          "metadata": {
            "tags": []
          }
        },
        {
          "output_type": "display_data",
          "data": {
            "text/html": [
              "<span style=\"color:#4527A0\"><h1 style=\"font-size:18px\">Starting new trial</h1></span>"
            ],
            "text/plain": [
              "<IPython.core.display.HTML object>"
            ]
          },
          "metadata": {
            "tags": []
          }
        },
        {
          "output_type": "stream",
          "text": [
            "Epoch 1/15\n",
            "733/733 [==============================] - 3s 3ms/step - loss: 0.6935 - accuracy: 0.4883 - val_loss: 0.6931 - val_accuracy: 0.3709\n",
            "Epoch 2/15\n",
            "733/733 [==============================] - 2s 3ms/step - loss: 0.6931 - accuracy: 0.4887 - val_loss: 0.6931 - val_accuracy: 0.2249\n",
            "Epoch 3/15\n",
            "733/733 [==============================] - 2s 3ms/step - loss: 0.6931 - accuracy: 0.4969 - val_loss: 0.6931 - val_accuracy: 0.2239\n",
            "Epoch 4/15\n",
            "733/733 [==============================] - 2s 3ms/step - loss: 0.6931 - accuracy: 0.5021 - val_loss: 0.6931 - val_accuracy: 0.2242\n",
            "Epoch 5/15\n",
            "733/733 [==============================] - 2s 3ms/step - loss: 0.6931 - accuracy: 0.4990 - val_loss: 0.6931 - val_accuracy: 0.2242\n",
            "Epoch 6/15\n",
            "733/733 [==============================] - 2s 3ms/step - loss: 0.6931 - accuracy: 0.5096 - val_loss: 0.6931 - val_accuracy: 0.7758\n",
            "Epoch 7/15\n",
            "733/733 [==============================] - 2s 3ms/step - loss: 0.6931 - accuracy: 0.5064 - val_loss: 0.6931 - val_accuracy: 0.2242\n",
            "Epoch 8/15\n",
            "733/733 [==============================] - 2s 3ms/step - loss: 0.6931 - accuracy: 0.5046 - val_loss: 0.6931 - val_accuracy: 0.4023\n",
            "Epoch 9/15\n",
            "733/733 [==============================] - 2s 3ms/step - loss: 0.6931 - accuracy: 0.5024 - val_loss: 0.6931 - val_accuracy: 0.4002\n",
            "Epoch 10/15\n",
            "733/733 [==============================] - 3s 3ms/step - loss: 0.6931 - accuracy: 0.5041 - val_loss: 0.6931 - val_accuracy: 0.7758\n",
            "Epoch 11/15\n",
            "733/733 [==============================] - 2s 3ms/step - loss: 0.6931 - accuracy: 0.4946 - val_loss: 0.6931 - val_accuracy: 0.7355\n",
            "Epoch 12/15\n",
            "733/733 [==============================] - 2s 3ms/step - loss: 0.6931 - accuracy: 0.4939 - val_loss: 0.6931 - val_accuracy: 0.7677\n",
            "Epoch 13/15\n",
            "733/733 [==============================] - 2s 3ms/step - loss: 0.6931 - accuracy: 0.4996 - val_loss: 0.6931 - val_accuracy: 0.6068\n",
            "Epoch 14/15\n",
            "733/733 [==============================] - 2s 3ms/step - loss: 0.6931 - accuracy: 0.4978 - val_loss: 0.6931 - val_accuracy: 0.7758\n",
            "Epoch 15/15\n",
            "733/733 [==============================] - 3s 4ms/step - loss: 0.6931 - accuracy: 0.5053 - val_loss: 0.6931 - val_accuracy: 0.7758\n",
            "Epoch 1/15\n",
            "733/733 [==============================] - 3s 4ms/step - loss: 0.6935 - accuracy: 0.4910 - val_loss: 0.6931 - val_accuracy: 0.2469\n",
            "Epoch 2/15\n",
            "733/733 [==============================] - 2s 3ms/step - loss: 0.6931 - accuracy: 0.5014 - val_loss: 0.6931 - val_accuracy: 0.2246\n",
            "Epoch 3/15\n",
            "733/733 [==============================] - 2s 3ms/step - loss: 0.6931 - accuracy: 0.5017 - val_loss: 0.6931 - val_accuracy: 0.3533\n",
            "Epoch 4/15\n",
            "733/733 [==============================] - 2s 3ms/step - loss: 0.6931 - accuracy: 0.4986 - val_loss: 0.6931 - val_accuracy: 0.2353\n",
            "Epoch 5/15\n",
            "733/733 [==============================] - 2s 3ms/step - loss: 0.6931 - accuracy: 0.5004 - val_loss: 0.6931 - val_accuracy: 0.2263\n",
            "Epoch 6/15\n",
            "733/733 [==============================] - 2s 3ms/step - loss: 0.6931 - accuracy: 0.4981 - val_loss: 0.6931 - val_accuracy: 0.7735\n",
            "Epoch 7/15\n",
            "733/733 [==============================] - 2s 3ms/step - loss: 0.6931 - accuracy: 0.5167 - val_loss: 0.6931 - val_accuracy: 0.2242\n",
            "Epoch 8/15\n",
            "733/733 [==============================] - 2s 3ms/step - loss: 0.6931 - accuracy: 0.5038 - val_loss: 0.6931 - val_accuracy: 0.2444\n",
            "Epoch 9/15\n",
            "733/733 [==============================] - 2s 3ms/step - loss: 0.6931 - accuracy: 0.5007 - val_loss: 0.6931 - val_accuracy: 0.2246\n",
            "Epoch 10/15\n",
            "733/733 [==============================] - 2s 3ms/step - loss: 0.6931 - accuracy: 0.4969 - val_loss: 0.6931 - val_accuracy: 0.2244\n",
            "Epoch 11/15\n",
            "733/733 [==============================] - 2s 3ms/step - loss: 0.6931 - accuracy: 0.4910 - val_loss: 0.6931 - val_accuracy: 0.7758\n",
            "Epoch 12/15\n",
            "733/733 [==============================] - 2s 3ms/step - loss: 0.6931 - accuracy: 0.5029 - val_loss: 0.6931 - val_accuracy: 0.7676\n",
            "Epoch 13/15\n",
            "733/733 [==============================] - 2s 3ms/step - loss: 0.6931 - accuracy: 0.5036 - val_loss: 0.6931 - val_accuracy: 0.7700\n",
            "Epoch 14/15\n",
            "733/733 [==============================] - 2s 3ms/step - loss: 0.6931 - accuracy: 0.5038 - val_loss: 0.6931 - val_accuracy: 0.2242\n",
            "Epoch 15/15\n",
            "733/733 [==============================] - 2s 3ms/step - loss: 0.6931 - accuracy: 0.4991 - val_loss: 0.6931 - val_accuracy: 0.2242\n",
            "Epoch 1/15\n",
            "733/733 [==============================] - 2s 3ms/step - loss: 0.6942 - accuracy: 0.4919 - val_loss: 0.6931 - val_accuracy: 0.7710\n",
            "Epoch 2/15\n",
            "733/733 [==============================] - 2s 3ms/step - loss: 0.6931 - accuracy: 0.4902 - val_loss: 0.6931 - val_accuracy: 0.2258\n",
            "Epoch 3/15\n",
            "733/733 [==============================] - 2s 3ms/step - loss: 0.6931 - accuracy: 0.5088 - val_loss: 0.6931 - val_accuracy: 0.2239\n",
            "Epoch 4/15\n",
            "733/733 [==============================] - 2s 3ms/step - loss: 0.6931 - accuracy: 0.4983 - val_loss: 0.6931 - val_accuracy: 0.2239\n",
            "Epoch 5/15\n",
            "733/733 [==============================] - 2s 3ms/step - loss: 0.6931 - accuracy: 0.4991 - val_loss: 0.6931 - val_accuracy: 0.7758\n",
            "Epoch 6/15\n",
            "733/733 [==============================] - 2s 3ms/step - loss: 0.6931 - accuracy: 0.5180 - val_loss: 0.6931 - val_accuracy: 0.2242\n",
            "Epoch 7/15\n",
            "733/733 [==============================] - 2s 3ms/step - loss: 0.6931 - accuracy: 0.5051 - val_loss: 0.6931 - val_accuracy: 0.7758\n",
            "Epoch 8/15\n",
            "733/733 [==============================] - 2s 3ms/step - loss: 0.6931 - accuracy: 0.5020 - val_loss: 0.6931 - val_accuracy: 0.2242\n",
            "Epoch 9/15\n",
            "733/733 [==============================] - 2s 3ms/step - loss: 0.6931 - accuracy: 0.5093 - val_loss: 0.6931 - val_accuracy: 0.2242\n",
            "Epoch 10/15\n",
            "733/733 [==============================] - 2s 3ms/step - loss: 0.6931 - accuracy: 0.5026 - val_loss: 0.6931 - val_accuracy: 0.2242\n",
            "Epoch 11/15\n",
            "733/733 [==============================] - 2s 3ms/step - loss: 0.6931 - accuracy: 0.5107 - val_loss: 0.6931 - val_accuracy: 0.2242\n",
            "Epoch 12/15\n",
            "733/733 [==============================] - 2s 3ms/step - loss: 0.6931 - accuracy: 0.5574 - val_loss: 0.6931 - val_accuracy: 0.2242\n",
            "Epoch 13/15\n",
            "733/733 [==============================] - 2s 3ms/step - loss: 0.6931 - accuracy: 0.6187 - val_loss: 0.6931 - val_accuracy: 0.7758\n",
            "Epoch 14/15\n",
            "733/733 [==============================] - 2s 3ms/step - loss: 0.6931 - accuracy: 0.7781 - val_loss: 0.6931 - val_accuracy: 0.7758\n",
            "Epoch 15/15\n",
            "733/733 [==============================] - 2s 3ms/step - loss: 0.6931 - accuracy: 0.7781 - val_loss: 0.6931 - val_accuracy: 0.7758\n"
          ],
          "name": "stdout"
        },
        {
          "output_type": "display_data",
          "data": {
            "text/html": [
              "<span style=\"color:#4527A0\"><h1 style=\"font-size:18px\">Trial complete</h1></span>"
            ],
            "text/plain": [
              "<IPython.core.display.HTML object>"
            ]
          },
          "metadata": {
            "tags": []
          }
        },
        {
          "output_type": "display_data",
          "data": {
            "text/html": [
              "<span style=\"color:#4527A0\"><h1 style=\"font-size:18px\">Trial summary</h1></span>"
            ],
            "text/plain": [
              "<IPython.core.display.HTML object>"
            ]
          },
          "metadata": {
            "tags": []
          }
        },
        {
          "output_type": "display_data",
          "data": {
            "text/html": [
              "<span style=\"color:cyan\"> |-Trial ID: b01f32292a6314b07f6c73f851e16900</span>"
            ],
            "text/plain": [
              "<IPython.core.display.HTML object>"
            ]
          },
          "metadata": {
            "tags": []
          }
        },
        {
          "output_type": "display_data",
          "data": {
            "text/html": [
              "<span style=\"color:cyan\"> |-Score: 0.7757503390312195</span>"
            ],
            "text/plain": [
              "<IPython.core.display.HTML object>"
            ]
          },
          "metadata": {
            "tags": []
          }
        },
        {
          "output_type": "display_data",
          "data": {
            "text/html": [
              "<span style=\"color:cyan\"> |-Best step: 0</span>"
            ],
            "text/plain": [
              "<IPython.core.display.HTML object>"
            ]
          },
          "metadata": {
            "tags": []
          }
        },
        {
          "output_type": "display_data",
          "data": {
            "text/html": [
              "<span style=\"color:#7E57C2\"><h2 style=\"font-size:16px\">Hyperparameters:</h2></span>"
            ],
            "text/plain": [
              "<IPython.core.display.HTML object>"
            ]
          },
          "metadata": {
            "tags": []
          }
        },
        {
          "output_type": "display_data",
          "data": {
            "text/html": [
              "<span style=\"color:cyan\"> |-learning_rate: 0.01</span>"
            ],
            "text/plain": [
              "<IPython.core.display.HTML object>"
            ]
          },
          "metadata": {
            "tags": []
          }
        },
        {
          "output_type": "display_data",
          "data": {
            "text/html": [
              "<span style=\"color:blue\"> |-num_layers: 4</span>"
            ],
            "text/plain": [
              "<IPython.core.display.HTML object>"
            ]
          },
          "metadata": {
            "tags": []
          }
        },
        {
          "output_type": "display_data",
          "data": {
            "text/html": [
              "<span style=\"color:cyan\"> |-units_0: 512</span>"
            ],
            "text/plain": [
              "<IPython.core.display.HTML object>"
            ]
          },
          "metadata": {
            "tags": []
          }
        },
        {
          "output_type": "display_data",
          "data": {
            "text/html": [
              "<span style=\"color:blue\"> |-units_1: 64</span>"
            ],
            "text/plain": [
              "<IPython.core.display.HTML object>"
            ]
          },
          "metadata": {
            "tags": []
          }
        },
        {
          "output_type": "display_data",
          "data": {
            "text/html": [
              "<span style=\"color:cyan\"> |-units_10: 480</span>"
            ],
            "text/plain": [
              "<IPython.core.display.HTML object>"
            ]
          },
          "metadata": {
            "tags": []
          }
        },
        {
          "output_type": "display_data",
          "data": {
            "text/html": [
              "<span style=\"color:blue\"> |-units_11: 64</span>"
            ],
            "text/plain": [
              "<IPython.core.display.HTML object>"
            ]
          },
          "metadata": {
            "tags": []
          }
        },
        {
          "output_type": "display_data",
          "data": {
            "text/html": [
              "<span style=\"color:cyan\"> |-units_12: 224</span>"
            ],
            "text/plain": [
              "<IPython.core.display.HTML object>"
            ]
          },
          "metadata": {
            "tags": []
          }
        },
        {
          "output_type": "display_data",
          "data": {
            "text/html": [
              "<span style=\"color:blue\"> |-units_13: 352</span>"
            ],
            "text/plain": [
              "<IPython.core.display.HTML object>"
            ]
          },
          "metadata": {
            "tags": []
          }
        },
        {
          "output_type": "display_data",
          "data": {
            "text/html": [
              "<span style=\"color:cyan\"> |-units_14: 352</span>"
            ],
            "text/plain": [
              "<IPython.core.display.HTML object>"
            ]
          },
          "metadata": {
            "tags": []
          }
        },
        {
          "output_type": "display_data",
          "data": {
            "text/html": [
              "<span style=\"color:blue\"> |-units_15: 160</span>"
            ],
            "text/plain": [
              "<IPython.core.display.HTML object>"
            ]
          },
          "metadata": {
            "tags": []
          }
        },
        {
          "output_type": "display_data",
          "data": {
            "text/html": [
              "<span style=\"color:cyan\"> |-units_2: 352</span>"
            ],
            "text/plain": [
              "<IPython.core.display.HTML object>"
            ]
          },
          "metadata": {
            "tags": []
          }
        },
        {
          "output_type": "display_data",
          "data": {
            "text/html": [
              "<span style=\"color:blue\"> |-units_3: 448</span>"
            ],
            "text/plain": [
              "<IPython.core.display.HTML object>"
            ]
          },
          "metadata": {
            "tags": []
          }
        },
        {
          "output_type": "display_data",
          "data": {
            "text/html": [
              "<span style=\"color:cyan\"> |-units_4: 64</span>"
            ],
            "text/plain": [
              "<IPython.core.display.HTML object>"
            ]
          },
          "metadata": {
            "tags": []
          }
        },
        {
          "output_type": "display_data",
          "data": {
            "text/html": [
              "<span style=\"color:blue\"> |-units_5: 320</span>"
            ],
            "text/plain": [
              "<IPython.core.display.HTML object>"
            ]
          },
          "metadata": {
            "tags": []
          }
        },
        {
          "output_type": "display_data",
          "data": {
            "text/html": [
              "<span style=\"color:cyan\"> |-units_6: 384</span>"
            ],
            "text/plain": [
              "<IPython.core.display.HTML object>"
            ]
          },
          "metadata": {
            "tags": []
          }
        },
        {
          "output_type": "display_data",
          "data": {
            "text/html": [
              "<span style=\"color:blue\"> |-units_7: 448</span>"
            ],
            "text/plain": [
              "<IPython.core.display.HTML object>"
            ]
          },
          "metadata": {
            "tags": []
          }
        },
        {
          "output_type": "display_data",
          "data": {
            "text/html": [
              "<span style=\"color:cyan\"> |-units_8: 320</span>"
            ],
            "text/plain": [
              "<IPython.core.display.HTML object>"
            ]
          },
          "metadata": {
            "tags": []
          }
        },
        {
          "output_type": "display_data",
          "data": {
            "text/html": [
              "<span style=\"color:blue\"> |-units_9: 192</span>"
            ],
            "text/plain": [
              "<IPython.core.display.HTML object>"
            ]
          },
          "metadata": {
            "tags": []
          }
        },
        {
          "output_type": "display_data",
          "data": {
            "text/html": [
              "<span style=\"color:#4527A0\"><h1 style=\"font-size:18px\">Starting new trial</h1></span>"
            ],
            "text/plain": [
              "<IPython.core.display.HTML object>"
            ]
          },
          "metadata": {
            "tags": []
          }
        },
        {
          "output_type": "stream",
          "text": [
            "Epoch 1/15\n",
            "733/733 [==============================] - 3s 4ms/step - loss: 0.6931 - accuracy: 0.4913 - val_loss: 0.6931 - val_accuracy: 0.4870\n",
            "Epoch 2/15\n",
            "733/733 [==============================] - 3s 3ms/step - loss: 0.6931 - accuracy: 0.4934 - val_loss: 0.6931 - val_accuracy: 0.4586\n",
            "Epoch 3/15\n",
            "733/733 [==============================] - 3s 4ms/step - loss: 0.6931 - accuracy: 0.4963 - val_loss: 0.6931 - val_accuracy: 0.3557\n",
            "Epoch 4/15\n",
            "733/733 [==============================] - 3s 4ms/step - loss: 0.6931 - accuracy: 0.4966 - val_loss: 0.6931 - val_accuracy: 0.4045\n",
            "Epoch 5/15\n",
            "733/733 [==============================] - 3s 4ms/step - loss: 0.6931 - accuracy: 0.5002 - val_loss: 0.6931 - val_accuracy: 0.6426\n",
            "Epoch 6/15\n",
            "733/733 [==============================] - 3s 4ms/step - loss: 0.6931 - accuracy: 0.5010 - val_loss: 0.6931 - val_accuracy: 0.6806\n",
            "Epoch 7/15\n",
            "733/733 [==============================] - 3s 4ms/step - loss: 0.6931 - accuracy: 0.5005 - val_loss: 0.6931 - val_accuracy: 0.2812\n",
            "Epoch 8/15\n",
            "733/733 [==============================] - 3s 4ms/step - loss: 0.6931 - accuracy: 0.5004 - val_loss: 0.6931 - val_accuracy: 0.3226\n",
            "Epoch 9/15\n",
            "733/733 [==============================] - 3s 4ms/step - loss: 0.6931 - accuracy: 0.4977 - val_loss: 0.6931 - val_accuracy: 0.3537\n",
            "Epoch 10/15\n",
            "733/733 [==============================] - 3s 4ms/step - loss: 0.6931 - accuracy: 0.5002 - val_loss: 0.6931 - val_accuracy: 0.4275\n",
            "Epoch 11/15\n",
            "733/733 [==============================] - 3s 4ms/step - loss: 0.6931 - accuracy: 0.4978 - val_loss: 0.6931 - val_accuracy: 0.6733\n",
            "Epoch 12/15\n",
            "733/733 [==============================] - 3s 4ms/step - loss: 0.6931 - accuracy: 0.5009 - val_loss: 0.6931 - val_accuracy: 0.3818\n",
            "Epoch 13/15\n",
            "733/733 [==============================] - 3s 4ms/step - loss: 0.6931 - accuracy: 0.4987 - val_loss: 0.6931 - val_accuracy: 0.4584\n",
            "Epoch 14/15\n",
            "733/733 [==============================] - 3s 4ms/step - loss: 0.6931 - accuracy: 0.4941 - val_loss: 0.6931 - val_accuracy: 0.2780\n",
            "Epoch 15/15\n",
            "733/733 [==============================] - 3s 4ms/step - loss: 0.6931 - accuracy: 0.4986 - val_loss: 0.6931 - val_accuracy: 0.5590\n",
            "Epoch 1/15\n",
            "733/733 [==============================] - 3s 4ms/step - loss: 0.6931 - accuracy: 0.5048 - val_loss: 0.6931 - val_accuracy: 0.4227\n",
            "Epoch 2/15\n",
            "733/733 [==============================] - 3s 4ms/step - loss: 0.6931 - accuracy: 0.5011 - val_loss: 0.6931 - val_accuracy: 0.6153\n",
            "Epoch 3/15\n",
            "733/733 [==============================] - 3s 4ms/step - loss: 0.6931 - accuracy: 0.5012 - val_loss: 0.6931 - val_accuracy: 0.5958\n",
            "Epoch 4/15\n",
            "733/733 [==============================] - 3s 3ms/step - loss: 0.6931 - accuracy: 0.5040 - val_loss: 0.6931 - val_accuracy: 0.6629\n",
            "Epoch 5/15\n",
            "733/733 [==============================] - 3s 4ms/step - loss: 0.6931 - accuracy: 0.5019 - val_loss: 0.6931 - val_accuracy: 0.3663\n",
            "Epoch 6/15\n",
            "733/733 [==============================] - 3s 4ms/step - loss: 0.6931 - accuracy: 0.4980 - val_loss: 0.6931 - val_accuracy: 0.5053\n",
            "Epoch 7/15\n",
            "733/733 [==============================] - 3s 4ms/step - loss: 0.6931 - accuracy: 0.4998 - val_loss: 0.6931 - val_accuracy: 0.4599\n",
            "Epoch 8/15\n",
            "733/733 [==============================] - 3s 3ms/step - loss: 0.6931 - accuracy: 0.4983 - val_loss: 0.6931 - val_accuracy: 0.7150\n",
            "Epoch 9/15\n",
            "733/733 [==============================] - 2s 3ms/step - loss: 0.6931 - accuracy: 0.4971 - val_loss: 0.6931 - val_accuracy: 0.2815\n",
            "Epoch 10/15\n",
            "733/733 [==============================] - 3s 4ms/step - loss: 0.6931 - accuracy: 0.4990 - val_loss: 0.6931 - val_accuracy: 0.5563\n",
            "Epoch 11/15\n",
            "733/733 [==============================] - 3s 4ms/step - loss: 0.6931 - accuracy: 0.5008 - val_loss: 0.6931 - val_accuracy: 0.5121\n",
            "Epoch 12/15\n",
            "733/733 [==============================] - 3s 4ms/step - loss: 0.6931 - accuracy: 0.5025 - val_loss: 0.6931 - val_accuracy: 0.4633\n",
            "Epoch 13/15\n",
            "733/733 [==============================] - 3s 4ms/step - loss: 0.6931 - accuracy: 0.4960 - val_loss: 0.6931 - val_accuracy: 0.3114\n",
            "Epoch 14/15\n",
            "733/733 [==============================] - 3s 3ms/step - loss: 0.6931 - accuracy: 0.4989 - val_loss: 0.6931 - val_accuracy: 0.5290\n",
            "Epoch 15/15\n",
            "733/733 [==============================] - 3s 3ms/step - loss: 0.6931 - accuracy: 0.5008 - val_loss: 0.6931 - val_accuracy: 0.5701\n",
            "Epoch 1/15\n",
            "733/733 [==============================] - 3s 4ms/step - loss: 0.6931 - accuracy: 0.4976 - val_loss: 0.6931 - val_accuracy: 0.4152\n",
            "Epoch 2/15\n",
            "733/733 [==============================] - 3s 4ms/step - loss: 0.6931 - accuracy: 0.4992 - val_loss: 0.6931 - val_accuracy: 0.5868\n",
            "Epoch 3/15\n",
            "733/733 [==============================] - 3s 4ms/step - loss: 0.6931 - accuracy: 0.5066 - val_loss: 0.6931 - val_accuracy: 0.2969\n",
            "Epoch 4/15\n",
            "733/733 [==============================] - 3s 4ms/step - loss: 0.6931 - accuracy: 0.5055 - val_loss: 0.6931 - val_accuracy: 0.2693\n",
            "Epoch 5/15\n",
            "733/733 [==============================] - 3s 3ms/step - loss: 0.6931 - accuracy: 0.5033 - val_loss: 0.6931 - val_accuracy: 0.5629\n",
            "Epoch 6/15\n",
            "733/733 [==============================] - 3s 4ms/step - loss: 0.6931 - accuracy: 0.4985 - val_loss: 0.6931 - val_accuracy: 0.4306\n",
            "Epoch 7/15\n",
            "733/733 [==============================] - 3s 4ms/step - loss: 0.6931 - accuracy: 0.4972 - val_loss: 0.6931 - val_accuracy: 0.6676\n",
            "Epoch 8/15\n",
            "733/733 [==============================] - 3s 4ms/step - loss: 0.6931 - accuracy: 0.5025 - val_loss: 0.6931 - val_accuracy: 0.5488\n",
            "Epoch 9/15\n",
            "733/733 [==============================] - 3s 4ms/step - loss: 0.6931 - accuracy: 0.5049 - val_loss: 0.6931 - val_accuracy: 0.5094\n",
            "Epoch 10/15\n",
            "733/733 [==============================] - 3s 4ms/step - loss: 0.6931 - accuracy: 0.4964 - val_loss: 0.6931 - val_accuracy: 0.5286\n",
            "Epoch 11/15\n",
            "733/733 [==============================] - 3s 4ms/step - loss: 0.6931 - accuracy: 0.4973 - val_loss: 0.6931 - val_accuracy: 0.3921\n",
            "Epoch 12/15\n",
            "733/733 [==============================] - 3s 4ms/step - loss: 0.6931 - accuracy: 0.5001 - val_loss: 0.6931 - val_accuracy: 0.4850\n",
            "Epoch 13/15\n",
            "733/733 [==============================] - 3s 4ms/step - loss: 0.6931 - accuracy: 0.4988 - val_loss: 0.6931 - val_accuracy: 0.6504\n",
            "Epoch 14/15\n",
            "733/733 [==============================] - 3s 4ms/step - loss: 0.6931 - accuracy: 0.5007 - val_loss: 0.6931 - val_accuracy: 0.5283\n",
            "Epoch 15/15\n",
            "733/733 [==============================] - 3s 4ms/step - loss: 0.6931 - accuracy: 0.4988 - val_loss: 0.6931 - val_accuracy: 0.7190\n"
          ],
          "name": "stdout"
        },
        {
          "output_type": "display_data",
          "data": {
            "text/html": [
              "<span style=\"color:#4527A0\"><h1 style=\"font-size:18px\">Trial complete</h1></span>"
            ],
            "text/plain": [
              "<IPython.core.display.HTML object>"
            ]
          },
          "metadata": {
            "tags": []
          }
        },
        {
          "output_type": "display_data",
          "data": {
            "text/html": [
              "<span style=\"color:#4527A0\"><h1 style=\"font-size:18px\">Trial summary</h1></span>"
            ],
            "text/plain": [
              "<IPython.core.display.HTML object>"
            ]
          },
          "metadata": {
            "tags": []
          }
        },
        {
          "output_type": "display_data",
          "data": {
            "text/html": [
              "<span style=\"color:cyan\"> |-Trial ID: 43930ac65c3ad5bf76ea00f733690256</span>"
            ],
            "text/plain": [
              "<IPython.core.display.HTML object>"
            ]
          },
          "metadata": {
            "tags": []
          }
        },
        {
          "output_type": "display_data",
          "data": {
            "text/html": [
              "<span style=\"color:cyan\"> |-Score: 0.704865833123525</span>"
            ],
            "text/plain": [
              "<IPython.core.display.HTML object>"
            ]
          },
          "metadata": {
            "tags": []
          }
        },
        {
          "output_type": "display_data",
          "data": {
            "text/html": [
              "<span style=\"color:cyan\"> |-Best step: 0</span>"
            ],
            "text/plain": [
              "<IPython.core.display.HTML object>"
            ]
          },
          "metadata": {
            "tags": []
          }
        },
        {
          "output_type": "display_data",
          "data": {
            "text/html": [
              "<span style=\"color:#7E57C2\"><h2 style=\"font-size:16px\">Hyperparameters:</h2></span>"
            ],
            "text/plain": [
              "<IPython.core.display.HTML object>"
            ]
          },
          "metadata": {
            "tags": []
          }
        },
        {
          "output_type": "display_data",
          "data": {
            "text/html": [
              "<span style=\"color:cyan\"> |-learning_rate: 0.0001</span>"
            ],
            "text/plain": [
              "<IPython.core.display.HTML object>"
            ]
          },
          "metadata": {
            "tags": []
          }
        },
        {
          "output_type": "display_data",
          "data": {
            "text/html": [
              "<span style=\"color:blue\"> |-num_layers: 6</span>"
            ],
            "text/plain": [
              "<IPython.core.display.HTML object>"
            ]
          },
          "metadata": {
            "tags": []
          }
        },
        {
          "output_type": "display_data",
          "data": {
            "text/html": [
              "<span style=\"color:cyan\"> |-units_0: 288</span>"
            ],
            "text/plain": [
              "<IPython.core.display.HTML object>"
            ]
          },
          "metadata": {
            "tags": []
          }
        },
        {
          "output_type": "display_data",
          "data": {
            "text/html": [
              "<span style=\"color:blue\"> |-units_1: 256</span>"
            ],
            "text/plain": [
              "<IPython.core.display.HTML object>"
            ]
          },
          "metadata": {
            "tags": []
          }
        },
        {
          "output_type": "display_data",
          "data": {
            "text/html": [
              "<span style=\"color:cyan\"> |-units_10: 96</span>"
            ],
            "text/plain": [
              "<IPython.core.display.HTML object>"
            ]
          },
          "metadata": {
            "tags": []
          }
        },
        {
          "output_type": "display_data",
          "data": {
            "text/html": [
              "<span style=\"color:blue\"> |-units_11: 384</span>"
            ],
            "text/plain": [
              "<IPython.core.display.HTML object>"
            ]
          },
          "metadata": {
            "tags": []
          }
        },
        {
          "output_type": "display_data",
          "data": {
            "text/html": [
              "<span style=\"color:cyan\"> |-units_12: 352</span>"
            ],
            "text/plain": [
              "<IPython.core.display.HTML object>"
            ]
          },
          "metadata": {
            "tags": []
          }
        },
        {
          "output_type": "display_data",
          "data": {
            "text/html": [
              "<span style=\"color:blue\"> |-units_13: 352</span>"
            ],
            "text/plain": [
              "<IPython.core.display.HTML object>"
            ]
          },
          "metadata": {
            "tags": []
          }
        },
        {
          "output_type": "display_data",
          "data": {
            "text/html": [
              "<span style=\"color:cyan\"> |-units_14: 224</span>"
            ],
            "text/plain": [
              "<IPython.core.display.HTML object>"
            ]
          },
          "metadata": {
            "tags": []
          }
        },
        {
          "output_type": "display_data",
          "data": {
            "text/html": [
              "<span style=\"color:blue\"> |-units_15: 192</span>"
            ],
            "text/plain": [
              "<IPython.core.display.HTML object>"
            ]
          },
          "metadata": {
            "tags": []
          }
        },
        {
          "output_type": "display_data",
          "data": {
            "text/html": [
              "<span style=\"color:cyan\"> |-units_2: 384</span>"
            ],
            "text/plain": [
              "<IPython.core.display.HTML object>"
            ]
          },
          "metadata": {
            "tags": []
          }
        },
        {
          "output_type": "display_data",
          "data": {
            "text/html": [
              "<span style=\"color:blue\"> |-units_3: 352</span>"
            ],
            "text/plain": [
              "<IPython.core.display.HTML object>"
            ]
          },
          "metadata": {
            "tags": []
          }
        },
        {
          "output_type": "display_data",
          "data": {
            "text/html": [
              "<span style=\"color:cyan\"> |-units_4: 160</span>"
            ],
            "text/plain": [
              "<IPython.core.display.HTML object>"
            ]
          },
          "metadata": {
            "tags": []
          }
        },
        {
          "output_type": "display_data",
          "data": {
            "text/html": [
              "<span style=\"color:blue\"> |-units_5: 256</span>"
            ],
            "text/plain": [
              "<IPython.core.display.HTML object>"
            ]
          },
          "metadata": {
            "tags": []
          }
        },
        {
          "output_type": "display_data",
          "data": {
            "text/html": [
              "<span style=\"color:cyan\"> |-units_6: 352</span>"
            ],
            "text/plain": [
              "<IPython.core.display.HTML object>"
            ]
          },
          "metadata": {
            "tags": []
          }
        },
        {
          "output_type": "display_data",
          "data": {
            "text/html": [
              "<span style=\"color:blue\"> |-units_7: 160</span>"
            ],
            "text/plain": [
              "<IPython.core.display.HTML object>"
            ]
          },
          "metadata": {
            "tags": []
          }
        },
        {
          "output_type": "display_data",
          "data": {
            "text/html": [
              "<span style=\"color:cyan\"> |-units_8: 160</span>"
            ],
            "text/plain": [
              "<IPython.core.display.HTML object>"
            ]
          },
          "metadata": {
            "tags": []
          }
        },
        {
          "output_type": "display_data",
          "data": {
            "text/html": [
              "<span style=\"color:blue\"> |-units_9: 352</span>"
            ],
            "text/plain": [
              "<IPython.core.display.HTML object>"
            ]
          },
          "metadata": {
            "tags": []
          }
        },
        {
          "output_type": "display_data",
          "data": {
            "text/html": [
              "<span style=\"color:#4527A0\"><h1 style=\"font-size:18px\">Starting new trial</h1></span>"
            ],
            "text/plain": [
              "<IPython.core.display.HTML object>"
            ]
          },
          "metadata": {
            "tags": []
          }
        },
        {
          "output_type": "stream",
          "text": [
            "Epoch 1/15\n",
            "733/733 [==============================] - 3s 4ms/step - loss: 0.6931 - accuracy: 0.5027 - val_loss: 0.6931 - val_accuracy: 0.6465\n",
            "Epoch 2/15\n",
            "733/733 [==============================] - 3s 4ms/step - loss: 0.6931 - accuracy: 0.5043 - val_loss: 0.6931 - val_accuracy: 0.6791\n",
            "Epoch 3/15\n",
            "733/733 [==============================] - 3s 4ms/step - loss: 0.6931 - accuracy: 0.5027 - val_loss: 0.6931 - val_accuracy: 0.5041\n",
            "Epoch 4/15\n",
            "733/733 [==============================] - 3s 5ms/step - loss: 0.6931 - accuracy: 0.5033 - val_loss: 0.6931 - val_accuracy: 0.4183\n",
            "Epoch 5/15\n",
            "733/733 [==============================] - 3s 4ms/step - loss: 0.6931 - accuracy: 0.4997 - val_loss: 0.6931 - val_accuracy: 0.2599\n",
            "Epoch 6/15\n",
            "733/733 [==============================] - 3s 4ms/step - loss: 0.6931 - accuracy: 0.5014 - val_loss: 0.6931 - val_accuracy: 0.3902\n",
            "Epoch 7/15\n",
            "733/733 [==============================] - 3s 4ms/step - loss: 0.6931 - accuracy: 0.5026 - val_loss: 0.6931 - val_accuracy: 0.7089\n",
            "Epoch 8/15\n",
            "733/733 [==============================] - 3s 4ms/step - loss: 0.6931 - accuracy: 0.5021 - val_loss: 0.6931 - val_accuracy: 0.4656\n",
            "Epoch 9/15\n",
            "733/733 [==============================] - 3s 4ms/step - loss: 0.6931 - accuracy: 0.4955 - val_loss: 0.6931 - val_accuracy: 0.4894\n",
            "Epoch 10/15\n",
            "733/733 [==============================] - 3s 4ms/step - loss: 0.6931 - accuracy: 0.4996 - val_loss: 0.6931 - val_accuracy: 0.5580\n",
            "Epoch 11/15\n",
            "733/733 [==============================] - 3s 4ms/step - loss: 0.6931 - accuracy: 0.5019 - val_loss: 0.6931 - val_accuracy: 0.3179\n",
            "Epoch 12/15\n",
            "733/733 [==============================] - 3s 4ms/step - loss: 0.6931 - accuracy: 0.4991 - val_loss: 0.6931 - val_accuracy: 0.7012\n",
            "Epoch 13/15\n",
            "733/733 [==============================] - 3s 4ms/step - loss: 0.6931 - accuracy: 0.5002 - val_loss: 0.6931 - val_accuracy: 0.5527\n",
            "Epoch 14/15\n",
            "733/733 [==============================] - 3s 4ms/step - loss: 0.6931 - accuracy: 0.4974 - val_loss: 0.6931 - val_accuracy: 0.2647\n",
            "Epoch 15/15\n",
            "733/733 [==============================] - 3s 4ms/step - loss: 0.6931 - accuracy: 0.4903 - val_loss: 0.6931 - val_accuracy: 0.3128\n",
            "Epoch 1/15\n",
            "733/733 [==============================] - 3s 4ms/step - loss: 0.6931 - accuracy: 0.4956 - val_loss: 0.6931 - val_accuracy: 0.3631\n",
            "Epoch 2/15\n",
            "733/733 [==============================] - 3s 4ms/step - loss: 0.6931 - accuracy: 0.5009 - val_loss: 0.6931 - val_accuracy: 0.3748\n",
            "Epoch 3/15\n",
            "733/733 [==============================] - 3s 4ms/step - loss: 0.6931 - accuracy: 0.4988 - val_loss: 0.6931 - val_accuracy: 0.7558\n",
            "Epoch 4/15\n",
            "733/733 [==============================] - 3s 4ms/step - loss: 0.6931 - accuracy: 0.4991 - val_loss: 0.6931 - val_accuracy: 0.4534\n",
            "Epoch 5/15\n",
            "733/733 [==============================] - 3s 4ms/step - loss: 0.6931 - accuracy: 0.5012 - val_loss: 0.6931 - val_accuracy: 0.2481\n",
            "Epoch 6/15\n",
            "733/733 [==============================] - 3s 4ms/step - loss: 0.6931 - accuracy: 0.4980 - val_loss: 0.6931 - val_accuracy: 0.5767\n",
            "Epoch 7/15\n",
            "733/733 [==============================] - 3s 4ms/step - loss: 0.6931 - accuracy: 0.5036 - val_loss: 0.6931 - val_accuracy: 0.2304\n",
            "Epoch 8/15\n",
            "733/733 [==============================] - 3s 4ms/step - loss: 0.6931 - accuracy: 0.4987 - val_loss: 0.6931 - val_accuracy: 0.7401\n",
            "Epoch 9/15\n",
            "733/733 [==============================] - 3s 4ms/step - loss: 0.6931 - accuracy: 0.5066 - val_loss: 0.6931 - val_accuracy: 0.3211\n",
            "Epoch 10/15\n",
            "733/733 [==============================] - 3s 4ms/step - loss: 0.6931 - accuracy: 0.5008 - val_loss: 0.6931 - val_accuracy: 0.6511\n",
            "Epoch 11/15\n",
            "733/733 [==============================] - 3s 4ms/step - loss: 0.6931 - accuracy: 0.5006 - val_loss: 0.6931 - val_accuracy: 0.3392\n",
            "Epoch 12/15\n",
            "733/733 [==============================] - 3s 4ms/step - loss: 0.6931 - accuracy: 0.4964 - val_loss: 0.6931 - val_accuracy: 0.7428\n",
            "Epoch 13/15\n",
            "733/733 [==============================] - 3s 4ms/step - loss: 0.6931 - accuracy: 0.5025 - val_loss: 0.6931 - val_accuracy: 0.3327\n",
            "Epoch 14/15\n",
            "733/733 [==============================] - 3s 4ms/step - loss: 0.6931 - accuracy: 0.5052 - val_loss: 0.6931 - val_accuracy: 0.5495\n",
            "Epoch 15/15\n",
            "733/733 [==============================] - 3s 4ms/step - loss: 0.6931 - accuracy: 0.5093 - val_loss: 0.6931 - val_accuracy: 0.3375\n",
            "Epoch 1/15\n",
            "733/733 [==============================] - 3s 4ms/step - loss: 0.6931 - accuracy: 0.4931 - val_loss: 0.6931 - val_accuracy: 0.5800\n",
            "Epoch 2/15\n",
            "733/733 [==============================] - 3s 4ms/step - loss: 0.6931 - accuracy: 0.4992 - val_loss: 0.6931 - val_accuracy: 0.6247\n",
            "Epoch 3/15\n",
            "733/733 [==============================] - 3s 4ms/step - loss: 0.6931 - accuracy: 0.5036 - val_loss: 0.6931 - val_accuracy: 0.6896\n",
            "Epoch 4/15\n",
            "733/733 [==============================] - 3s 4ms/step - loss: 0.6931 - accuracy: 0.4981 - val_loss: 0.6931 - val_accuracy: 0.3967\n",
            "Epoch 5/15\n",
            "733/733 [==============================] - 3s 4ms/step - loss: 0.6931 - accuracy: 0.5035 - val_loss: 0.6931 - val_accuracy: 0.4470\n",
            "Epoch 6/15\n",
            "733/733 [==============================] - 3s 4ms/step - loss: 0.6931 - accuracy: 0.4977 - val_loss: 0.6931 - val_accuracy: 0.5938\n",
            "Epoch 7/15\n",
            "733/733 [==============================] - 3s 4ms/step - loss: 0.6931 - accuracy: 0.5026 - val_loss: 0.6931 - val_accuracy: 0.6823\n",
            "Epoch 8/15\n",
            "733/733 [==============================] - 3s 4ms/step - loss: 0.6931 - accuracy: 0.4936 - val_loss: 0.6931 - val_accuracy: 0.7161\n",
            "Epoch 9/15\n",
            "733/733 [==============================] - 3s 4ms/step - loss: 0.6931 - accuracy: 0.4958 - val_loss: 0.6931 - val_accuracy: 0.7543\n",
            "Epoch 10/15\n",
            "733/733 [==============================] - 3s 4ms/step - loss: 0.6931 - accuracy: 0.5022 - val_loss: 0.6931 - val_accuracy: 0.2442\n",
            "Epoch 11/15\n",
            "733/733 [==============================] - 3s 4ms/step - loss: 0.6931 - accuracy: 0.5020 - val_loss: 0.6931 - val_accuracy: 0.2393\n",
            "Epoch 12/15\n",
            "733/733 [==============================] - 3s 4ms/step - loss: 0.6931 - accuracy: 0.4989 - val_loss: 0.6931 - val_accuracy: 0.7045\n",
            "Epoch 13/15\n",
            "733/733 [==============================] - 3s 4ms/step - loss: 0.6931 - accuracy: 0.5014 - val_loss: 0.6931 - val_accuracy: 0.3627\n",
            "Epoch 14/15\n",
            "733/733 [==============================] - 3s 4ms/step - loss: 0.6931 - accuracy: 0.5052 - val_loss: 0.6931 - val_accuracy: 0.5868\n",
            "Epoch 15/15\n",
            "733/733 [==============================] - 3s 4ms/step - loss: 0.6931 - accuracy: 0.5019 - val_loss: 0.6931 - val_accuracy: 0.7459\n"
          ],
          "name": "stdout"
        },
        {
          "output_type": "display_data",
          "data": {
            "text/html": [
              "<span style=\"color:#4527A0\"><h1 style=\"font-size:18px\">Trial complete</h1></span>"
            ],
            "text/plain": [
              "<IPython.core.display.HTML object>"
            ]
          },
          "metadata": {
            "tags": []
          }
        },
        {
          "output_type": "display_data",
          "data": {
            "text/html": [
              "<span style=\"color:#4527A0\"><h1 style=\"font-size:18px\">Trial summary</h1></span>"
            ],
            "text/plain": [
              "<IPython.core.display.HTML object>"
            ]
          },
          "metadata": {
            "tags": []
          }
        },
        {
          "output_type": "display_data",
          "data": {
            "text/html": [
              "<span style=\"color:cyan\"> |-Trial ID: 042db83a80decf2ad1316c5b30ae085a</span>"
            ],
            "text/plain": [
              "<IPython.core.display.HTML object>"
            ]
          },
          "metadata": {
            "tags": []
          }
        },
        {
          "output_type": "display_data",
          "data": {
            "text/html": [
              "<span style=\"color:cyan\"> |-Score: 0.7396543820699056</span>"
            ],
            "text/plain": [
              "<IPython.core.display.HTML object>"
            ]
          },
          "metadata": {
            "tags": []
          }
        },
        {
          "output_type": "display_data",
          "data": {
            "text/html": [
              "<span style=\"color:cyan\"> |-Best step: 0</span>"
            ],
            "text/plain": [
              "<IPython.core.display.HTML object>"
            ]
          },
          "metadata": {
            "tags": []
          }
        },
        {
          "output_type": "display_data",
          "data": {
            "text/html": [
              "<span style=\"color:#7E57C2\"><h2 style=\"font-size:16px\">Hyperparameters:</h2></span>"
            ],
            "text/plain": [
              "<IPython.core.display.HTML object>"
            ]
          },
          "metadata": {
            "tags": []
          }
        },
        {
          "output_type": "display_data",
          "data": {
            "text/html": [
              "<span style=\"color:cyan\"> |-learning_rate: 0.0001</span>"
            ],
            "text/plain": [
              "<IPython.core.display.HTML object>"
            ]
          },
          "metadata": {
            "tags": []
          }
        },
        {
          "output_type": "display_data",
          "data": {
            "text/html": [
              "<span style=\"color:blue\"> |-num_layers: 10</span>"
            ],
            "text/plain": [
              "<IPython.core.display.HTML object>"
            ]
          },
          "metadata": {
            "tags": []
          }
        },
        {
          "output_type": "display_data",
          "data": {
            "text/html": [
              "<span style=\"color:cyan\"> |-units_0: 320</span>"
            ],
            "text/plain": [
              "<IPython.core.display.HTML object>"
            ]
          },
          "metadata": {
            "tags": []
          }
        },
        {
          "output_type": "display_data",
          "data": {
            "text/html": [
              "<span style=\"color:blue\"> |-units_1: 256</span>"
            ],
            "text/plain": [
              "<IPython.core.display.HTML object>"
            ]
          },
          "metadata": {
            "tags": []
          }
        },
        {
          "output_type": "display_data",
          "data": {
            "text/html": [
              "<span style=\"color:cyan\"> |-units_10: 128</span>"
            ],
            "text/plain": [
              "<IPython.core.display.HTML object>"
            ]
          },
          "metadata": {
            "tags": []
          }
        },
        {
          "output_type": "display_data",
          "data": {
            "text/html": [
              "<span style=\"color:blue\"> |-units_11: 416</span>"
            ],
            "text/plain": [
              "<IPython.core.display.HTML object>"
            ]
          },
          "metadata": {
            "tags": []
          }
        },
        {
          "output_type": "display_data",
          "data": {
            "text/html": [
              "<span style=\"color:cyan\"> |-units_12: 320</span>"
            ],
            "text/plain": [
              "<IPython.core.display.HTML object>"
            ]
          },
          "metadata": {
            "tags": []
          }
        },
        {
          "output_type": "display_data",
          "data": {
            "text/html": [
              "<span style=\"color:blue\"> |-units_13: 288</span>"
            ],
            "text/plain": [
              "<IPython.core.display.HTML object>"
            ]
          },
          "metadata": {
            "tags": []
          }
        },
        {
          "output_type": "display_data",
          "data": {
            "text/html": [
              "<span style=\"color:cyan\"> |-units_14: 320</span>"
            ],
            "text/plain": [
              "<IPython.core.display.HTML object>"
            ]
          },
          "metadata": {
            "tags": []
          }
        },
        {
          "output_type": "display_data",
          "data": {
            "text/html": [
              "<span style=\"color:blue\"> |-units_15: 320</span>"
            ],
            "text/plain": [
              "<IPython.core.display.HTML object>"
            ]
          },
          "metadata": {
            "tags": []
          }
        },
        {
          "output_type": "display_data",
          "data": {
            "text/html": [
              "<span style=\"color:cyan\"> |-units_2: 96</span>"
            ],
            "text/plain": [
              "<IPython.core.display.HTML object>"
            ]
          },
          "metadata": {
            "tags": []
          }
        },
        {
          "output_type": "display_data",
          "data": {
            "text/html": [
              "<span style=\"color:blue\"> |-units_3: 64</span>"
            ],
            "text/plain": [
              "<IPython.core.display.HTML object>"
            ]
          },
          "metadata": {
            "tags": []
          }
        },
        {
          "output_type": "display_data",
          "data": {
            "text/html": [
              "<span style=\"color:cyan\"> |-units_4: 288</span>"
            ],
            "text/plain": [
              "<IPython.core.display.HTML object>"
            ]
          },
          "metadata": {
            "tags": []
          }
        },
        {
          "output_type": "display_data",
          "data": {
            "text/html": [
              "<span style=\"color:blue\"> |-units_5: 128</span>"
            ],
            "text/plain": [
              "<IPython.core.display.HTML object>"
            ]
          },
          "metadata": {
            "tags": []
          }
        },
        {
          "output_type": "display_data",
          "data": {
            "text/html": [
              "<span style=\"color:cyan\"> |-units_6: 352</span>"
            ],
            "text/plain": [
              "<IPython.core.display.HTML object>"
            ]
          },
          "metadata": {
            "tags": []
          }
        },
        {
          "output_type": "display_data",
          "data": {
            "text/html": [
              "<span style=\"color:blue\"> |-units_7: 288</span>"
            ],
            "text/plain": [
              "<IPython.core.display.HTML object>"
            ]
          },
          "metadata": {
            "tags": []
          }
        },
        {
          "output_type": "display_data",
          "data": {
            "text/html": [
              "<span style=\"color:cyan\"> |-units_8: 128</span>"
            ],
            "text/plain": [
              "<IPython.core.display.HTML object>"
            ]
          },
          "metadata": {
            "tags": []
          }
        },
        {
          "output_type": "display_data",
          "data": {
            "text/html": [
              "<span style=\"color:blue\"> |-units_9: 320</span>"
            ],
            "text/plain": [
              "<IPython.core.display.HTML object>"
            ]
          },
          "metadata": {
            "tags": []
          }
        },
        {
          "output_type": "display_data",
          "data": {
            "text/html": [
              "<span style=\"color:#4527A0\"><h1 style=\"font-size:18px\">Starting new trial</h1></span>"
            ],
            "text/plain": [
              "<IPython.core.display.HTML object>"
            ]
          },
          "metadata": {
            "tags": []
          }
        },
        {
          "output_type": "stream",
          "text": [
            "Epoch 1/15\n",
            "733/733 [==============================] - 3s 4ms/step - loss: 0.6948 - accuracy: 0.5034 - val_loss: 0.6931 - val_accuracy: 0.6230\n",
            "Epoch 2/15\n",
            "733/733 [==============================] - 3s 4ms/step - loss: 0.6931 - accuracy: 0.4988 - val_loss: 0.6931 - val_accuracy: 0.7689\n",
            "Epoch 3/15\n",
            "733/733 [==============================] - 3s 3ms/step - loss: 0.6931 - accuracy: 0.4922 - val_loss: 0.6931 - val_accuracy: 0.6731\n",
            "Epoch 4/15\n",
            "733/733 [==============================] - 3s 3ms/step - loss: 0.6931 - accuracy: 0.4985 - val_loss: 0.6931 - val_accuracy: 0.7761\n",
            "Epoch 5/15\n",
            "733/733 [==============================] - 3s 4ms/step - loss: 0.6931 - accuracy: 0.4988 - val_loss: 0.6931 - val_accuracy: 0.7759\n",
            "Epoch 6/15\n",
            "733/733 [==============================] - 3s 4ms/step - loss: 0.6931 - accuracy: 0.4881 - val_loss: 0.6931 - val_accuracy: 0.5634\n",
            "Epoch 7/15\n",
            "733/733 [==============================] - 3s 3ms/step - loss: 0.6931 - accuracy: 0.5000 - val_loss: 0.6931 - val_accuracy: 0.2219\n",
            "Epoch 8/15\n",
            "733/733 [==============================] - 3s 3ms/step - loss: 0.6931 - accuracy: 0.5030 - val_loss: 0.6931 - val_accuracy: 0.6221\n",
            "Epoch 9/15\n",
            "733/733 [==============================] - 3s 3ms/step - loss: 0.6931 - accuracy: 0.4983 - val_loss: 0.6931 - val_accuracy: 0.2242\n",
            "Epoch 10/15\n",
            "733/733 [==============================] - 3s 3ms/step - loss: 0.6931 - accuracy: 0.5037 - val_loss: 0.6931 - val_accuracy: 0.5830\n",
            "Epoch 11/15\n",
            "733/733 [==============================] - 2s 3ms/step - loss: 0.6931 - accuracy: 0.4985 - val_loss: 0.6931 - val_accuracy: 0.2249\n",
            "Epoch 12/15\n",
            "733/733 [==============================] - 2s 3ms/step - loss: 0.6931 - accuracy: 0.4959 - val_loss: 0.6931 - val_accuracy: 0.5109\n",
            "Epoch 13/15\n",
            "733/733 [==============================] - 3s 3ms/step - loss: 0.6931 - accuracy: 0.5019 - val_loss: 0.6931 - val_accuracy: 0.2242\n",
            "Epoch 14/15\n",
            "733/733 [==============================] - 2s 3ms/step - loss: 0.6931 - accuracy: 0.4986 - val_loss: 0.6931 - val_accuracy: 0.7074\n",
            "Epoch 15/15\n",
            "733/733 [==============================] - 2s 3ms/step - loss: 0.6931 - accuracy: 0.4985 - val_loss: 0.6931 - val_accuracy: 0.7758\n",
            "Epoch 1/15\n",
            "733/733 [==============================] - 3s 4ms/step - loss: 0.6944 - accuracy: 0.5115 - val_loss: 0.6931 - val_accuracy: 0.2280\n",
            "Epoch 2/15\n",
            "733/733 [==============================] - 3s 3ms/step - loss: 0.6931 - accuracy: 0.5057 - val_loss: 0.6931 - val_accuracy: 0.7756\n",
            "Epoch 3/15\n",
            "733/733 [==============================] - 3s 3ms/step - loss: 0.6931 - accuracy: 0.4984 - val_loss: 0.6931 - val_accuracy: 0.2810\n",
            "Epoch 4/15\n",
            "733/733 [==============================] - 2s 3ms/step - loss: 0.6931 - accuracy: 0.4926 - val_loss: 0.6931 - val_accuracy: 0.2242\n",
            "Epoch 5/15\n",
            "733/733 [==============================] - 3s 4ms/step - loss: 0.6931 - accuracy: 0.4950 - val_loss: 0.6931 - val_accuracy: 0.7747\n",
            "Epoch 6/15\n",
            "733/733 [==============================] - 3s 3ms/step - loss: 0.6931 - accuracy: 0.4967 - val_loss: 0.6931 - val_accuracy: 0.7749\n",
            "Epoch 7/15\n",
            "733/733 [==============================] - 3s 3ms/step - loss: 0.6931 - accuracy: 0.4954 - val_loss: 0.6931 - val_accuracy: 0.7758\n",
            "Epoch 8/15\n",
            "733/733 [==============================] - 2s 3ms/step - loss: 0.6931 - accuracy: 0.4980 - val_loss: 0.6931 - val_accuracy: 0.2242\n",
            "Epoch 9/15\n",
            "733/733 [==============================] - 3s 4ms/step - loss: 0.6931 - accuracy: 0.5403 - val_loss: 0.6931 - val_accuracy: 0.7258\n",
            "Epoch 10/15\n",
            "733/733 [==============================] - 3s 4ms/step - loss: 0.6931 - accuracy: 0.6037 - val_loss: 0.6931 - val_accuracy: 0.2242\n",
            "Epoch 11/15\n",
            "733/733 [==============================] - 3s 4ms/step - loss: 0.6931 - accuracy: 0.5809 - val_loss: 0.6931 - val_accuracy: 0.2242\n",
            "Epoch 12/15\n",
            "733/733 [==============================] - 3s 3ms/step - loss: 0.6931 - accuracy: 0.5494 - val_loss: 0.6931 - val_accuracy: 0.7734\n",
            "Epoch 13/15\n",
            "733/733 [==============================] - 3s 4ms/step - loss: 0.6931 - accuracy: 0.5145 - val_loss: 0.6931 - val_accuracy: 0.7758\n",
            "Epoch 14/15\n",
            "733/733 [==============================] - 3s 3ms/step - loss: 0.6931 - accuracy: 0.5034 - val_loss: 0.6931 - val_accuracy: 0.7758\n",
            "Epoch 15/15\n",
            "733/733 [==============================] - 3s 3ms/step - loss: 0.6931 - accuracy: 0.5005 - val_loss: 0.6931 - val_accuracy: 0.7758\n",
            "Epoch 1/15\n",
            "733/733 [==============================] - 3s 4ms/step - loss: 0.6945 - accuracy: 0.4659 - val_loss: 0.6931 - val_accuracy: 0.2602\n",
            "Epoch 2/15\n",
            "733/733 [==============================] - 3s 3ms/step - loss: 0.6931 - accuracy: 0.4932 - val_loss: 0.6931 - val_accuracy: 0.2242\n",
            "Epoch 3/15\n",
            "733/733 [==============================] - 3s 3ms/step - loss: 0.6931 - accuracy: 0.4982 - val_loss: 0.6931 - val_accuracy: 0.2244\n",
            "Epoch 4/15\n",
            "733/733 [==============================] - 3s 4ms/step - loss: 0.6931 - accuracy: 0.4985 - val_loss: 0.6931 - val_accuracy: 0.2265\n",
            "Epoch 5/15\n",
            "733/733 [==============================] - 3s 4ms/step - loss: 0.6931 - accuracy: 0.4986 - val_loss: 0.6931 - val_accuracy: 0.7758\n",
            "Epoch 6/15\n",
            "733/733 [==============================] - 3s 4ms/step - loss: 0.6931 - accuracy: 0.5049 - val_loss: 0.6931 - val_accuracy: 0.5767\n",
            "Epoch 7/15\n",
            "733/733 [==============================] - 3s 3ms/step - loss: 0.6931 - accuracy: 0.5151 - val_loss: 0.6931 - val_accuracy: 0.3796\n",
            "Epoch 8/15\n",
            "733/733 [==============================] - 2s 3ms/step - loss: 0.6931 - accuracy: 0.5052 - val_loss: 0.6931 - val_accuracy: 0.7758\n",
            "Epoch 9/15\n",
            "733/733 [==============================] - 3s 3ms/step - loss: 0.6931 - accuracy: 0.4973 - val_loss: 0.6931 - val_accuracy: 0.2242\n",
            "Epoch 10/15\n",
            "733/733 [==============================] - 3s 3ms/step - loss: 0.6931 - accuracy: 0.4929 - val_loss: 0.6931 - val_accuracy: 0.4067\n",
            "Epoch 11/15\n",
            "733/733 [==============================] - 3s 3ms/step - loss: 0.6931 - accuracy: 0.5039 - val_loss: 0.6931 - val_accuracy: 0.2242\n",
            "Epoch 12/15\n",
            "733/733 [==============================] - 3s 3ms/step - loss: 0.6931 - accuracy: 0.4969 - val_loss: 0.6931 - val_accuracy: 0.2242\n",
            "Epoch 13/15\n",
            "733/733 [==============================] - 3s 3ms/step - loss: 0.6931 - accuracy: 0.5046 - val_loss: 0.6931 - val_accuracy: 0.2242\n",
            "Epoch 14/15\n",
            "733/733 [==============================] - 3s 4ms/step - loss: 0.6931 - accuracy: 0.4983 - val_loss: 0.6931 - val_accuracy: 0.7758\n",
            "Epoch 15/15\n",
            "733/733 [==============================] - 3s 3ms/step - loss: 0.6931 - accuracy: 0.5001 - val_loss: 0.6931 - val_accuracy: 0.2242\n"
          ],
          "name": "stdout"
        },
        {
          "output_type": "display_data",
          "data": {
            "text/html": [
              "<span style=\"color:#4527A0\"><h1 style=\"font-size:18px\">Trial complete</h1></span>"
            ],
            "text/plain": [
              "<IPython.core.display.HTML object>"
            ]
          },
          "metadata": {
            "tags": []
          }
        },
        {
          "output_type": "display_data",
          "data": {
            "text/html": [
              "<span style=\"color:#4527A0\"><h1 style=\"font-size:18px\">Trial summary</h1></span>"
            ],
            "text/plain": [
              "<IPython.core.display.HTML object>"
            ]
          },
          "metadata": {
            "tags": []
          }
        },
        {
          "output_type": "display_data",
          "data": {
            "text/html": [
              "<span style=\"color:cyan\"> |-Trial ID: d6910cda634e461cae852ba660ae54f3</span>"
            ],
            "text/plain": [
              "<IPython.core.display.HTML object>"
            ]
          },
          "metadata": {
            "tags": []
          }
        },
        {
          "output_type": "display_data",
          "data": {
            "text/html": [
              "<span style=\"color:cyan\"> |-Score: 0.7758640249570211</span>"
            ],
            "text/plain": [
              "<IPython.core.display.HTML object>"
            ]
          },
          "metadata": {
            "tags": []
          }
        },
        {
          "output_type": "display_data",
          "data": {
            "text/html": [
              "<span style=\"color:cyan\"> |-Best step: 0</span>"
            ],
            "text/plain": [
              "<IPython.core.display.HTML object>"
            ]
          },
          "metadata": {
            "tags": []
          }
        },
        {
          "output_type": "display_data",
          "data": {
            "text/html": [
              "<span style=\"color:#7E57C2\"><h2 style=\"font-size:16px\">Hyperparameters:</h2></span>"
            ],
            "text/plain": [
              "<IPython.core.display.HTML object>"
            ]
          },
          "metadata": {
            "tags": []
          }
        },
        {
          "output_type": "display_data",
          "data": {
            "text/html": [
              "<span style=\"color:cyan\"> |-learning_rate: 0.01</span>"
            ],
            "text/plain": [
              "<IPython.core.display.HTML object>"
            ]
          },
          "metadata": {
            "tags": []
          }
        },
        {
          "output_type": "display_data",
          "data": {
            "text/html": [
              "<span style=\"color:blue\"> |-num_layers: 5</span>"
            ],
            "text/plain": [
              "<IPython.core.display.HTML object>"
            ]
          },
          "metadata": {
            "tags": []
          }
        },
        {
          "output_type": "display_data",
          "data": {
            "text/html": [
              "<span style=\"color:cyan\"> |-units_0: 64</span>"
            ],
            "text/plain": [
              "<IPython.core.display.HTML object>"
            ]
          },
          "metadata": {
            "tags": []
          }
        },
        {
          "output_type": "display_data",
          "data": {
            "text/html": [
              "<span style=\"color:blue\"> |-units_1: 480</span>"
            ],
            "text/plain": [
              "<IPython.core.display.HTML object>"
            ]
          },
          "metadata": {
            "tags": []
          }
        },
        {
          "output_type": "display_data",
          "data": {
            "text/html": [
              "<span style=\"color:cyan\"> |-units_10: 288</span>"
            ],
            "text/plain": [
              "<IPython.core.display.HTML object>"
            ]
          },
          "metadata": {
            "tags": []
          }
        },
        {
          "output_type": "display_data",
          "data": {
            "text/html": [
              "<span style=\"color:blue\"> |-units_11: 416</span>"
            ],
            "text/plain": [
              "<IPython.core.display.HTML object>"
            ]
          },
          "metadata": {
            "tags": []
          }
        },
        {
          "output_type": "display_data",
          "data": {
            "text/html": [
              "<span style=\"color:cyan\"> |-units_12: 64</span>"
            ],
            "text/plain": [
              "<IPython.core.display.HTML object>"
            ]
          },
          "metadata": {
            "tags": []
          }
        },
        {
          "output_type": "display_data",
          "data": {
            "text/html": [
              "<span style=\"color:blue\"> |-units_13: 256</span>"
            ],
            "text/plain": [
              "<IPython.core.display.HTML object>"
            ]
          },
          "metadata": {
            "tags": []
          }
        },
        {
          "output_type": "display_data",
          "data": {
            "text/html": [
              "<span style=\"color:cyan\"> |-units_14: 96</span>"
            ],
            "text/plain": [
              "<IPython.core.display.HTML object>"
            ]
          },
          "metadata": {
            "tags": []
          }
        },
        {
          "output_type": "display_data",
          "data": {
            "text/html": [
              "<span style=\"color:blue\"> |-units_15: 320</span>"
            ],
            "text/plain": [
              "<IPython.core.display.HTML object>"
            ]
          },
          "metadata": {
            "tags": []
          }
        },
        {
          "output_type": "display_data",
          "data": {
            "text/html": [
              "<span style=\"color:cyan\"> |-units_2: 256</span>"
            ],
            "text/plain": [
              "<IPython.core.display.HTML object>"
            ]
          },
          "metadata": {
            "tags": []
          }
        },
        {
          "output_type": "display_data",
          "data": {
            "text/html": [
              "<span style=\"color:blue\"> |-units_3: 288</span>"
            ],
            "text/plain": [
              "<IPython.core.display.HTML object>"
            ]
          },
          "metadata": {
            "tags": []
          }
        },
        {
          "output_type": "display_data",
          "data": {
            "text/html": [
              "<span style=\"color:cyan\"> |-units_4: 256</span>"
            ],
            "text/plain": [
              "<IPython.core.display.HTML object>"
            ]
          },
          "metadata": {
            "tags": []
          }
        },
        {
          "output_type": "display_data",
          "data": {
            "text/html": [
              "<span style=\"color:blue\"> |-units_5: 160</span>"
            ],
            "text/plain": [
              "<IPython.core.display.HTML object>"
            ]
          },
          "metadata": {
            "tags": []
          }
        },
        {
          "output_type": "display_data",
          "data": {
            "text/html": [
              "<span style=\"color:cyan\"> |-units_6: 32</span>"
            ],
            "text/plain": [
              "<IPython.core.display.HTML object>"
            ]
          },
          "metadata": {
            "tags": []
          }
        },
        {
          "output_type": "display_data",
          "data": {
            "text/html": [
              "<span style=\"color:blue\"> |-units_7: 192</span>"
            ],
            "text/plain": [
              "<IPython.core.display.HTML object>"
            ]
          },
          "metadata": {
            "tags": []
          }
        },
        {
          "output_type": "display_data",
          "data": {
            "text/html": [
              "<span style=\"color:cyan\"> |-units_8: 128</span>"
            ],
            "text/plain": [
              "<IPython.core.display.HTML object>"
            ]
          },
          "metadata": {
            "tags": []
          }
        },
        {
          "output_type": "display_data",
          "data": {
            "text/html": [
              "<span style=\"color:blue\"> |-units_9: 256</span>"
            ],
            "text/plain": [
              "<IPython.core.display.HTML object>"
            ]
          },
          "metadata": {
            "tags": []
          }
        },
        {
          "output_type": "display_data",
          "data": {
            "text/html": [
              "<span style=\"color:#4527A0\"><h1 style=\"font-size:18px\">Starting new trial</h1></span>"
            ],
            "text/plain": [
              "<IPython.core.display.HTML object>"
            ]
          },
          "metadata": {
            "tags": []
          }
        },
        {
          "output_type": "stream",
          "text": [
            "Epoch 1/15\n",
            "733/733 [==============================] - 3s 4ms/step - loss: 0.6933 - accuracy: 0.4933 - val_loss: 0.6931 - val_accuracy: 0.6965\n",
            "Epoch 2/15\n",
            "733/733 [==============================] - 3s 4ms/step - loss: 0.6931 - accuracy: 0.4934 - val_loss: 0.6931 - val_accuracy: 0.2246\n",
            "Epoch 3/15\n",
            "733/733 [==============================] - 3s 4ms/step - loss: 0.6931 - accuracy: 0.5005 - val_loss: 0.6931 - val_accuracy: 0.7619\n",
            "Epoch 4/15\n",
            "733/733 [==============================] - 3s 4ms/step - loss: 0.6931 - accuracy: 0.4923 - val_loss: 0.6931 - val_accuracy: 0.2242\n",
            "Epoch 5/15\n",
            "733/733 [==============================] - 3s 4ms/step - loss: 0.6931 - accuracy: 0.5013 - val_loss: 0.6931 - val_accuracy: 0.2242\n",
            "Epoch 6/15\n",
            "733/733 [==============================] - 3s 4ms/step - loss: 0.6934 - accuracy: 0.5082 - val_loss: 0.6931 - val_accuracy: 0.4297\n",
            "Epoch 7/15\n",
            "733/733 [==============================] - 3s 4ms/step - loss: 0.6931 - accuracy: 0.5300 - val_loss: 0.6931 - val_accuracy: 0.5790\n",
            "Epoch 8/15\n",
            "733/733 [==============================] - 3s 4ms/step - loss: 0.6931 - accuracy: 0.5260 - val_loss: 0.6931 - val_accuracy: 0.2306\n",
            "Epoch 9/15\n",
            "733/733 [==============================] - 3s 4ms/step - loss: 0.6931 - accuracy: 0.5151 - val_loss: 0.6931 - val_accuracy: 0.2432\n",
            "Epoch 10/15\n",
            "733/733 [==============================] - 3s 4ms/step - loss: 0.6931 - accuracy: 0.5126 - val_loss: 0.6931 - val_accuracy: 0.2693\n",
            "Epoch 11/15\n",
            "733/733 [==============================] - 3s 4ms/step - loss: 0.6931 - accuracy: 0.5085 - val_loss: 0.6931 - val_accuracy: 0.2249\n",
            "Epoch 12/15\n",
            "733/733 [==============================] - 3s 4ms/step - loss: 0.6931 - accuracy: 0.5054 - val_loss: 0.6931 - val_accuracy: 0.2271\n",
            "Epoch 13/15\n",
            "733/733 [==============================] - 3s 4ms/step - loss: 0.6931 - accuracy: 0.5042 - val_loss: 0.6931 - val_accuracy: 0.7758\n",
            "Epoch 14/15\n",
            "733/733 [==============================] - 3s 4ms/step - loss: 0.6931 - accuracy: 0.5064 - val_loss: 0.6931 - val_accuracy: 0.4780\n",
            "Epoch 15/15\n",
            "733/733 [==============================] - 3s 4ms/step - loss: 0.6931 - accuracy: 0.5047 - val_loss: 0.6931 - val_accuracy: 0.2242\n",
            "Epoch 1/15\n",
            "733/733 [==============================] - 3s 4ms/step - loss: 0.6932 - accuracy: 0.5027 - val_loss: 0.6931 - val_accuracy: 0.7447\n",
            "Epoch 2/15\n",
            "733/733 [==============================] - 3s 4ms/step - loss: 0.6931 - accuracy: 0.4985 - val_loss: 0.6931 - val_accuracy: 0.7758\n",
            "Epoch 3/15\n",
            "733/733 [==============================] - 3s 4ms/step - loss: 0.6931 - accuracy: 0.5129 - val_loss: 0.6931 - val_accuracy: 0.2242\n",
            "Epoch 4/15\n",
            "733/733 [==============================] - 3s 4ms/step - loss: 0.6931 - accuracy: 0.4982 - val_loss: 0.6931 - val_accuracy: 0.7740\n",
            "Epoch 5/15\n",
            "733/733 [==============================] - 3s 4ms/step - loss: 0.6931 - accuracy: 0.4922 - val_loss: 0.6931 - val_accuracy: 0.7758\n",
            "Epoch 6/15\n",
            "733/733 [==============================] - 3s 4ms/step - loss: 0.6937 - accuracy: 0.4855 - val_loss: 0.6931 - val_accuracy: 0.3121\n",
            "Epoch 7/15\n",
            "733/733 [==============================] - 3s 4ms/step - loss: 0.6931 - accuracy: 0.4806 - val_loss: 0.6931 - val_accuracy: 0.3436\n",
            "Epoch 8/15\n",
            "733/733 [==============================] - 3s 4ms/step - loss: 0.6931 - accuracy: 0.4887 - val_loss: 0.6931 - val_accuracy: 0.7746\n",
            "Epoch 9/15\n",
            "733/733 [==============================] - 3s 4ms/step - loss: 0.6931 - accuracy: 0.5040 - val_loss: 0.6931 - val_accuracy: 0.2242\n",
            "Epoch 10/15\n",
            "733/733 [==============================] - 3s 4ms/step - loss: 0.6931 - accuracy: 0.5033 - val_loss: 0.6931 - val_accuracy: 0.4915\n",
            "Epoch 11/15\n",
            "733/733 [==============================] - 3s 4ms/step - loss: 0.6931 - accuracy: 0.5059 - val_loss: 0.6931 - val_accuracy: 0.2246\n",
            "Epoch 12/15\n",
            "733/733 [==============================] - 3s 4ms/step - loss: 0.6931 - accuracy: 0.5027 - val_loss: 0.6931 - val_accuracy: 0.7758\n",
            "Epoch 13/15\n",
            "733/733 [==============================] - 3s 4ms/step - loss: 0.6931 - accuracy: 0.4923 - val_loss: 0.6931 - val_accuracy: 0.7758\n",
            "Epoch 14/15\n",
            "733/733 [==============================] - 3s 4ms/step - loss: 0.6931 - accuracy: 0.4995 - val_loss: 0.6931 - val_accuracy: 0.2242\n",
            "Epoch 15/15\n",
            "733/733 [==============================] - 3s 4ms/step - loss: 0.6931 - accuracy: 0.4984 - val_loss: 0.6931 - val_accuracy: 0.3293\n",
            "Epoch 1/15\n",
            "733/733 [==============================] - 3s 4ms/step - loss: 0.6938 - accuracy: 0.4762 - val_loss: 0.6931 - val_accuracy: 0.2462\n",
            "Epoch 2/15\n",
            "733/733 [==============================] - 3s 4ms/step - loss: 0.6931 - accuracy: 0.4972 - val_loss: 0.6931 - val_accuracy: 0.7758\n",
            "Epoch 3/15\n",
            "733/733 [==============================] - 3s 4ms/step - loss: 0.6931 - accuracy: 0.4968 - val_loss: 0.6931 - val_accuracy: 0.2242\n",
            "Epoch 4/15\n",
            "733/733 [==============================] - 3s 4ms/step - loss: 0.6931 - accuracy: 0.5660 - val_loss: 0.6931 - val_accuracy: 0.2242\n",
            "Epoch 5/15\n",
            "733/733 [==============================] - 3s 4ms/step - loss: 0.6931 - accuracy: 0.5102 - val_loss: 0.6931 - val_accuracy: 0.7758\n",
            "Epoch 6/15\n",
            "733/733 [==============================] - 3s 4ms/step - loss: 0.6931 - accuracy: 0.4987 - val_loss: 0.6931 - val_accuracy: 0.7758\n",
            "Epoch 7/15\n",
            "733/733 [==============================] - 3s 4ms/step - loss: 0.6931 - accuracy: 0.5093 - val_loss: 0.6931 - val_accuracy: 0.2242\n",
            "Epoch 8/15\n",
            "733/733 [==============================] - 3s 4ms/step - loss: 0.6931 - accuracy: 0.5037 - val_loss: 0.6931 - val_accuracy: 0.2242\n",
            "Epoch 9/15\n",
            "733/733 [==============================] - 3s 4ms/step - loss: 0.6931 - accuracy: 0.5077 - val_loss: 0.6931 - val_accuracy: 0.7758\n",
            "Epoch 10/15\n",
            "733/733 [==============================] - 3s 4ms/step - loss: 0.6931 - accuracy: 0.6312 - val_loss: 0.6931 - val_accuracy: 0.7758\n",
            "Epoch 11/15\n",
            "733/733 [==============================] - 3s 4ms/step - loss: 0.6931 - accuracy: 0.7781 - val_loss: 0.6931 - val_accuracy: 0.7758\n",
            "Epoch 12/15\n",
            "733/733 [==============================] - 3s 4ms/step - loss: 0.6931 - accuracy: 0.7781 - val_loss: 0.6931 - val_accuracy: 0.7758\n",
            "Epoch 13/15\n",
            "733/733 [==============================] - 3s 4ms/step - loss: 0.6931 - accuracy: 0.7781 - val_loss: 0.6931 - val_accuracy: 0.7758\n",
            "Epoch 14/15\n",
            "733/733 [==============================] - 3s 4ms/step - loss: 0.6931 - accuracy: 0.7781 - val_loss: 0.6931 - val_accuracy: 0.7758\n",
            "Epoch 15/15\n",
            "733/733 [==============================] - 3s 4ms/step - loss: 0.6931 - accuracy: 0.7781 - val_loss: 0.6931 - val_accuracy: 0.7758\n"
          ],
          "name": "stdout"
        },
        {
          "output_type": "display_data",
          "data": {
            "text/html": [
              "<span style=\"color:#4527A0\"><h1 style=\"font-size:18px\">Trial complete</h1></span>"
            ],
            "text/plain": [
              "<IPython.core.display.HTML object>"
            ]
          },
          "metadata": {
            "tags": []
          }
        },
        {
          "output_type": "display_data",
          "data": {
            "text/html": [
              "<span style=\"color:#4527A0\"><h1 style=\"font-size:18px\">Trial summary</h1></span>"
            ],
            "text/plain": [
              "<IPython.core.display.HTML object>"
            ]
          },
          "metadata": {
            "tags": []
          }
        },
        {
          "output_type": "display_data",
          "data": {
            "text/html": [
              "<span style=\"color:cyan\"> |-Trial ID: 1309b13f3db0f2d6a7ba8fd4614da3c1</span>"
            ],
            "text/plain": [
              "<IPython.core.display.HTML object>"
            ]
          },
          "metadata": {
            "tags": []
          }
        },
        {
          "output_type": "display_data",
          "data": {
            "text/html": [
              "<span style=\"color:cyan\"> |-Score: 0.7757503390312195</span>"
            ],
            "text/plain": [
              "<IPython.core.display.HTML object>"
            ]
          },
          "metadata": {
            "tags": []
          }
        },
        {
          "output_type": "display_data",
          "data": {
            "text/html": [
              "<span style=\"color:cyan\"> |-Best step: 0</span>"
            ],
            "text/plain": [
              "<IPython.core.display.HTML object>"
            ]
          },
          "metadata": {
            "tags": []
          }
        },
        {
          "output_type": "display_data",
          "data": {
            "text/html": [
              "<span style=\"color:#7E57C2\"><h2 style=\"font-size:16px\">Hyperparameters:</h2></span>"
            ],
            "text/plain": [
              "<IPython.core.display.HTML object>"
            ]
          },
          "metadata": {
            "tags": []
          }
        },
        {
          "output_type": "display_data",
          "data": {
            "text/html": [
              "<span style=\"color:cyan\"> |-learning_rate: 0.01</span>"
            ],
            "text/plain": [
              "<IPython.core.display.HTML object>"
            ]
          },
          "metadata": {
            "tags": []
          }
        },
        {
          "output_type": "display_data",
          "data": {
            "text/html": [
              "<span style=\"color:blue\"> |-num_layers: 8</span>"
            ],
            "text/plain": [
              "<IPython.core.display.HTML object>"
            ]
          },
          "metadata": {
            "tags": []
          }
        },
        {
          "output_type": "display_data",
          "data": {
            "text/html": [
              "<span style=\"color:cyan\"> |-units_0: 320</span>"
            ],
            "text/plain": [
              "<IPython.core.display.HTML object>"
            ]
          },
          "metadata": {
            "tags": []
          }
        },
        {
          "output_type": "display_data",
          "data": {
            "text/html": [
              "<span style=\"color:blue\"> |-units_1: 288</span>"
            ],
            "text/plain": [
              "<IPython.core.display.HTML object>"
            ]
          },
          "metadata": {
            "tags": []
          }
        },
        {
          "output_type": "display_data",
          "data": {
            "text/html": [
              "<span style=\"color:cyan\"> |-units_10: 192</span>"
            ],
            "text/plain": [
              "<IPython.core.display.HTML object>"
            ]
          },
          "metadata": {
            "tags": []
          }
        },
        {
          "output_type": "display_data",
          "data": {
            "text/html": [
              "<span style=\"color:blue\"> |-units_11: 128</span>"
            ],
            "text/plain": [
              "<IPython.core.display.HTML object>"
            ]
          },
          "metadata": {
            "tags": []
          }
        },
        {
          "output_type": "display_data",
          "data": {
            "text/html": [
              "<span style=\"color:cyan\"> |-units_12: 320</span>"
            ],
            "text/plain": [
              "<IPython.core.display.HTML object>"
            ]
          },
          "metadata": {
            "tags": []
          }
        },
        {
          "output_type": "display_data",
          "data": {
            "text/html": [
              "<span style=\"color:blue\"> |-units_13: 32</span>"
            ],
            "text/plain": [
              "<IPython.core.display.HTML object>"
            ]
          },
          "metadata": {
            "tags": []
          }
        },
        {
          "output_type": "display_data",
          "data": {
            "text/html": [
              "<span style=\"color:cyan\"> |-units_14: 96</span>"
            ],
            "text/plain": [
              "<IPython.core.display.HTML object>"
            ]
          },
          "metadata": {
            "tags": []
          }
        },
        {
          "output_type": "display_data",
          "data": {
            "text/html": [
              "<span style=\"color:blue\"> |-units_15: 128</span>"
            ],
            "text/plain": [
              "<IPython.core.display.HTML object>"
            ]
          },
          "metadata": {
            "tags": []
          }
        },
        {
          "output_type": "display_data",
          "data": {
            "text/html": [
              "<span style=\"color:cyan\"> |-units_2: 128</span>"
            ],
            "text/plain": [
              "<IPython.core.display.HTML object>"
            ]
          },
          "metadata": {
            "tags": []
          }
        },
        {
          "output_type": "display_data",
          "data": {
            "text/html": [
              "<span style=\"color:blue\"> |-units_3: 128</span>"
            ],
            "text/plain": [
              "<IPython.core.display.HTML object>"
            ]
          },
          "metadata": {
            "tags": []
          }
        },
        {
          "output_type": "display_data",
          "data": {
            "text/html": [
              "<span style=\"color:cyan\"> |-units_4: 384</span>"
            ],
            "text/plain": [
              "<IPython.core.display.HTML object>"
            ]
          },
          "metadata": {
            "tags": []
          }
        },
        {
          "output_type": "display_data",
          "data": {
            "text/html": [
              "<span style=\"color:blue\"> |-units_5: 160</span>"
            ],
            "text/plain": [
              "<IPython.core.display.HTML object>"
            ]
          },
          "metadata": {
            "tags": []
          }
        },
        {
          "output_type": "display_data",
          "data": {
            "text/html": [
              "<span style=\"color:cyan\"> |-units_6: 320</span>"
            ],
            "text/plain": [
              "<IPython.core.display.HTML object>"
            ]
          },
          "metadata": {
            "tags": []
          }
        },
        {
          "output_type": "display_data",
          "data": {
            "text/html": [
              "<span style=\"color:blue\"> |-units_7: 320</span>"
            ],
            "text/plain": [
              "<IPython.core.display.HTML object>"
            ]
          },
          "metadata": {
            "tags": []
          }
        },
        {
          "output_type": "display_data",
          "data": {
            "text/html": [
              "<span style=\"color:cyan\"> |-units_8: 128</span>"
            ],
            "text/plain": [
              "<IPython.core.display.HTML object>"
            ]
          },
          "metadata": {
            "tags": []
          }
        },
        {
          "output_type": "display_data",
          "data": {
            "text/html": [
              "<span style=\"color:blue\"> |-units_9: 96</span>"
            ],
            "text/plain": [
              "<IPython.core.display.HTML object>"
            ]
          },
          "metadata": {
            "tags": []
          }
        },
        {
          "output_type": "display_data",
          "data": {
            "text/html": [
              "<span style=\"color:#4527A0\"><h1 style=\"font-size:18px\">Starting new trial</h1></span>"
            ],
            "text/plain": [
              "<IPython.core.display.HTML object>"
            ]
          },
          "metadata": {
            "tags": []
          }
        },
        {
          "output_type": "stream",
          "text": [
            "Epoch 1/15\n",
            "733/733 [==============================] - 3s 4ms/step - loss: 0.6931 - accuracy: 0.5038 - val_loss: 0.6931 - val_accuracy: 0.3053\n",
            "Epoch 2/15\n",
            "733/733 [==============================] - 3s 4ms/step - loss: 0.6931 - accuracy: 0.5031 - val_loss: 0.6931 - val_accuracy: 0.7145\n",
            "Epoch 3/15\n",
            "733/733 [==============================] - 3s 4ms/step - loss: 0.6931 - accuracy: 0.4917 - val_loss: 0.6931 - val_accuracy: 0.7768\n",
            "Epoch 4/15\n",
            "733/733 [==============================] - 3s 4ms/step - loss: 0.6931 - accuracy: 0.4943 - val_loss: 0.6931 - val_accuracy: 0.7746\n",
            "Epoch 5/15\n",
            "733/733 [==============================] - 3s 4ms/step - loss: 0.6931 - accuracy: 0.5008 - val_loss: 0.6931 - val_accuracy: 0.7717\n",
            "Epoch 6/15\n",
            "733/733 [==============================] - 3s 4ms/step - loss: 0.6931 - accuracy: 0.4967 - val_loss: 0.6931 - val_accuracy: 0.5312\n",
            "Epoch 7/15\n",
            "733/733 [==============================] - 3s 4ms/step - loss: 0.6931 - accuracy: 0.4927 - val_loss: 0.6931 - val_accuracy: 0.7754\n",
            "Epoch 8/15\n",
            "733/733 [==============================] - 3s 4ms/step - loss: 0.6931 - accuracy: 0.5022 - val_loss: 0.6931 - val_accuracy: 0.2258\n",
            "Epoch 9/15\n",
            "733/733 [==============================] - 3s 4ms/step - loss: 0.6931 - accuracy: 0.5024 - val_loss: 0.6931 - val_accuracy: 0.7659\n",
            "Epoch 10/15\n",
            "733/733 [==============================] - 3s 4ms/step - loss: 0.6931 - accuracy: 0.5024 - val_loss: 0.6931 - val_accuracy: 0.2244\n",
            "Epoch 11/15\n",
            "733/733 [==============================] - 3s 3ms/step - loss: 0.6931 - accuracy: 0.4991 - val_loss: 0.6931 - val_accuracy: 0.2248\n",
            "Epoch 12/15\n",
            "733/733 [==============================] - 3s 4ms/step - loss: 0.6931 - accuracy: 0.4966 - val_loss: 0.6931 - val_accuracy: 0.2246\n",
            "Epoch 13/15\n",
            "733/733 [==============================] - 3s 4ms/step - loss: 0.6931 - accuracy: 0.5047 - val_loss: 0.6931 - val_accuracy: 0.2242\n",
            "Epoch 14/15\n",
            "733/733 [==============================] - 3s 4ms/step - loss: 0.6931 - accuracy: 0.4940 - val_loss: 0.6931 - val_accuracy: 0.2253\n",
            "Epoch 15/15\n",
            "733/733 [==============================] - 3s 4ms/step - loss: 0.6931 - accuracy: 0.4994 - val_loss: 0.6931 - val_accuracy: 0.2244\n",
            "Epoch 1/15\n",
            "733/733 [==============================] - 3s 4ms/step - loss: 0.6931 - accuracy: 0.5019 - val_loss: 0.6931 - val_accuracy: 0.7220\n",
            "Epoch 2/15\n",
            "733/733 [==============================] - 3s 4ms/step - loss: 0.6931 - accuracy: 0.5020 - val_loss: 0.6931 - val_accuracy: 0.2786\n",
            "Epoch 3/15\n",
            "733/733 [==============================] - 3s 4ms/step - loss: 0.6931 - accuracy: 0.4973 - val_loss: 0.6931 - val_accuracy: 0.2280\n",
            "Epoch 4/15\n",
            "733/733 [==============================] - 3s 4ms/step - loss: 0.6931 - accuracy: 0.4982 - val_loss: 0.6931 - val_accuracy: 0.4231\n",
            "Epoch 5/15\n",
            "733/733 [==============================] - 3s 4ms/step - loss: 0.6931 - accuracy: 0.4991 - val_loss: 0.6931 - val_accuracy: 0.6963\n",
            "Epoch 6/15\n",
            "733/733 [==============================] - 3s 4ms/step - loss: 0.6931 - accuracy: 0.4995 - val_loss: 0.6931 - val_accuracy: 0.6293\n",
            "Epoch 7/15\n",
            "733/733 [==============================] - 3s 4ms/step - loss: 0.6931 - accuracy: 0.5006 - val_loss: 0.6931 - val_accuracy: 0.2321\n",
            "Epoch 8/15\n",
            "733/733 [==============================] - 3s 4ms/step - loss: 0.6931 - accuracy: 0.4928 - val_loss: 0.6931 - val_accuracy: 0.7758\n",
            "Epoch 9/15\n",
            "733/733 [==============================] - 3s 4ms/step - loss: 0.6931 - accuracy: 0.4961 - val_loss: 0.6931 - val_accuracy: 0.2248\n",
            "Epoch 10/15\n",
            "733/733 [==============================] - 3s 4ms/step - loss: 0.6931 - accuracy: 0.5031 - val_loss: 0.6931 - val_accuracy: 0.2248\n",
            "Epoch 11/15\n",
            "733/733 [==============================] - 3s 4ms/step - loss: 0.6931 - accuracy: 0.4998 - val_loss: 0.6931 - val_accuracy: 0.7715\n",
            "Epoch 12/15\n",
            "733/733 [==============================] - 3s 4ms/step - loss: 0.6931 - accuracy: 0.4988 - val_loss: 0.6931 - val_accuracy: 0.7739\n",
            "Epoch 13/15\n",
            "733/733 [==============================] - 3s 4ms/step - loss: 0.6931 - accuracy: 0.5037 - val_loss: 0.6931 - val_accuracy: 0.2246\n",
            "Epoch 14/15\n",
            "733/733 [==============================] - 3s 4ms/step - loss: 0.6931 - accuracy: 0.5002 - val_loss: 0.6931 - val_accuracy: 0.7751\n",
            "Epoch 15/15\n",
            "733/733 [==============================] - 3s 4ms/step - loss: 0.6931 - accuracy: 0.5035 - val_loss: 0.6931 - val_accuracy: 0.2248\n",
            "Epoch 1/15\n",
            "733/733 [==============================] - 3s 4ms/step - loss: 0.6931 - accuracy: 0.4897 - val_loss: 0.6931 - val_accuracy: 0.5481\n",
            "Epoch 2/15\n",
            "733/733 [==============================] - 3s 4ms/step - loss: 0.6931 - accuracy: 0.5001 - val_loss: 0.6931 - val_accuracy: 0.5924\n",
            "Epoch 3/15\n",
            "733/733 [==============================] - 3s 4ms/step - loss: 0.6931 - accuracy: 0.4986 - val_loss: 0.6931 - val_accuracy: 0.2345\n",
            "Epoch 4/15\n",
            "733/733 [==============================] - 3s 3ms/step - loss: 0.6931 - accuracy: 0.5003 - val_loss: 0.6931 - val_accuracy: 0.4108\n",
            "Epoch 5/15\n",
            "733/733 [==============================] - 3s 4ms/step - loss: 0.6931 - accuracy: 0.4922 - val_loss: 0.6931 - val_accuracy: 0.4604\n",
            "Epoch 6/15\n",
            "733/733 [==============================] - 3s 4ms/step - loss: 0.6931 - accuracy: 0.4972 - val_loss: 0.6931 - val_accuracy: 0.7722\n",
            "Epoch 7/15\n",
            "733/733 [==============================] - 3s 4ms/step - loss: 0.6931 - accuracy: 0.5003 - val_loss: 0.6931 - val_accuracy: 0.7089\n",
            "Epoch 8/15\n",
            "733/733 [==============================] - 3s 4ms/step - loss: 0.6931 - accuracy: 0.4981 - val_loss: 0.6931 - val_accuracy: 0.2246\n",
            "Epoch 9/15\n",
            "733/733 [==============================] - 3s 4ms/step - loss: 0.6931 - accuracy: 0.4992 - val_loss: 0.6931 - val_accuracy: 0.2478\n",
            "Epoch 10/15\n",
            "733/733 [==============================] - 3s 4ms/step - loss: 0.6931 - accuracy: 0.5072 - val_loss: 0.6931 - val_accuracy: 0.7727\n",
            "Epoch 11/15\n",
            "733/733 [==============================] - 3s 4ms/step - loss: 0.6931 - accuracy: 0.4990 - val_loss: 0.6931 - val_accuracy: 0.7662\n",
            "Epoch 12/15\n",
            "733/733 [==============================] - 3s 4ms/step - loss: 0.6931 - accuracy: 0.5085 - val_loss: 0.6931 - val_accuracy: 0.2253\n",
            "Epoch 13/15\n",
            "733/733 [==============================] - 3s 4ms/step - loss: 0.6931 - accuracy: 0.4992 - val_loss: 0.6931 - val_accuracy: 0.7752\n",
            "Epoch 14/15\n",
            "733/733 [==============================] - 3s 4ms/step - loss: 0.6931 - accuracy: 0.4907 - val_loss: 0.6931 - val_accuracy: 0.7756\n",
            "Epoch 15/15\n",
            "733/733 [==============================] - 3s 4ms/step - loss: 0.6931 - accuracy: 0.4994 - val_loss: 0.6931 - val_accuracy: 0.2246\n"
          ],
          "name": "stdout"
        },
        {
          "output_type": "display_data",
          "data": {
            "text/html": [
              "<span style=\"color:#4527A0\"><h1 style=\"font-size:18px\">Trial complete</h1></span>"
            ],
            "text/plain": [
              "<IPython.core.display.HTML object>"
            ]
          },
          "metadata": {
            "tags": []
          }
        },
        {
          "output_type": "display_data",
          "data": {
            "text/html": [
              "<span style=\"color:#4527A0\"><h1 style=\"font-size:18px\">Trial summary</h1></span>"
            ],
            "text/plain": [
              "<IPython.core.display.HTML object>"
            ]
          },
          "metadata": {
            "tags": []
          }
        },
        {
          "output_type": "display_data",
          "data": {
            "text/html": [
              "<span style=\"color:cyan\"> |-Trial ID: 3705a89839b4f52734133f827579a524</span>"
            ],
            "text/plain": [
              "<IPython.core.display.HTML object>"
            ]
          },
          "metadata": {
            "tags": []
          }
        },
        {
          "output_type": "display_data",
          "data": {
            "text/html": [
              "<span style=\"color:cyan\"> |-Score: 0.7760345538457235</span>"
            ],
            "text/plain": [
              "<IPython.core.display.HTML object>"
            ]
          },
          "metadata": {
            "tags": []
          }
        },
        {
          "output_type": "display_data",
          "data": {
            "text/html": [
              "<span style=\"color:cyan\"> |-Best step: 0</span>"
            ],
            "text/plain": [
              "<IPython.core.display.HTML object>"
            ]
          },
          "metadata": {
            "tags": []
          }
        },
        {
          "output_type": "display_data",
          "data": {
            "text/html": [
              "<span style=\"color:#7E57C2\"><h2 style=\"font-size:16px\">Hyperparameters:</h2></span>"
            ],
            "text/plain": [
              "<IPython.core.display.HTML object>"
            ]
          },
          "metadata": {
            "tags": []
          }
        },
        {
          "output_type": "display_data",
          "data": {
            "text/html": [
              "<span style=\"color:cyan\"> |-learning_rate: 0.001</span>"
            ],
            "text/plain": [
              "<IPython.core.display.HTML object>"
            ]
          },
          "metadata": {
            "tags": []
          }
        },
        {
          "output_type": "display_data",
          "data": {
            "text/html": [
              "<span style=\"color:blue\"> |-num_layers: 7</span>"
            ],
            "text/plain": [
              "<IPython.core.display.HTML object>"
            ]
          },
          "metadata": {
            "tags": []
          }
        },
        {
          "output_type": "display_data",
          "data": {
            "text/html": [
              "<span style=\"color:cyan\"> |-units_0: 320</span>"
            ],
            "text/plain": [
              "<IPython.core.display.HTML object>"
            ]
          },
          "metadata": {
            "tags": []
          }
        },
        {
          "output_type": "display_data",
          "data": {
            "text/html": [
              "<span style=\"color:blue\"> |-units_1: 320</span>"
            ],
            "text/plain": [
              "<IPython.core.display.HTML object>"
            ]
          },
          "metadata": {
            "tags": []
          }
        },
        {
          "output_type": "display_data",
          "data": {
            "text/html": [
              "<span style=\"color:cyan\"> |-units_10: 480</span>"
            ],
            "text/plain": [
              "<IPython.core.display.HTML object>"
            ]
          },
          "metadata": {
            "tags": []
          }
        },
        {
          "output_type": "display_data",
          "data": {
            "text/html": [
              "<span style=\"color:blue\"> |-units_11: 512</span>"
            ],
            "text/plain": [
              "<IPython.core.display.HTML object>"
            ]
          },
          "metadata": {
            "tags": []
          }
        },
        {
          "output_type": "display_data",
          "data": {
            "text/html": [
              "<span style=\"color:cyan\"> |-units_12: 256</span>"
            ],
            "text/plain": [
              "<IPython.core.display.HTML object>"
            ]
          },
          "metadata": {
            "tags": []
          }
        },
        {
          "output_type": "display_data",
          "data": {
            "text/html": [
              "<span style=\"color:blue\"> |-units_13: 96</span>"
            ],
            "text/plain": [
              "<IPython.core.display.HTML object>"
            ]
          },
          "metadata": {
            "tags": []
          }
        },
        {
          "output_type": "display_data",
          "data": {
            "text/html": [
              "<span style=\"color:cyan\"> |-units_14: 224</span>"
            ],
            "text/plain": [
              "<IPython.core.display.HTML object>"
            ]
          },
          "metadata": {
            "tags": []
          }
        },
        {
          "output_type": "display_data",
          "data": {
            "text/html": [
              "<span style=\"color:blue\"> |-units_15: 96</span>"
            ],
            "text/plain": [
              "<IPython.core.display.HTML object>"
            ]
          },
          "metadata": {
            "tags": []
          }
        },
        {
          "output_type": "display_data",
          "data": {
            "text/html": [
              "<span style=\"color:cyan\"> |-units_2: 96</span>"
            ],
            "text/plain": [
              "<IPython.core.display.HTML object>"
            ]
          },
          "metadata": {
            "tags": []
          }
        },
        {
          "output_type": "display_data",
          "data": {
            "text/html": [
              "<span style=\"color:blue\"> |-units_3: 288</span>"
            ],
            "text/plain": [
              "<IPython.core.display.HTML object>"
            ]
          },
          "metadata": {
            "tags": []
          }
        },
        {
          "output_type": "display_data",
          "data": {
            "text/html": [
              "<span style=\"color:cyan\"> |-units_4: 256</span>"
            ],
            "text/plain": [
              "<IPython.core.display.HTML object>"
            ]
          },
          "metadata": {
            "tags": []
          }
        },
        {
          "output_type": "display_data",
          "data": {
            "text/html": [
              "<span style=\"color:blue\"> |-units_5: 64</span>"
            ],
            "text/plain": [
              "<IPython.core.display.HTML object>"
            ]
          },
          "metadata": {
            "tags": []
          }
        },
        {
          "output_type": "display_data",
          "data": {
            "text/html": [
              "<span style=\"color:cyan\"> |-units_6: 416</span>"
            ],
            "text/plain": [
              "<IPython.core.display.HTML object>"
            ]
          },
          "metadata": {
            "tags": []
          }
        },
        {
          "output_type": "display_data",
          "data": {
            "text/html": [
              "<span style=\"color:blue\"> |-units_7: 384</span>"
            ],
            "text/plain": [
              "<IPython.core.display.HTML object>"
            ]
          },
          "metadata": {
            "tags": []
          }
        },
        {
          "output_type": "display_data",
          "data": {
            "text/html": [
              "<span style=\"color:cyan\"> |-units_8: 480</span>"
            ],
            "text/plain": [
              "<IPython.core.display.HTML object>"
            ]
          },
          "metadata": {
            "tags": []
          }
        },
        {
          "output_type": "display_data",
          "data": {
            "text/html": [
              "<span style=\"color:blue\"> |-units_9: 32</span>"
            ],
            "text/plain": [
              "<IPython.core.display.HTML object>"
            ]
          },
          "metadata": {
            "tags": []
          }
        },
        {
          "output_type": "display_data",
          "data": {
            "text/html": [
              "<span style=\"color:#4527A0\"><h1 style=\"font-size:18px\">Starting new trial</h1></span>"
            ],
            "text/plain": [
              "<IPython.core.display.HTML object>"
            ]
          },
          "metadata": {
            "tags": []
          }
        },
        {
          "output_type": "stream",
          "text": [
            "Epoch 1/15\n",
            "733/733 [==============================] - 3s 3ms/step - loss: 0.6932 - accuracy: 0.4977 - val_loss: 0.6931 - val_accuracy: 0.3404\n",
            "Epoch 2/15\n",
            "733/733 [==============================] - 2s 3ms/step - loss: 0.6931 - accuracy: 0.4976 - val_loss: 0.6931 - val_accuracy: 0.7019\n",
            "Epoch 3/15\n",
            "733/733 [==============================] - 2s 3ms/step - loss: 0.6931 - accuracy: 0.4988 - val_loss: 0.6931 - val_accuracy: 0.5032\n",
            "Epoch 4/15\n",
            "733/733 [==============================] - 2s 3ms/step - loss: 0.6931 - accuracy: 0.5020 - val_loss: 0.6931 - val_accuracy: 0.6356\n",
            "Epoch 5/15\n",
            "733/733 [==============================] - 2s 3ms/step - loss: 0.6931 - accuracy: 0.4987 - val_loss: 0.6931 - val_accuracy: 0.4533\n",
            "Epoch 6/15\n",
            "733/733 [==============================] - 2s 3ms/step - loss: 0.6931 - accuracy: 0.5031 - val_loss: 0.6931 - val_accuracy: 0.7493\n",
            "Epoch 7/15\n",
            "733/733 [==============================] - 3s 3ms/step - loss: 0.6931 - accuracy: 0.4974 - val_loss: 0.6931 - val_accuracy: 0.2473\n",
            "Epoch 8/15\n",
            "733/733 [==============================] - 2s 3ms/step - loss: 0.6931 - accuracy: 0.4968 - val_loss: 0.6931 - val_accuracy: 0.6554\n",
            "Epoch 9/15\n",
            "733/733 [==============================] - 2s 3ms/step - loss: 0.6931 - accuracy: 0.5042 - val_loss: 0.6931 - val_accuracy: 0.5981\n",
            "Epoch 10/15\n",
            "733/733 [==============================] - 2s 3ms/step - loss: 0.6931 - accuracy: 0.5020 - val_loss: 0.6931 - val_accuracy: 0.6709\n",
            "Epoch 11/15\n",
            "733/733 [==============================] - 2s 3ms/step - loss: 0.6931 - accuracy: 0.5049 - val_loss: 0.6931 - val_accuracy: 0.7237\n",
            "Epoch 12/15\n",
            "733/733 [==============================] - 2s 3ms/step - loss: 0.6931 - accuracy: 0.4968 - val_loss: 0.6931 - val_accuracy: 0.2838\n",
            "Epoch 13/15\n",
            "733/733 [==============================] - 2s 3ms/step - loss: 0.6931 - accuracy: 0.5043 - val_loss: 0.6931 - val_accuracy: 0.6281\n",
            "Epoch 14/15\n",
            "733/733 [==============================] - 2s 3ms/step - loss: 0.6931 - accuracy: 0.4942 - val_loss: 0.6931 - val_accuracy: 0.7749\n",
            "Epoch 15/15\n",
            "733/733 [==============================] - 2s 3ms/step - loss: 0.6931 - accuracy: 0.5017 - val_loss: 0.6931 - val_accuracy: 0.2358\n",
            "Epoch 1/15\n",
            "733/733 [==============================] - 2s 3ms/step - loss: 0.6932 - accuracy: 0.5025 - val_loss: 0.6931 - val_accuracy: 0.5068\n",
            "Epoch 2/15\n",
            "733/733 [==============================] - 2s 3ms/step - loss: 0.6931 - accuracy: 0.5003 - val_loss: 0.6931 - val_accuracy: 0.4591\n",
            "Epoch 3/15\n",
            "733/733 [==============================] - 2s 3ms/step - loss: 0.6931 - accuracy: 0.5049 - val_loss: 0.6931 - val_accuracy: 0.4287\n",
            "Epoch 4/15\n",
            "733/733 [==============================] - 2s 3ms/step - loss: 0.6931 - accuracy: 0.5057 - val_loss: 0.6931 - val_accuracy: 0.5078\n",
            "Epoch 5/15\n",
            "733/733 [==============================] - 2s 3ms/step - loss: 0.6931 - accuracy: 0.5047 - val_loss: 0.6931 - val_accuracy: 0.4538\n",
            "Epoch 6/15\n",
            "733/733 [==============================] - 2s 3ms/step - loss: 0.6931 - accuracy: 0.5056 - val_loss: 0.6931 - val_accuracy: 0.3506\n",
            "Epoch 7/15\n",
            "733/733 [==============================] - 2s 3ms/step - loss: 0.6931 - accuracy: 0.4987 - val_loss: 0.6931 - val_accuracy: 0.5162\n",
            "Epoch 8/15\n",
            "733/733 [==============================] - 2s 3ms/step - loss: 0.6931 - accuracy: 0.4978 - val_loss: 0.6931 - val_accuracy: 0.6194\n",
            "Epoch 9/15\n",
            "733/733 [==============================] - 2s 3ms/step - loss: 0.6931 - accuracy: 0.4973 - val_loss: 0.6931 - val_accuracy: 0.5873\n",
            "Epoch 10/15\n",
            "733/733 [==============================] - 2s 3ms/step - loss: 0.6931 - accuracy: 0.5002 - val_loss: 0.6931 - val_accuracy: 0.7154\n",
            "Epoch 11/15\n",
            "733/733 [==============================] - 2s 3ms/step - loss: 0.6931 - accuracy: 0.4977 - val_loss: 0.6931 - val_accuracy: 0.4707\n",
            "Epoch 12/15\n",
            "733/733 [==============================] - 2s 3ms/step - loss: 0.6931 - accuracy: 0.5002 - val_loss: 0.6931 - val_accuracy: 0.5423\n",
            "Epoch 13/15\n",
            "733/733 [==============================] - 2s 3ms/step - loss: 0.6931 - accuracy: 0.4988 - val_loss: 0.6931 - val_accuracy: 0.6199\n",
            "Epoch 14/15\n",
            "733/733 [==============================] - 2s 3ms/step - loss: 0.6931 - accuracy: 0.4973 - val_loss: 0.6931 - val_accuracy: 0.3590\n",
            "Epoch 15/15\n",
            "733/733 [==============================] - 2s 3ms/step - loss: 0.6931 - accuracy: 0.5037 - val_loss: 0.6931 - val_accuracy: 0.4076\n",
            "Epoch 1/15\n",
            "733/733 [==============================] - 2s 3ms/step - loss: 0.6932 - accuracy: 0.5099 - val_loss: 0.6931 - val_accuracy: 0.6189\n",
            "Epoch 2/15\n",
            "733/733 [==============================] - 2s 3ms/step - loss: 0.6931 - accuracy: 0.5011 - val_loss: 0.6931 - val_accuracy: 0.4627\n",
            "Epoch 3/15\n",
            "733/733 [==============================] - 2s 3ms/step - loss: 0.6931 - accuracy: 0.4954 - val_loss: 0.6931 - val_accuracy: 0.4760\n",
            "Epoch 4/15\n",
            "733/733 [==============================] - 2s 3ms/step - loss: 0.6931 - accuracy: 0.4978 - val_loss: 0.6931 - val_accuracy: 0.3371\n",
            "Epoch 5/15\n",
            "733/733 [==============================] - 2s 3ms/step - loss: 0.6931 - accuracy: 0.5037 - val_loss: 0.6931 - val_accuracy: 0.4337\n",
            "Epoch 6/15\n",
            "733/733 [==============================] - 2s 3ms/step - loss: 0.6931 - accuracy: 0.5006 - val_loss: 0.6931 - val_accuracy: 0.5095\n",
            "Epoch 7/15\n",
            "733/733 [==============================] - 2s 3ms/step - loss: 0.6931 - accuracy: 0.5004 - val_loss: 0.6931 - val_accuracy: 0.6439\n",
            "Epoch 8/15\n",
            "733/733 [==============================] - 2s 3ms/step - loss: 0.6931 - accuracy: 0.4979 - val_loss: 0.6931 - val_accuracy: 0.7248\n",
            "Epoch 9/15\n",
            "733/733 [==============================] - 2s 3ms/step - loss: 0.6931 - accuracy: 0.5033 - val_loss: 0.6931 - val_accuracy: 0.4872\n",
            "Epoch 10/15\n",
            "733/733 [==============================] - 2s 3ms/step - loss: 0.6931 - accuracy: 0.5000 - val_loss: 0.6931 - val_accuracy: 0.4347\n",
            "Epoch 11/15\n",
            "733/733 [==============================] - 2s 3ms/step - loss: 0.6931 - accuracy: 0.5035 - val_loss: 0.6931 - val_accuracy: 0.6438\n",
            "Epoch 12/15\n",
            "733/733 [==============================] - 2s 3ms/step - loss: 0.6931 - accuracy: 0.4985 - val_loss: 0.6931 - val_accuracy: 0.6189\n",
            "Epoch 13/15\n",
            "733/733 [==============================] - 2s 3ms/step - loss: 0.6931 - accuracy: 0.5009 - val_loss: 0.6931 - val_accuracy: 0.2318\n",
            "Epoch 14/15\n",
            "733/733 [==============================] - 2s 3ms/step - loss: 0.6931 - accuracy: 0.5012 - val_loss: 0.6931 - val_accuracy: 0.3373\n",
            "Epoch 15/15\n",
            "733/733 [==============================] - 2s 3ms/step - loss: 0.6931 - accuracy: 0.4996 - val_loss: 0.6931 - val_accuracy: 0.6774\n"
          ],
          "name": "stdout"
        },
        {
          "output_type": "display_data",
          "data": {
            "text/html": [
              "<span style=\"color:#4527A0\"><h1 style=\"font-size:18px\">Trial complete</h1></span>"
            ],
            "text/plain": [
              "<IPython.core.display.HTML object>"
            ]
          },
          "metadata": {
            "tags": []
          }
        },
        {
          "output_type": "display_data",
          "data": {
            "text/html": [
              "<span style=\"color:#4527A0\"><h1 style=\"font-size:18px\">Trial summary</h1></span>"
            ],
            "text/plain": [
              "<IPython.core.display.HTML object>"
            ]
          },
          "metadata": {
            "tags": []
          }
        },
        {
          "output_type": "display_data",
          "data": {
            "text/html": [
              "<span style=\"color:cyan\"> |-Trial ID: c38f62bb3001067de18723e13555af5a</span>"
            ],
            "text/plain": [
              "<IPython.core.display.HTML object>"
            ]
          },
          "metadata": {
            "tags": []
          }
        },
        {
          "output_type": "display_data",
          "data": {
            "text/html": [
              "<span style=\"color:cyan\"> |-Score: 0.7383469740549723</span>"
            ],
            "text/plain": [
              "<IPython.core.display.HTML object>"
            ]
          },
          "metadata": {
            "tags": []
          }
        },
        {
          "output_type": "display_data",
          "data": {
            "text/html": [
              "<span style=\"color:cyan\"> |-Best step: 0</span>"
            ],
            "text/plain": [
              "<IPython.core.display.HTML object>"
            ]
          },
          "metadata": {
            "tags": []
          }
        },
        {
          "output_type": "display_data",
          "data": {
            "text/html": [
              "<span style=\"color:#7E57C2\"><h2 style=\"font-size:16px\">Hyperparameters:</h2></span>"
            ],
            "text/plain": [
              "<IPython.core.display.HTML object>"
            ]
          },
          "metadata": {
            "tags": []
          }
        },
        {
          "output_type": "display_data",
          "data": {
            "text/html": [
              "<span style=\"color:cyan\"> |-learning_rate: 0.001</span>"
            ],
            "text/plain": [
              "<IPython.core.display.HTML object>"
            ]
          },
          "metadata": {
            "tags": []
          }
        },
        {
          "output_type": "display_data",
          "data": {
            "text/html": [
              "<span style=\"color:blue\"> |-num_layers: 3</span>"
            ],
            "text/plain": [
              "<IPython.core.display.HTML object>"
            ]
          },
          "metadata": {
            "tags": []
          }
        },
        {
          "output_type": "display_data",
          "data": {
            "text/html": [
              "<span style=\"color:cyan\"> |-units_0: 320</span>"
            ],
            "text/plain": [
              "<IPython.core.display.HTML object>"
            ]
          },
          "metadata": {
            "tags": []
          }
        },
        {
          "output_type": "display_data",
          "data": {
            "text/html": [
              "<span style=\"color:blue\"> |-units_1: 320</span>"
            ],
            "text/plain": [
              "<IPython.core.display.HTML object>"
            ]
          },
          "metadata": {
            "tags": []
          }
        },
        {
          "output_type": "display_data",
          "data": {
            "text/html": [
              "<span style=\"color:cyan\"> |-units_10: 96</span>"
            ],
            "text/plain": [
              "<IPython.core.display.HTML object>"
            ]
          },
          "metadata": {
            "tags": []
          }
        },
        {
          "output_type": "display_data",
          "data": {
            "text/html": [
              "<span style=\"color:blue\"> |-units_11: 256</span>"
            ],
            "text/plain": [
              "<IPython.core.display.HTML object>"
            ]
          },
          "metadata": {
            "tags": []
          }
        },
        {
          "output_type": "display_data",
          "data": {
            "text/html": [
              "<span style=\"color:cyan\"> |-units_12: 512</span>"
            ],
            "text/plain": [
              "<IPython.core.display.HTML object>"
            ]
          },
          "metadata": {
            "tags": []
          }
        },
        {
          "output_type": "display_data",
          "data": {
            "text/html": [
              "<span style=\"color:blue\"> |-units_13: 128</span>"
            ],
            "text/plain": [
              "<IPython.core.display.HTML object>"
            ]
          },
          "metadata": {
            "tags": []
          }
        },
        {
          "output_type": "display_data",
          "data": {
            "text/html": [
              "<span style=\"color:cyan\"> |-units_14: 224</span>"
            ],
            "text/plain": [
              "<IPython.core.display.HTML object>"
            ]
          },
          "metadata": {
            "tags": []
          }
        },
        {
          "output_type": "display_data",
          "data": {
            "text/html": [
              "<span style=\"color:blue\"> |-units_15: 416</span>"
            ],
            "text/plain": [
              "<IPython.core.display.HTML object>"
            ]
          },
          "metadata": {
            "tags": []
          }
        },
        {
          "output_type": "display_data",
          "data": {
            "text/html": [
              "<span style=\"color:cyan\"> |-units_2: 384</span>"
            ],
            "text/plain": [
              "<IPython.core.display.HTML object>"
            ]
          },
          "metadata": {
            "tags": []
          }
        },
        {
          "output_type": "display_data",
          "data": {
            "text/html": [
              "<span style=\"color:blue\"> |-units_3: 352</span>"
            ],
            "text/plain": [
              "<IPython.core.display.HTML object>"
            ]
          },
          "metadata": {
            "tags": []
          }
        },
        {
          "output_type": "display_data",
          "data": {
            "text/html": [
              "<span style=\"color:cyan\"> |-units_4: 288</span>"
            ],
            "text/plain": [
              "<IPython.core.display.HTML object>"
            ]
          },
          "metadata": {
            "tags": []
          }
        },
        {
          "output_type": "display_data",
          "data": {
            "text/html": [
              "<span style=\"color:blue\"> |-units_5: 96</span>"
            ],
            "text/plain": [
              "<IPython.core.display.HTML object>"
            ]
          },
          "metadata": {
            "tags": []
          }
        },
        {
          "output_type": "display_data",
          "data": {
            "text/html": [
              "<span style=\"color:cyan\"> |-units_6: 256</span>"
            ],
            "text/plain": [
              "<IPython.core.display.HTML object>"
            ]
          },
          "metadata": {
            "tags": []
          }
        },
        {
          "output_type": "display_data",
          "data": {
            "text/html": [
              "<span style=\"color:blue\"> |-units_7: 416</span>"
            ],
            "text/plain": [
              "<IPython.core.display.HTML object>"
            ]
          },
          "metadata": {
            "tags": []
          }
        },
        {
          "output_type": "display_data",
          "data": {
            "text/html": [
              "<span style=\"color:cyan\"> |-units_8: 256</span>"
            ],
            "text/plain": [
              "<IPython.core.display.HTML object>"
            ]
          },
          "metadata": {
            "tags": []
          }
        },
        {
          "output_type": "display_data",
          "data": {
            "text/html": [
              "<span style=\"color:blue\"> |-units_9: 224</span>"
            ],
            "text/plain": [
              "<IPython.core.display.HTML object>"
            ]
          },
          "metadata": {
            "tags": []
          }
        },
        {
          "output_type": "stream",
          "text": [
            "INFO:tensorflow:Oracle triggered exit\n"
          ],
          "name": "stdout"
        }
      ]
    },
    {
      "cell_type": "code",
      "metadata": {
        "colab": {
          "base_uri": "https://localhost:8080/"
        },
        "id": "fkNb1LAQvWeC",
        "outputId": "b6428b21-a5e5-4a9d-cabf-8e3e4157ee93"
      },
      "source": [
        "model = Sequential()\n",
        "model.add(Dense(320, input_dim=30,name=\"layer1\" ,activation='relu'))\n",
        "model.add(Dense(320, name=\"layer2\" , activation='relu'))\n",
        "model.add(Dense(224, name=\"layer15\" , activation='relu'))\n",
        "model.add(Dense(416, name=\"layer16\" , activation='relu'))\n",
        "model.add(Dense(1, name=\"layer19\" , activation='sigmoid'))\n",
        "\n",
        "model.summary()"
      ],
      "execution_count": 53,
      "outputs": [
        {
          "output_type": "stream",
          "text": [
            "Model: \"sequential_4\"\n",
            "_________________________________________________________________\n",
            "Layer (type)                 Output Shape              Param #   \n",
            "=================================================================\n",
            "layer1 (Dense)               (None, 320)               9920      \n",
            "_________________________________________________________________\n",
            "layer2 (Dense)               (None, 320)               102720    \n",
            "_________________________________________________________________\n",
            "layer15 (Dense)              (None, 224)               71904     \n",
            "_________________________________________________________________\n",
            "layer16 (Dense)              (None, 416)               93600     \n",
            "_________________________________________________________________\n",
            "layer19 (Dense)              (None, 1)                 417       \n",
            "=================================================================\n",
            "Total params: 278,561\n",
            "Trainable params: 278,561\n",
            "Non-trainable params: 0\n",
            "_________________________________________________________________\n"
          ],
          "name": "stdout"
        }
      ]
    },
    {
      "cell_type": "code",
      "metadata": {
        "colab": {
          "base_uri": "https://localhost:8080/"
        },
        "id": "Gel9MElFwMrk",
        "outputId": "366f5721-bdba-45c5-bbac-d110db115320"
      },
      "source": [
        "# compile the keras model\n",
        "model.compile(loss='binary_crossentropy',  optimizer='adam', metrics=['accuracy'] )\n",
        "# fit the keras model on the dataset\n",
        "model.fit(X_train, y_train, epochs=15, batch_size=10, validation_data = (X_test ,y_test) )"
      ],
      "execution_count": 54,
      "outputs": [
        {
          "output_type": "stream",
          "text": [
            "Epoch 1/15\n",
            "2346/2346 [==============================] - 7s 3ms/step - loss: 0.4736 - accuracy: 0.8057 - val_loss: 0.4510 - val_accuracy: 0.8153\n",
            "Epoch 2/15\n",
            "2346/2346 [==============================] - 7s 3ms/step - loss: 0.4549 - accuracy: 0.8126 - val_loss: 0.4419 - val_accuracy: 0.8196\n",
            "Epoch 3/15\n",
            "2346/2346 [==============================] - 8s 3ms/step - loss: 0.4494 - accuracy: 0.8141 - val_loss: 0.4372 - val_accuracy: 0.8197\n",
            "Epoch 4/15\n",
            "2346/2346 [==============================] - 7s 3ms/step - loss: 0.4456 - accuracy: 0.8169 - val_loss: 0.4389 - val_accuracy: 0.8187\n",
            "Epoch 5/15\n",
            "2346/2346 [==============================] - 7s 3ms/step - loss: 0.4426 - accuracy: 0.8169 - val_loss: 0.4379 - val_accuracy: 0.8220\n",
            "Epoch 6/15\n",
            "2346/2346 [==============================] - 7s 3ms/step - loss: 0.4411 - accuracy: 0.8184 - val_loss: 0.4377 - val_accuracy: 0.8209\n",
            "Epoch 7/15\n",
            "2346/2346 [==============================] - 7s 3ms/step - loss: 0.4383 - accuracy: 0.8187 - val_loss: 0.4424 - val_accuracy: 0.8153\n",
            "Epoch 8/15\n",
            "2346/2346 [==============================] - 8s 3ms/step - loss: 0.4374 - accuracy: 0.8177 - val_loss: 0.4351 - val_accuracy: 0.8233\n",
            "Epoch 9/15\n",
            "2346/2346 [==============================] - 7s 3ms/step - loss: 0.4360 - accuracy: 0.8195 - val_loss: 0.4342 - val_accuracy: 0.8215\n",
            "Epoch 10/15\n",
            "2346/2346 [==============================] - 7s 3ms/step - loss: 0.4365 - accuracy: 0.8186 - val_loss: 0.4312 - val_accuracy: 0.8225\n",
            "Epoch 11/15\n",
            "2346/2346 [==============================] - 8s 3ms/step - loss: 0.4338 - accuracy: 0.8203 - val_loss: 0.4388 - val_accuracy: 0.8138\n",
            "Epoch 12/15\n",
            "2346/2346 [==============================] - 7s 3ms/step - loss: 0.4331 - accuracy: 0.8202 - val_loss: 0.4334 - val_accuracy: 0.8218\n",
            "Epoch 13/15\n",
            "2346/2346 [==============================] - 7s 3ms/step - loss: 0.4318 - accuracy: 0.8211 - val_loss: 0.4406 - val_accuracy: 0.8157\n",
            "Epoch 14/15\n",
            "2346/2346 [==============================] - 7s 3ms/step - loss: 0.4312 - accuracy: 0.8221 - val_loss: 0.4322 - val_accuracy: 0.8203\n",
            "Epoch 15/15\n",
            "2346/2346 [==============================] - 7s 3ms/step - loss: 0.4311 - accuracy: 0.8218 - val_loss: 0.4348 - val_accuracy: 0.8180\n"
          ],
          "name": "stdout"
        },
        {
          "output_type": "execute_result",
          "data": {
            "text/plain": [
              "<tensorflow.python.keras.callbacks.History at 0x7f978a7914e0>"
            ]
          },
          "metadata": {
            "tags": []
          },
          "execution_count": 54
        }
      ]
    },
    {
      "cell_type": "code",
      "metadata": {
        "colab": {
          "base_uri": "https://localhost:8080/",
          "height": 624
        },
        "id": "o0KX5WiVxJXt",
        "outputId": "ecc4c477-c542-4992-dbbd-bedde1a033af"
      },
      "source": [
        "y_pred = model.predict(X_test)\n",
        "y_pred =(y_pred>0.5)\n",
        "list(y_pred)\n",
        "\n",
        "cm = confusion_matrix(y_test, y_pred)\n",
        "plt.figure(figsize=(10,10))\n",
        "plt.title(\" confusion matrix for deep learning \")\n",
        "sns.heatmap(cm , annot =True , fmt=\"0.1f\")"
      ],
      "execution_count": 55,
      "outputs": [
        {
          "output_type": "execute_result",
          "data": {
            "text/plain": [
              "<matplotlib.axes._subplots.AxesSubplot at 0x7f978a6570f0>"
            ]
          },
          "metadata": {
            "tags": []
          },
          "execution_count": 55
        },
        {
          "output_type": "display_data",
          "data": {
            "image/png": "[encoded data removed]",
            "text/plain": [
              "<Figure size 720x720 with 2 Axes>"
            ]
          },
          "metadata": {
            "tags": [],
            "needs_background": "light"
          }
        }
      ]
    },
    {
      "cell_type": "markdown",
      "metadata": {
        "id": "KEQ9ahlvwvi3"
      },
      "source": [
        "## handle implaned dataset "
      ]
    },
    {
      "cell_type": "code",
      "metadata": {
        "colab": {
          "base_uri": "https://localhost:8080/"
        },
        "id": "WQQ1fPSwwz0m",
        "outputId": "5e4d9536-d90c-4b29-c879-f7f10496378f"
      },
      "source": [
        "weights_assigned={0:1,1:400} ## 550 is refer to 550 times from 0\n",
        "model.fit(X_train,y_train,class_weight=weights_assigned,epochs=15,batch_size=10, validation_data = (X_test ,y_test),shuffle=True)\n"
      ],
      "execution_count": 57,
      "outputs": [
        {
          "output_type": "stream",
          "text": [
            "Epoch 1/15\n",
            "2346/2346 [==============================] - 9s 4ms/step - loss: 4.1876 - accuracy: 0.2283 - val_loss: 3.4575 - val_accuracy: 0.2304\n",
            "Epoch 2/15\n",
            "2346/2346 [==============================] - 9s 4ms/step - loss: 4.1188 - accuracy: 0.2256 - val_loss: 3.2429 - val_accuracy: 0.2277\n",
            "Epoch 3/15\n",
            "2346/2346 [==============================] - 9s 4ms/step - loss: 4.2440 - accuracy: 0.2254 - val_loss: 3.5058 - val_accuracy: 0.2261\n",
            "Epoch 4/15\n",
            "2346/2346 [==============================] - 9s 4ms/step - loss: 4.0733 - accuracy: 0.2265 - val_loss: 3.5971 - val_accuracy: 0.2260\n",
            "Epoch 5/15\n",
            "2346/2346 [==============================] - 9s 4ms/step - loss: 4.1120 - accuracy: 0.2254 - val_loss: 3.3889 - val_accuracy: 0.2270\n",
            "Epoch 6/15\n",
            "2346/2346 [==============================] - 9s 4ms/step - loss: 4.0478 - accuracy: 0.2257 - val_loss: 3.2461 - val_accuracy: 0.2271\n",
            "Epoch 7/15\n",
            "2346/2346 [==============================] - 9s 4ms/step - loss: 4.0577 - accuracy: 0.2250 - val_loss: 3.0697 - val_accuracy: 0.2275\n",
            "Epoch 8/15\n",
            "2346/2346 [==============================] - 9s 4ms/step - loss: 4.5233 - accuracy: 0.2286 - val_loss: 2.9603 - val_accuracy: 0.2283\n",
            "Epoch 9/15\n",
            "2346/2346 [==============================] - 9s 4ms/step - loss: 4.1661 - accuracy: 0.2265 - val_loss: 3.3074 - val_accuracy: 0.2292\n",
            "Epoch 10/15\n",
            "2346/2346 [==============================] - 9s 4ms/step - loss: 4.0801 - accuracy: 0.2262 - val_loss: 3.8269 - val_accuracy: 0.2280\n",
            "Epoch 11/15\n",
            "2346/2346 [==============================] - 9s 4ms/step - loss: 4.1784 - accuracy: 0.2261 - val_loss: 3.2282 - val_accuracy: 0.2266\n",
            "Epoch 12/15\n",
            "2346/2346 [==============================] - 9s 4ms/step - loss: 4.0542 - accuracy: 0.2259 - val_loss: 3.3845 - val_accuracy: 0.2278\n",
            "Epoch 13/15\n",
            "2346/2346 [==============================] - 9s 4ms/step - loss: 4.0488 - accuracy: 0.2257 - val_loss: 3.2524 - val_accuracy: 0.2277\n",
            "Epoch 14/15\n",
            "2346/2346 [==============================] - 9s 4ms/step - loss: 4.1396 - accuracy: 0.2255 - val_loss: 3.3626 - val_accuracy: 0.2275\n",
            "Epoch 15/15\n",
            "2346/2346 [==============================] - 9s 4ms/step - loss: 4.3422 - accuracy: 0.2268 - val_loss: 3.3262 - val_accuracy: 0.2263\n"
          ],
          "name": "stdout"
        },
        {
          "output_type": "execute_result",
          "data": {
            "text/plain": [
              "<tensorflow.python.keras.callbacks.History at 0x7f978a4260f0>"
            ]
          },
          "metadata": {
            "tags": []
          },
          "execution_count": 57
        }
      ]
    },
    {
      "cell_type": "code",
      "metadata": {
        "colab": {
          "base_uri": "https://localhost:8080/",
          "height": 624
        },
        "id": "ufcRpY4XyJSz",
        "outputId": "7f28674c-e545-4338-cbd0-d137bfb3fb45"
      },
      "source": [
        "y_pred = model.predict(X_test)\n",
        "y_pred =(y_pred>0.5)\n",
        "list(y_pred)\n",
        "\n",
        "cm = confusion_matrix(y_test, y_pred)\n",
        "plt.figure(figsize=(10,10))\n",
        "plt.title(\" confusion matrix for deep learning \")\n",
        "sns.heatmap(cm , annot =True , fmt=\"0.1f\")"
      ],
      "execution_count": 58,
      "outputs": [
        {
          "output_type": "execute_result",
          "data": {
            "text/plain": [
              "<matplotlib.axes._subplots.AxesSubplot at 0x7f972a385668>"
            ]
          },
          "metadata": {
            "tags": []
          },
          "execution_count": 58
        },
        {
          "output_type": "display_data",
          "data": {
            "image/png": "[encoded data removed]",
            "text/plain": [
              "<Figure size 720x720 with 2 Axes>"
            ]
          },
          "metadata": {
            "tags": [],
            "needs_background": "light"
          }
        }
      ]
    }
  ]
}